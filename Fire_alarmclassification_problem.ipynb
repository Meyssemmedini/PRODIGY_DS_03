{
  "cells": [
    {
      "cell_type": "markdown",
      "metadata": {
        "id": "view-in-github",
        "colab_type": "text"
      },
      "source": [
        "<a href=\"https://colab.research.google.com/github/Meyssemmedini/PRODIGY_DS_03/blob/main/Fire_alarmclassification_problem.ipynb\" target=\"_parent\"><img src=\"https://colab.research.google.com/assets/colab-badge.svg\" alt=\"Open In Colab\"/></a>"
      ]
    },
    {
      "cell_type": "markdown",
      "metadata": {
        "id": "-kJkWx7ctDqR"
      },
      "source": [
        "#classification problem"
      ]
    },
    {
      "cell_type": "markdown",
      "metadata": {
        "id": "II11OySttHxA"
      },
      "source": [
        "#Preliminary Steps"
      ]
    },
    {
      "cell_type": "markdown",
      "metadata": {
        "id": "WHUbI2lruw-O"
      },
      "source": [
        "##Data mounting"
      ]
    },
    {
      "cell_type": "code",
      "execution_count": null,
      "metadata": {
        "colab": {
          "base_uri": "https://localhost:8080/"
        },
        "id": "uZckBMkxrugH",
        "outputId": "414462e3-b38d-4eec-d3cd-80337165bb55"
      },
      "outputs": [
        {
          "output_type": "stream",
          "name": "stdout",
          "text": [
            "Mounted at /content/drive\n"
          ]
        }
      ],
      "source": [
        "#data mounting\n",
        "from google.colab import drive\n",
        "drive.mount('/content/drive')"
      ]
    },
    {
      "cell_type": "markdown",
      "metadata": {
        "id": "gRuixm8uuspw"
      },
      "source": [
        "##import packages"
      ]
    },
    {
      "cell_type": "code",
      "execution_count": null,
      "metadata": {
        "id": "5yGdl4ueuhwe"
      },
      "outputs": [],
      "source": [
        "# Import standard packages\n",
        "import pandas as pd\n",
        "import numpy as np\n",
        "import matplotlib.pyplot as plt\n",
        "import seaborn as sns\n",
        "# Import modeling tools\n",
        "from sklearn.model_selection import train_test_split\n",
        "from sklearn.compose import ColumnTransformer\n",
        "from sklearn.preprocessing import StandardScaler, OrdinalEncoder\n",
        "from sklearn.pipeline import make_pipeline\n",
        "from sklearn.impute import SimpleImputer\n",
        "from sklearn.tree import DecisionTreeClassifier\n",
        "from sklearn.linear_model import LogisticRegression\n",
        "from sklearn.neighbors import KNeighborsClassifier\n",
        "\n",
        "from sklearn.model_selection import GridSearchCV\n",
        "\n",
        "from sklearn.metrics import accuracy_score, precision_score, recall_score, classification_report, ConfusionMatrixDisplay\n",
        "\n"
      ]
    },
    {
      "cell_type": "code",
      "execution_count": null,
      "metadata": {
        "id": "BaZHmDohw_xV"
      },
      "outputs": [],
      "source": [
        "# set the default output to pandas\n",
        "from sklearn import set_config\n",
        "set_config(transform_output='pandas')\n",
        "#\n",
        "import warnings\n",
        "warnings.filterwarnings(\"ignore\")"
      ]
    },
    {
      "cell_type": "markdown",
      "metadata": {
        "id": "3nWw2HQNRl0H"
      },
      "source": [
        "##functions"
      ]
    },
    {
      "cell_type": "code",
      "execution_count": null,
      "metadata": {
        "id": "hYHyZZ2gRpBh"
      },
      "outputs": [],
      "source": [
        "def plot_numeric(df,col):\n",
        "  \"\"\"EDA function to plot a histogram and boxplot for the selected column\"\"\"\n",
        "  ## make the figure and axes sharing the same x-axis\n",
        "  fig, axes = plt.subplots(nrows=2, figsize=(10,5), sharex=True)\n",
        "\n",
        "  ## Use seaborn plots with ax=axes[i]\n",
        "  sns.histplot(data=df,x = col,ax = axes[0])\n",
        "  mean_value = df[col].mean()\n",
        "  axes[0].axvline(mean_value,color='red', ls='--',\n",
        "           label=f\"Mean Value = {mean_value:,.2f}\",);\n",
        "\n",
        "  med_value = df[col].median()\n",
        "  axes[0].axvline(med_value,color='black', ls='--',\n",
        "           label=f\"Median Value = {med_value:,.2f}\");\n",
        "\n",
        "  axes[0].legend();\n",
        "\n",
        "  sns.boxplot(data=df, x = col, ax = axes[1])\n",
        "\n",
        "  ## Updating title of top graph\n",
        "  axes[0].set_title(f'EDA for {col}')\n",
        "\n",
        "  ## Fixing any overlapping labels and showing\n",
        "  plt.tight_layout()\n",
        "  plt.show()"
      ]
    },
    {
      "cell_type": "code",
      "source": [
        "\n",
        "def print_evaluation_metrics(model_name, y_true_train, y_pred_train, y_true_test, y_pred_test):\n",
        "    # Calculate metrics for the training set\n",
        "    train_score = accuracy_score(y_true_train, y_pred_train)\n",
        "    train_rec = recall_score(y_true_train, y_pred_train)\n",
        "    train_prec = precision_score(y_true_train, y_pred_train)\n",
        "\n",
        "    # Calculate metrics for the test set\n",
        "    test_score = accuracy_score(y_true_test, y_pred_test)\n",
        "    test_rec = recall_score(y_true_test, y_pred_test)\n",
        "    test_prec = precision_score(y_true_test, y_pred_test)\n",
        "\n",
        "    # Print the model information\n",
        "    print(f'{model_name} Evaluation Metrics:')\n",
        "\n",
        "    # Print training set metrics\n",
        "    print('\\nTraining set Evals:')\n",
        "    print(f'Accuracy: {train_score:.3f}')\n",
        "    print(f'Recall: {train_rec:.3f}')\n",
        "    print(f'Precision: {train_prec:.3f}')\n",
        "\n",
        "    # Print a separator\n",
        "    print('\\n' + '='*30 + '\\n')\n",
        "\n",
        "    # Print test set metrics\n",
        "    print('Test set Evals:')\n",
        "    print(f'Accuracy: {test_score:.3f}')\n",
        "    print(f'Recall: {test_rec:.3f}')\n",
        "    print(f'Precision: {test_prec:.3f}')\n",
        "\n",
        "\n"
      ],
      "metadata": {
        "id": "RIT77RlFgSQw"
      },
      "execution_count": null,
      "outputs": []
    },
    {
      "cell_type": "markdown",
      "metadata": {
        "id": "It0jkB6Tw-o3"
      },
      "source": [
        "##data loading"
      ]
    },
    {
      "cell_type": "code",
      "execution_count": null,
      "metadata": {
        "colab": {
          "base_uri": "https://localhost:8080/",
          "height": 605
        },
        "id": "ze56jK-mxDts",
        "outputId": "05fdbaa9-5913-4894-d9d4-c7d5e9ec8182"
      },
      "outputs": [
        {
          "output_type": "stream",
          "name": "stdout",
          "text": [
            "<class 'pandas.core.frame.DataFrame'>\n",
            "RangeIndex: 62633 entries, 0 to 62632\n",
            "Data columns (total 16 columns):\n",
            " #   Column          Non-Null Count  Dtype  \n",
            "---  ------          --------------  -----  \n",
            " 0   Unnamed: 0      62633 non-null  int64  \n",
            " 1   Unnamed: 1      62633 non-null  int64  \n",
            " 2   UTC             62633 non-null  int64  \n",
            " 3   Temperature[C]  43843 non-null  float64\n",
            " 4   Humidity[%]     51985 non-null  float64\n",
            " 5   eCO2[ppm]       62633 non-null  int64  \n",
            " 6   Raw H2          47602 non-null  float64\n",
            " 7   Raw Ethanol     62633 non-null  object \n",
            " 8   Pressure[hPa]   62633 non-null  object \n",
            " 9   PM1.0           62633 non-null  float64\n",
            " 10  PM2.5           62633 non-null  float64\n",
            " 11  NC0.5           62633 non-null  float64\n",
            " 12  NC1.0           62633 non-null  float64\n",
            " 13  NC2.5           62633 non-null  float64\n",
            " 14  CNT             62633 non-null  int64  \n",
            " 15  Fire Alarm      62633 non-null  int64  \n",
            "dtypes: float64(8), int64(6), object(2)\n",
            "memory usage: 7.6+ MB\n"
          ]
        },
        {
          "output_type": "execute_result",
          "data": {
            "text/plain": [
              "   Unnamed: 0  Unnamed: 1         UTC  Temperature[C]  Humidity[%]  eCO2[ppm]  \\\n",
              "0           0           0  1655127852          19.117        56.52        400   \n",
              "1           1           1  1654777894             NaN        55.78        400   \n",
              "2           2           2  1654785729          26.160        51.93        406   \n",
              "3           3           3  1654773681          26.960        52.51        577   \n",
              "4           4           4  1654779348          19.860          NaN        400   \n",
              "\n",
              "    Raw H2 Raw Ethanol Pressure[hPa]  PM1.0  PM2.5  NC0.5  NC1.0  NC2.5  \\\n",
              "0  13314.0        High           med   1.71   1.78  11.77  1.835  0.041   \n",
              "1  12889.0         Low          High   1.71   1.78  11.79  1.838  0.042   \n",
              "2  12989.0         Low          High   1.95   2.03  13.43  2.095  0.047   \n",
              "3      NaN         Low          High   2.31   2.40  15.91  2.481  0.056   \n",
              "4  12910.0         Low          High   1.72   1.79  11.85  1.848  0.042   \n",
              "\n",
              "     CNT  Fire Alarm  \n",
              "0   1928           0  \n",
              "1  22541           1  \n",
              "2  20717           1  \n",
              "3  22852           1  \n",
              "4  14193           1  "
            ],
            "text/html": [
              "\n",
              "  <div id=\"df-279a7001-0ef2-4e71-975c-1e7cfc7bc9ee\" class=\"colab-df-container\">\n",
              "    <div>\n",
              "<style scoped>\n",
              "    .dataframe tbody tr th:only-of-type {\n",
              "        vertical-align: middle;\n",
              "    }\n",
              "\n",
              "    .dataframe tbody tr th {\n",
              "        vertical-align: top;\n",
              "    }\n",
              "\n",
              "    .dataframe thead th {\n",
              "        text-align: right;\n",
              "    }\n",
              "</style>\n",
              "<table border=\"1\" class=\"dataframe\">\n",
              "  <thead>\n",
              "    <tr style=\"text-align: right;\">\n",
              "      <th></th>\n",
              "      <th>Unnamed: 0</th>\n",
              "      <th>Unnamed: 1</th>\n",
              "      <th>UTC</th>\n",
              "      <th>Temperature[C]</th>\n",
              "      <th>Humidity[%]</th>\n",
              "      <th>eCO2[ppm]</th>\n",
              "      <th>Raw H2</th>\n",
              "      <th>Raw Ethanol</th>\n",
              "      <th>Pressure[hPa]</th>\n",
              "      <th>PM1.0</th>\n",
              "      <th>PM2.5</th>\n",
              "      <th>NC0.5</th>\n",
              "      <th>NC1.0</th>\n",
              "      <th>NC2.5</th>\n",
              "      <th>CNT</th>\n",
              "      <th>Fire Alarm</th>\n",
              "    </tr>\n",
              "  </thead>\n",
              "  <tbody>\n",
              "    <tr>\n",
              "      <th>0</th>\n",
              "      <td>0</td>\n",
              "      <td>0</td>\n",
              "      <td>1655127852</td>\n",
              "      <td>19.117</td>\n",
              "      <td>56.52</td>\n",
              "      <td>400</td>\n",
              "      <td>13314.0</td>\n",
              "      <td>High</td>\n",
              "      <td>med</td>\n",
              "      <td>1.71</td>\n",
              "      <td>1.78</td>\n",
              "      <td>11.77</td>\n",
              "      <td>1.835</td>\n",
              "      <td>0.041</td>\n",
              "      <td>1928</td>\n",
              "      <td>0</td>\n",
              "    </tr>\n",
              "    <tr>\n",
              "      <th>1</th>\n",
              "      <td>1</td>\n",
              "      <td>1</td>\n",
              "      <td>1654777894</td>\n",
              "      <td>NaN</td>\n",
              "      <td>55.78</td>\n",
              "      <td>400</td>\n",
              "      <td>12889.0</td>\n",
              "      <td>Low</td>\n",
              "      <td>High</td>\n",
              "      <td>1.71</td>\n",
              "      <td>1.78</td>\n",
              "      <td>11.79</td>\n",
              "      <td>1.838</td>\n",
              "      <td>0.042</td>\n",
              "      <td>22541</td>\n",
              "      <td>1</td>\n",
              "    </tr>\n",
              "    <tr>\n",
              "      <th>2</th>\n",
              "      <td>2</td>\n",
              "      <td>2</td>\n",
              "      <td>1654785729</td>\n",
              "      <td>26.160</td>\n",
              "      <td>51.93</td>\n",
              "      <td>406</td>\n",
              "      <td>12989.0</td>\n",
              "      <td>Low</td>\n",
              "      <td>High</td>\n",
              "      <td>1.95</td>\n",
              "      <td>2.03</td>\n",
              "      <td>13.43</td>\n",
              "      <td>2.095</td>\n",
              "      <td>0.047</td>\n",
              "      <td>20717</td>\n",
              "      <td>1</td>\n",
              "    </tr>\n",
              "    <tr>\n",
              "      <th>3</th>\n",
              "      <td>3</td>\n",
              "      <td>3</td>\n",
              "      <td>1654773681</td>\n",
              "      <td>26.960</td>\n",
              "      <td>52.51</td>\n",
              "      <td>577</td>\n",
              "      <td>NaN</td>\n",
              "      <td>Low</td>\n",
              "      <td>High</td>\n",
              "      <td>2.31</td>\n",
              "      <td>2.40</td>\n",
              "      <td>15.91</td>\n",
              "      <td>2.481</td>\n",
              "      <td>0.056</td>\n",
              "      <td>22852</td>\n",
              "      <td>1</td>\n",
              "    </tr>\n",
              "    <tr>\n",
              "      <th>4</th>\n",
              "      <td>4</td>\n",
              "      <td>4</td>\n",
              "      <td>1654779348</td>\n",
              "      <td>19.860</td>\n",
              "      <td>NaN</td>\n",
              "      <td>400</td>\n",
              "      <td>12910.0</td>\n",
              "      <td>Low</td>\n",
              "      <td>High</td>\n",
              "      <td>1.72</td>\n",
              "      <td>1.79</td>\n",
              "      <td>11.85</td>\n",
              "      <td>1.848</td>\n",
              "      <td>0.042</td>\n",
              "      <td>14193</td>\n",
              "      <td>1</td>\n",
              "    </tr>\n",
              "  </tbody>\n",
              "</table>\n",
              "</div>\n",
              "    <div class=\"colab-df-buttons\">\n",
              "\n",
              "  <div class=\"colab-df-container\">\n",
              "    <button class=\"colab-df-convert\" onclick=\"convertToInteractive('df-279a7001-0ef2-4e71-975c-1e7cfc7bc9ee')\"\n",
              "            title=\"Convert this dataframe to an interactive table.\"\n",
              "            style=\"display:none;\">\n",
              "\n",
              "  <svg xmlns=\"http://www.w3.org/2000/svg\" height=\"24px\" viewBox=\"0 -960 960 960\">\n",
              "    <path d=\"M120-120v-720h720v720H120Zm60-500h600v-160H180v160Zm220 220h160v-160H400v160Zm0 220h160v-160H400v160ZM180-400h160v-160H180v160Zm440 0h160v-160H620v160ZM180-180h160v-160H180v160Zm440 0h160v-160H620v160Z\"/>\n",
              "  </svg>\n",
              "    </button>\n",
              "\n",
              "  <style>\n",
              "    .colab-df-container {\n",
              "      display:flex;\n",
              "      gap: 12px;\n",
              "    }\n",
              "\n",
              "    .colab-df-convert {\n",
              "      background-color: #E8F0FE;\n",
              "      border: none;\n",
              "      border-radius: 50%;\n",
              "      cursor: pointer;\n",
              "      display: none;\n",
              "      fill: #1967D2;\n",
              "      height: 32px;\n",
              "      padding: 0 0 0 0;\n",
              "      width: 32px;\n",
              "    }\n",
              "\n",
              "    .colab-df-convert:hover {\n",
              "      background-color: #E2EBFA;\n",
              "      box-shadow: 0px 1px 2px rgba(60, 64, 67, 0.3), 0px 1px 3px 1px rgba(60, 64, 67, 0.15);\n",
              "      fill: #174EA6;\n",
              "    }\n",
              "\n",
              "    .colab-df-buttons div {\n",
              "      margin-bottom: 4px;\n",
              "    }\n",
              "\n",
              "    [theme=dark] .colab-df-convert {\n",
              "      background-color: #3B4455;\n",
              "      fill: #D2E3FC;\n",
              "    }\n",
              "\n",
              "    [theme=dark] .colab-df-convert:hover {\n",
              "      background-color: #434B5C;\n",
              "      box-shadow: 0px 1px 3px 1px rgba(0, 0, 0, 0.15);\n",
              "      filter: drop-shadow(0px 1px 2px rgba(0, 0, 0, 0.3));\n",
              "      fill: #FFFFFF;\n",
              "    }\n",
              "  </style>\n",
              "\n",
              "    <script>\n",
              "      const buttonEl =\n",
              "        document.querySelector('#df-279a7001-0ef2-4e71-975c-1e7cfc7bc9ee button.colab-df-convert');\n",
              "      buttonEl.style.display =\n",
              "        google.colab.kernel.accessAllowed ? 'block' : 'none';\n",
              "\n",
              "      async function convertToInteractive(key) {\n",
              "        const element = document.querySelector('#df-279a7001-0ef2-4e71-975c-1e7cfc7bc9ee');\n",
              "        const dataTable =\n",
              "          await google.colab.kernel.invokeFunction('convertToInteractive',\n",
              "                                                    [key], {});\n",
              "        if (!dataTable) return;\n",
              "\n",
              "        const docLinkHtml = 'Like what you see? Visit the ' +\n",
              "          '<a target=\"_blank\" href=https://colab.research.google.com/notebooks/data_table.ipynb>data table notebook</a>'\n",
              "          + ' to learn more about interactive tables.';\n",
              "        element.innerHTML = '';\n",
              "        dataTable['output_type'] = 'display_data';\n",
              "        await google.colab.output.renderOutput(dataTable, element);\n",
              "        const docLink = document.createElement('div');\n",
              "        docLink.innerHTML = docLinkHtml;\n",
              "        element.appendChild(docLink);\n",
              "      }\n",
              "    </script>\n",
              "  </div>\n",
              "\n",
              "\n",
              "<div id=\"df-f2089747-cfc0-4d27-b30f-f836adaf8429\">\n",
              "  <button class=\"colab-df-quickchart\" onclick=\"quickchart('df-f2089747-cfc0-4d27-b30f-f836adaf8429')\"\n",
              "            title=\"Suggest charts\"\n",
              "            style=\"display:none;\">\n",
              "\n",
              "<svg xmlns=\"http://www.w3.org/2000/svg\" height=\"24px\"viewBox=\"0 0 24 24\"\n",
              "     width=\"24px\">\n",
              "    <g>\n",
              "        <path d=\"M19 3H5c-1.1 0-2 .9-2 2v14c0 1.1.9 2 2 2h14c1.1 0 2-.9 2-2V5c0-1.1-.9-2-2-2zM9 17H7v-7h2v7zm4 0h-2V7h2v10zm4 0h-2v-4h2v4z\"/>\n",
              "    </g>\n",
              "</svg>\n",
              "  </button>\n",
              "\n",
              "<style>\n",
              "  .colab-df-quickchart {\n",
              "      --bg-color: #E8F0FE;\n",
              "      --fill-color: #1967D2;\n",
              "      --hover-bg-color: #E2EBFA;\n",
              "      --hover-fill-color: #174EA6;\n",
              "      --disabled-fill-color: #AAA;\n",
              "      --disabled-bg-color: #DDD;\n",
              "  }\n",
              "\n",
              "  [theme=dark] .colab-df-quickchart {\n",
              "      --bg-color: #3B4455;\n",
              "      --fill-color: #D2E3FC;\n",
              "      --hover-bg-color: #434B5C;\n",
              "      --hover-fill-color: #FFFFFF;\n",
              "      --disabled-bg-color: #3B4455;\n",
              "      --disabled-fill-color: #666;\n",
              "  }\n",
              "\n",
              "  .colab-df-quickchart {\n",
              "    background-color: var(--bg-color);\n",
              "    border: none;\n",
              "    border-radius: 50%;\n",
              "    cursor: pointer;\n",
              "    display: none;\n",
              "    fill: var(--fill-color);\n",
              "    height: 32px;\n",
              "    padding: 0;\n",
              "    width: 32px;\n",
              "  }\n",
              "\n",
              "  .colab-df-quickchart:hover {\n",
              "    background-color: var(--hover-bg-color);\n",
              "    box-shadow: 0 1px 2px rgba(60, 64, 67, 0.3), 0 1px 3px 1px rgba(60, 64, 67, 0.15);\n",
              "    fill: var(--button-hover-fill-color);\n",
              "  }\n",
              "\n",
              "  .colab-df-quickchart-complete:disabled,\n",
              "  .colab-df-quickchart-complete:disabled:hover {\n",
              "    background-color: var(--disabled-bg-color);\n",
              "    fill: var(--disabled-fill-color);\n",
              "    box-shadow: none;\n",
              "  }\n",
              "\n",
              "  .colab-df-spinner {\n",
              "    border: 2px solid var(--fill-color);\n",
              "    border-color: transparent;\n",
              "    border-bottom-color: var(--fill-color);\n",
              "    animation:\n",
              "      spin 1s steps(1) infinite;\n",
              "  }\n",
              "\n",
              "  @keyframes spin {\n",
              "    0% {\n",
              "      border-color: transparent;\n",
              "      border-bottom-color: var(--fill-color);\n",
              "      border-left-color: var(--fill-color);\n",
              "    }\n",
              "    20% {\n",
              "      border-color: transparent;\n",
              "      border-left-color: var(--fill-color);\n",
              "      border-top-color: var(--fill-color);\n",
              "    }\n",
              "    30% {\n",
              "      border-color: transparent;\n",
              "      border-left-color: var(--fill-color);\n",
              "      border-top-color: var(--fill-color);\n",
              "      border-right-color: var(--fill-color);\n",
              "    }\n",
              "    40% {\n",
              "      border-color: transparent;\n",
              "      border-right-color: var(--fill-color);\n",
              "      border-top-color: var(--fill-color);\n",
              "    }\n",
              "    60% {\n",
              "      border-color: transparent;\n",
              "      border-right-color: var(--fill-color);\n",
              "    }\n",
              "    80% {\n",
              "      border-color: transparent;\n",
              "      border-right-color: var(--fill-color);\n",
              "      border-bottom-color: var(--fill-color);\n",
              "    }\n",
              "    90% {\n",
              "      border-color: transparent;\n",
              "      border-bottom-color: var(--fill-color);\n",
              "    }\n",
              "  }\n",
              "</style>\n",
              "\n",
              "  <script>\n",
              "    async function quickchart(key) {\n",
              "      const quickchartButtonEl =\n",
              "        document.querySelector('#' + key + ' button');\n",
              "      quickchartButtonEl.disabled = true;  // To prevent multiple clicks.\n",
              "      quickchartButtonEl.classList.add('colab-df-spinner');\n",
              "      try {\n",
              "        const charts = await google.colab.kernel.invokeFunction(\n",
              "            'suggestCharts', [key], {});\n",
              "      } catch (error) {\n",
              "        console.error('Error during call to suggestCharts:', error);\n",
              "      }\n",
              "      quickchartButtonEl.classList.remove('colab-df-spinner');\n",
              "      quickchartButtonEl.classList.add('colab-df-quickchart-complete');\n",
              "    }\n",
              "    (() => {\n",
              "      let quickchartButtonEl =\n",
              "        document.querySelector('#df-f2089747-cfc0-4d27-b30f-f836adaf8429 button');\n",
              "      quickchartButtonEl.style.display =\n",
              "        google.colab.kernel.accessAllowed ? 'block' : 'none';\n",
              "    })();\n",
              "  </script>\n",
              "</div>\n",
              "    </div>\n",
              "  </div>\n"
            ]
          },
          "metadata": {},
          "execution_count": 6
        }
      ],
      "source": [
        "#read data\n",
        "df = pd.read_csv (\"https://docs.google.com/spreadsheets/d/e/2PACX-1vTAQMDlyQdVuWy9le6OcM14fIZdQKg0s_PXhWUYIjUoB_rFpOz9Sv0K05ryiIQkTezghYtkLj6maFCW/pub?gid=2097390352&single=true&output=csv\")\n",
        "df.info()\n",
        "df.head()\n"
      ]
    },
    {
      "cell_type": "code",
      "execution_count": null,
      "metadata": {
        "colab": {
          "base_uri": "https://localhost:8080/"
        },
        "id": "gIvox4KYyAjz",
        "outputId": "03cdb853-a929-4074-eccf-90ad2e5b0995"
      },
      "outputs": [
        {
          "output_type": "execute_result",
          "data": {
            "text/plain": [
              "(62633, 16)"
            ]
          },
          "metadata": {},
          "execution_count": 7
        }
      ],
      "source": [
        "#the dimensions of the Data\n",
        "df.shape"
      ]
    },
    {
      "cell_type": "markdown",
      "metadata": {
        "id": "FDU6BpN_1jxm"
      },
      "source": [
        "**Dictionary**\n",
        "\n",
        "- UTC:\n",
        "  - The timestamp or time at which the readings were recorded.\n",
        "- Temperature[C]:\n",
        "  - The temperature in degrees Celsius.\n",
        "- Humidity[%]:\n",
        "  - The percentage of humidity in the air.\n",
        "- eCO2[ppm]:\n",
        "  - The concentration of carbon dioxide in parts per million.\n",
        "- Raw H2:\n",
        "  - Measurement related to the levels of raw hydrogen.\n",
        "- Raw Ethanol:\n",
        "  - Measurement related to the levels of raw ethanol.\n",
        "- Pressure[hPa]:\n",
        "  - Atmospheric pressure in hectopascals.\n",
        "- PM1.0, PM2.5:\n",
        "  - Concentrations of particulate matter with sizes 1.0 and 2.5 micrometers.\n",
        "- NC0.5, NC1.0, NC2.5:\n",
        "  - Number concentrations of particles of different sizes (0.5, 1.0, 2.5 micrometers).\n",
        "- CNT:\n",
        "  - A count related to particles.\n",
        "- Fire Alarm:\n",
        "  - Indicates whether a fire alarm is triggered or not (binary status)."
      ]
    },
    {
      "cell_type": "markdown",
      "source": [
        "#Prepare the data for exploratory analysis purposes"
      ],
      "metadata": {
        "id": "Ypo-8ersxyh7"
      }
    },
    {
      "cell_type": "markdown",
      "metadata": {
        "id": "qAuDnBV4yGGr"
      },
      "source": [
        "##Data cleaning"
      ]
    },
    {
      "cell_type": "code",
      "execution_count": null,
      "metadata": {
        "id": "A13ZgOP4yadH"
      },
      "outputs": [],
      "source": [
        "#drpping uncessary columns\n",
        "df.drop(columns=['Unnamed: 0', 'Unnamed: 1'], inplace=True)"
      ]
    },
    {
      "cell_type": "code",
      "execution_count": null,
      "metadata": {
        "colab": {
          "base_uri": "https://localhost:8080/"
        },
        "id": "U_CxVivsyJZ5",
        "outputId": "e48b6d4e-7ef9-4c7a-a7a6-6d920a092f29"
      },
      "outputs": [
        {
          "output_type": "stream",
          "name": "stdout",
          "text": [
            "there is no duplicated rows in our dataframe\n"
          ]
        }
      ],
      "source": [
        "#Count the number of duplicate rows in a DataFrame.\n",
        "df.duplicated().sum()\n",
        "if df.duplicated().sum() == 0:\n",
        "  print(\"there is no duplicated rows in our dataframe\")"
      ]
    },
    {
      "cell_type": "markdown",
      "metadata": {
        "id": "3cQfR21LCFsL"
      },
      "source": [
        "###checking for inconsistencies"
      ]
    },
    {
      "cell_type": "code",
      "execution_count": null,
      "metadata": {
        "colab": {
          "base_uri": "https://localhost:8080/"
        },
        "id": "0Pr44cu9CFM6",
        "outputId": "26ac7e2d-df56-4f11-de2a-07f7cd6d495d"
      },
      "outputs": [
        {
          "output_type": "stream",
          "name": "stdout",
          "text": [
            "<class 'pandas.core.frame.DataFrame'>\n",
            "RangeIndex: 62633 entries, 0 to 62632\n",
            "Data columns (total 14 columns):\n",
            " #   Column          Non-Null Count  Dtype  \n",
            "---  ------          --------------  -----  \n",
            " 0   UTC             62633 non-null  int64  \n",
            " 1   Temperature[C]  43843 non-null  float64\n",
            " 2   Humidity[%]     51985 non-null  float64\n",
            " 3   eCO2[ppm]       62633 non-null  int64  \n",
            " 4   Raw H2          47602 non-null  float64\n",
            " 5   Raw Ethanol     62633 non-null  object \n",
            " 6   Pressure[hPa]   62633 non-null  object \n",
            " 7   PM1.0           62633 non-null  float64\n",
            " 8   PM2.5           62633 non-null  float64\n",
            " 9   NC0.5           62633 non-null  float64\n",
            " 10  NC1.0           62633 non-null  float64\n",
            " 11  NC2.5           62633 non-null  float64\n",
            " 12  CNT             62633 non-null  int64  \n",
            " 13  Fire Alarm      62633 non-null  int64  \n",
            "dtypes: float64(8), int64(4), object(2)\n",
            "memory usage: 6.7+ MB\n"
          ]
        }
      ],
      "source": [
        "#checking Data Types\n",
        "df.info()"
      ]
    },
    {
      "cell_type": "code",
      "execution_count": null,
      "metadata": {
        "colab": {
          "base_uri": "https://localhost:8080/"
        },
        "id": "M71tr8FsCWs9",
        "outputId": "813a9c04-0fe1-4acb-c780-259169ff2088"
      },
      "outputs": [
        {
          "output_type": "stream",
          "name": "stdout",
          "text": [
            "Value counts for Raw Ethanol:\n",
            "Low         27581\n",
            "Medium      13276\n",
            "low          7441\n",
            "High         6986\n",
            "medium       3622\n",
            "high         1893\n",
            "Very Low     1427\n",
            "very low      407\n",
            "Name: Raw Ethanol, dtype: int64\n",
            "\n",
            "\n",
            "Value counts for Pressure[hPa]:\n",
            "High    39303\n",
            "high    10688\n",
            "Med      9026\n",
            "med      2462\n",
            "Low       899\n",
            "low       255\n",
            "Name: Pressure[hPa], dtype: int64\n",
            "\n",
            "\n"
          ]
        }
      ],
      "source": [
        "for column in df.select_dtypes(include='object').columns:\n",
        "    print(f'Value counts for {column}:')\n",
        "    print(df[column].value_counts())\n",
        "    print('\\n')"
      ]
    },
    {
      "cell_type": "code",
      "execution_count": null,
      "metadata": {
        "id": "9C1R7OcrDNyF"
      },
      "outputs": [],
      "source": [
        "df['Raw Ethanol'] = df['Raw Ethanol'].replace({'low': 'Low',\n",
        "                                               'medium': 'Medium',\n",
        "                                               'high':'High',\n",
        "                                               'very low': 'Very Low'})\n",
        "df['Pressure[hPa]'] = df['Pressure[hPa]'].replace({'low': 'Low',\n",
        "                                               'med': 'Medium',\n",
        "                                               'high':'High',\n",
        "                                               'Med': 'Medium'})\n"
      ]
    },
    {
      "cell_type": "code",
      "execution_count": null,
      "metadata": {
        "colab": {
          "base_uri": "https://localhost:8080/",
          "height": 300
        },
        "id": "ROQP64XBFe3m",
        "outputId": "15de44f3-4943-4579-e560-caf625fca194"
      },
      "outputs": [
        {
          "output_type": "execute_result",
          "data": {
            "text/plain": [
              "                UTC  Temperature[C]   Humidity[%]     eCO2[ppm]        Raw H2  \\\n",
              "count  6.263300e+04    43843.000000  51985.000000  62633.000000  47602.000000   \n",
              "mean   1.654792e+09       15.952252     48.462203    670.008398  12943.810491   \n",
              "std    1.100006e+05       14.361454      9.368010   1905.840671    270.421548   \n",
              "min    1.654712e+09      -22.010000    -60.980000    400.000000  10668.000000   \n",
              "25%    1.654743e+09       10.932000     47.530000    400.000000  12831.000000   \n",
              "50%    1.654762e+09       20.124000     50.160000    400.000000  12924.000000   \n",
              "75%    1.654778e+09       25.415000     53.240000    438.000000  13109.000000   \n",
              "max    1.655130e+09       59.930000     75.200000  60000.000000  13803.000000   \n",
              "\n",
              "              PM1.0         PM2.5         NC0.5         NC1.0         NC2.5  \\\n",
              "count  62633.000000  62633.000000  62633.000000  62633.000000  62633.000000   \n",
              "mean     100.589507    184.458999    491.440068    203.576810     80.045255   \n",
              "std      922.502411   1976.258689   4265.560446   2214.685955   1083.357380   \n",
              "min        0.000000      0.000000      0.000000      0.000000      0.000000   \n",
              "25%        1.280000      1.340000      8.820000      1.384000      0.033000   \n",
              "50%        1.810000      1.880000     12.450000      1.943000      0.044000   \n",
              "75%        2.090000      2.180000     14.420000      2.249000      0.051000   \n",
              "max    14333.690000  45432.260000  61482.030000  51914.680000  30026.438000   \n",
              "\n",
              "                CNT    Fire Alarm  \n",
              "count  62633.000000  62633.000000  \n",
              "mean   10510.883943      0.714591  \n",
              "std     7598.035549      0.451612  \n",
              "min        0.000000      0.000000  \n",
              "25%     3625.000000      0.000000  \n",
              "50%     9335.000000      1.000000  \n",
              "75%    17164.000000      1.000000  \n",
              "max    24993.000000      1.000000  "
            ],
            "text/html": [
              "\n",
              "  <div id=\"df-dddb25e7-43fa-403b-ac18-05085af761c3\" class=\"colab-df-container\">\n",
              "    <div>\n",
              "<style scoped>\n",
              "    .dataframe tbody tr th:only-of-type {\n",
              "        vertical-align: middle;\n",
              "    }\n",
              "\n",
              "    .dataframe tbody tr th {\n",
              "        vertical-align: top;\n",
              "    }\n",
              "\n",
              "    .dataframe thead th {\n",
              "        text-align: right;\n",
              "    }\n",
              "</style>\n",
              "<table border=\"1\" class=\"dataframe\">\n",
              "  <thead>\n",
              "    <tr style=\"text-align: right;\">\n",
              "      <th></th>\n",
              "      <th>UTC</th>\n",
              "      <th>Temperature[C]</th>\n",
              "      <th>Humidity[%]</th>\n",
              "      <th>eCO2[ppm]</th>\n",
              "      <th>Raw H2</th>\n",
              "      <th>PM1.0</th>\n",
              "      <th>PM2.5</th>\n",
              "      <th>NC0.5</th>\n",
              "      <th>NC1.0</th>\n",
              "      <th>NC2.5</th>\n",
              "      <th>CNT</th>\n",
              "      <th>Fire Alarm</th>\n",
              "    </tr>\n",
              "  </thead>\n",
              "  <tbody>\n",
              "    <tr>\n",
              "      <th>count</th>\n",
              "      <td>6.263300e+04</td>\n",
              "      <td>43843.000000</td>\n",
              "      <td>51985.000000</td>\n",
              "      <td>62633.000000</td>\n",
              "      <td>47602.000000</td>\n",
              "      <td>62633.000000</td>\n",
              "      <td>62633.000000</td>\n",
              "      <td>62633.000000</td>\n",
              "      <td>62633.000000</td>\n",
              "      <td>62633.000000</td>\n",
              "      <td>62633.000000</td>\n",
              "      <td>62633.000000</td>\n",
              "    </tr>\n",
              "    <tr>\n",
              "      <th>mean</th>\n",
              "      <td>1.654792e+09</td>\n",
              "      <td>15.952252</td>\n",
              "      <td>48.462203</td>\n",
              "      <td>670.008398</td>\n",
              "      <td>12943.810491</td>\n",
              "      <td>100.589507</td>\n",
              "      <td>184.458999</td>\n",
              "      <td>491.440068</td>\n",
              "      <td>203.576810</td>\n",
              "      <td>80.045255</td>\n",
              "      <td>10510.883943</td>\n",
              "      <td>0.714591</td>\n",
              "    </tr>\n",
              "    <tr>\n",
              "      <th>std</th>\n",
              "      <td>1.100006e+05</td>\n",
              "      <td>14.361454</td>\n",
              "      <td>9.368010</td>\n",
              "      <td>1905.840671</td>\n",
              "      <td>270.421548</td>\n",
              "      <td>922.502411</td>\n",
              "      <td>1976.258689</td>\n",
              "      <td>4265.560446</td>\n",
              "      <td>2214.685955</td>\n",
              "      <td>1083.357380</td>\n",
              "      <td>7598.035549</td>\n",
              "      <td>0.451612</td>\n",
              "    </tr>\n",
              "    <tr>\n",
              "      <th>min</th>\n",
              "      <td>1.654712e+09</td>\n",
              "      <td>-22.010000</td>\n",
              "      <td>-60.980000</td>\n",
              "      <td>400.000000</td>\n",
              "      <td>10668.000000</td>\n",
              "      <td>0.000000</td>\n",
              "      <td>0.000000</td>\n",
              "      <td>0.000000</td>\n",
              "      <td>0.000000</td>\n",
              "      <td>0.000000</td>\n",
              "      <td>0.000000</td>\n",
              "      <td>0.000000</td>\n",
              "    </tr>\n",
              "    <tr>\n",
              "      <th>25%</th>\n",
              "      <td>1.654743e+09</td>\n",
              "      <td>10.932000</td>\n",
              "      <td>47.530000</td>\n",
              "      <td>400.000000</td>\n",
              "      <td>12831.000000</td>\n",
              "      <td>1.280000</td>\n",
              "      <td>1.340000</td>\n",
              "      <td>8.820000</td>\n",
              "      <td>1.384000</td>\n",
              "      <td>0.033000</td>\n",
              "      <td>3625.000000</td>\n",
              "      <td>0.000000</td>\n",
              "    </tr>\n",
              "    <tr>\n",
              "      <th>50%</th>\n",
              "      <td>1.654762e+09</td>\n",
              "      <td>20.124000</td>\n",
              "      <td>50.160000</td>\n",
              "      <td>400.000000</td>\n",
              "      <td>12924.000000</td>\n",
              "      <td>1.810000</td>\n",
              "      <td>1.880000</td>\n",
              "      <td>12.450000</td>\n",
              "      <td>1.943000</td>\n",
              "      <td>0.044000</td>\n",
              "      <td>9335.000000</td>\n",
              "      <td>1.000000</td>\n",
              "    </tr>\n",
              "    <tr>\n",
              "      <th>75%</th>\n",
              "      <td>1.654778e+09</td>\n",
              "      <td>25.415000</td>\n",
              "      <td>53.240000</td>\n",
              "      <td>438.000000</td>\n",
              "      <td>13109.000000</td>\n",
              "      <td>2.090000</td>\n",
              "      <td>2.180000</td>\n",
              "      <td>14.420000</td>\n",
              "      <td>2.249000</td>\n",
              "      <td>0.051000</td>\n",
              "      <td>17164.000000</td>\n",
              "      <td>1.000000</td>\n",
              "    </tr>\n",
              "    <tr>\n",
              "      <th>max</th>\n",
              "      <td>1.655130e+09</td>\n",
              "      <td>59.930000</td>\n",
              "      <td>75.200000</td>\n",
              "      <td>60000.000000</td>\n",
              "      <td>13803.000000</td>\n",
              "      <td>14333.690000</td>\n",
              "      <td>45432.260000</td>\n",
              "      <td>61482.030000</td>\n",
              "      <td>51914.680000</td>\n",
              "      <td>30026.438000</td>\n",
              "      <td>24993.000000</td>\n",
              "      <td>1.000000</td>\n",
              "    </tr>\n",
              "  </tbody>\n",
              "</table>\n",
              "</div>\n",
              "    <div class=\"colab-df-buttons\">\n",
              "\n",
              "  <div class=\"colab-df-container\">\n",
              "    <button class=\"colab-df-convert\" onclick=\"convertToInteractive('df-dddb25e7-43fa-403b-ac18-05085af761c3')\"\n",
              "            title=\"Convert this dataframe to an interactive table.\"\n",
              "            style=\"display:none;\">\n",
              "\n",
              "  <svg xmlns=\"http://www.w3.org/2000/svg\" height=\"24px\" viewBox=\"0 -960 960 960\">\n",
              "    <path d=\"M120-120v-720h720v720H120Zm60-500h600v-160H180v160Zm220 220h160v-160H400v160Zm0 220h160v-160H400v160ZM180-400h160v-160H180v160Zm440 0h160v-160H620v160ZM180-180h160v-160H180v160Zm440 0h160v-160H620v160Z\"/>\n",
              "  </svg>\n",
              "    </button>\n",
              "\n",
              "  <style>\n",
              "    .colab-df-container {\n",
              "      display:flex;\n",
              "      gap: 12px;\n",
              "    }\n",
              "\n",
              "    .colab-df-convert {\n",
              "      background-color: #E8F0FE;\n",
              "      border: none;\n",
              "      border-radius: 50%;\n",
              "      cursor: pointer;\n",
              "      display: none;\n",
              "      fill: #1967D2;\n",
              "      height: 32px;\n",
              "      padding: 0 0 0 0;\n",
              "      width: 32px;\n",
              "    }\n",
              "\n",
              "    .colab-df-convert:hover {\n",
              "      background-color: #E2EBFA;\n",
              "      box-shadow: 0px 1px 2px rgba(60, 64, 67, 0.3), 0px 1px 3px 1px rgba(60, 64, 67, 0.15);\n",
              "      fill: #174EA6;\n",
              "    }\n",
              "\n",
              "    .colab-df-buttons div {\n",
              "      margin-bottom: 4px;\n",
              "    }\n",
              "\n",
              "    [theme=dark] .colab-df-convert {\n",
              "      background-color: #3B4455;\n",
              "      fill: #D2E3FC;\n",
              "    }\n",
              "\n",
              "    [theme=dark] .colab-df-convert:hover {\n",
              "      background-color: #434B5C;\n",
              "      box-shadow: 0px 1px 3px 1px rgba(0, 0, 0, 0.15);\n",
              "      filter: drop-shadow(0px 1px 2px rgba(0, 0, 0, 0.3));\n",
              "      fill: #FFFFFF;\n",
              "    }\n",
              "  </style>\n",
              "\n",
              "    <script>\n",
              "      const buttonEl =\n",
              "        document.querySelector('#df-dddb25e7-43fa-403b-ac18-05085af761c3 button.colab-df-convert');\n",
              "      buttonEl.style.display =\n",
              "        google.colab.kernel.accessAllowed ? 'block' : 'none';\n",
              "\n",
              "      async function convertToInteractive(key) {\n",
              "        const element = document.querySelector('#df-dddb25e7-43fa-403b-ac18-05085af761c3');\n",
              "        const dataTable =\n",
              "          await google.colab.kernel.invokeFunction('convertToInteractive',\n",
              "                                                    [key], {});\n",
              "        if (!dataTable) return;\n",
              "\n",
              "        const docLinkHtml = 'Like what you see? Visit the ' +\n",
              "          '<a target=\"_blank\" href=https://colab.research.google.com/notebooks/data_table.ipynb>data table notebook</a>'\n",
              "          + ' to learn more about interactive tables.';\n",
              "        element.innerHTML = '';\n",
              "        dataTable['output_type'] = 'display_data';\n",
              "        await google.colab.output.renderOutput(dataTable, element);\n",
              "        const docLink = document.createElement('div');\n",
              "        docLink.innerHTML = docLinkHtml;\n",
              "        element.appendChild(docLink);\n",
              "      }\n",
              "    </script>\n",
              "  </div>\n",
              "\n",
              "\n",
              "<div id=\"df-a813adef-cc35-4682-b162-4046cc68b5a9\">\n",
              "  <button class=\"colab-df-quickchart\" onclick=\"quickchart('df-a813adef-cc35-4682-b162-4046cc68b5a9')\"\n",
              "            title=\"Suggest charts\"\n",
              "            style=\"display:none;\">\n",
              "\n",
              "<svg xmlns=\"http://www.w3.org/2000/svg\" height=\"24px\"viewBox=\"0 0 24 24\"\n",
              "     width=\"24px\">\n",
              "    <g>\n",
              "        <path d=\"M19 3H5c-1.1 0-2 .9-2 2v14c0 1.1.9 2 2 2h14c1.1 0 2-.9 2-2V5c0-1.1-.9-2-2-2zM9 17H7v-7h2v7zm4 0h-2V7h2v10zm4 0h-2v-4h2v4z\"/>\n",
              "    </g>\n",
              "</svg>\n",
              "  </button>\n",
              "\n",
              "<style>\n",
              "  .colab-df-quickchart {\n",
              "      --bg-color: #E8F0FE;\n",
              "      --fill-color: #1967D2;\n",
              "      --hover-bg-color: #E2EBFA;\n",
              "      --hover-fill-color: #174EA6;\n",
              "      --disabled-fill-color: #AAA;\n",
              "      --disabled-bg-color: #DDD;\n",
              "  }\n",
              "\n",
              "  [theme=dark] .colab-df-quickchart {\n",
              "      --bg-color: #3B4455;\n",
              "      --fill-color: #D2E3FC;\n",
              "      --hover-bg-color: #434B5C;\n",
              "      --hover-fill-color: #FFFFFF;\n",
              "      --disabled-bg-color: #3B4455;\n",
              "      --disabled-fill-color: #666;\n",
              "  }\n",
              "\n",
              "  .colab-df-quickchart {\n",
              "    background-color: var(--bg-color);\n",
              "    border: none;\n",
              "    border-radius: 50%;\n",
              "    cursor: pointer;\n",
              "    display: none;\n",
              "    fill: var(--fill-color);\n",
              "    height: 32px;\n",
              "    padding: 0;\n",
              "    width: 32px;\n",
              "  }\n",
              "\n",
              "  .colab-df-quickchart:hover {\n",
              "    background-color: var(--hover-bg-color);\n",
              "    box-shadow: 0 1px 2px rgba(60, 64, 67, 0.3), 0 1px 3px 1px rgba(60, 64, 67, 0.15);\n",
              "    fill: var(--button-hover-fill-color);\n",
              "  }\n",
              "\n",
              "  .colab-df-quickchart-complete:disabled,\n",
              "  .colab-df-quickchart-complete:disabled:hover {\n",
              "    background-color: var(--disabled-bg-color);\n",
              "    fill: var(--disabled-fill-color);\n",
              "    box-shadow: none;\n",
              "  }\n",
              "\n",
              "  .colab-df-spinner {\n",
              "    border: 2px solid var(--fill-color);\n",
              "    border-color: transparent;\n",
              "    border-bottom-color: var(--fill-color);\n",
              "    animation:\n",
              "      spin 1s steps(1) infinite;\n",
              "  }\n",
              "\n",
              "  @keyframes spin {\n",
              "    0% {\n",
              "      border-color: transparent;\n",
              "      border-bottom-color: var(--fill-color);\n",
              "      border-left-color: var(--fill-color);\n",
              "    }\n",
              "    20% {\n",
              "      border-color: transparent;\n",
              "      border-left-color: var(--fill-color);\n",
              "      border-top-color: var(--fill-color);\n",
              "    }\n",
              "    30% {\n",
              "      border-color: transparent;\n",
              "      border-left-color: var(--fill-color);\n",
              "      border-top-color: var(--fill-color);\n",
              "      border-right-color: var(--fill-color);\n",
              "    }\n",
              "    40% {\n",
              "      border-color: transparent;\n",
              "      border-right-color: var(--fill-color);\n",
              "      border-top-color: var(--fill-color);\n",
              "    }\n",
              "    60% {\n",
              "      border-color: transparent;\n",
              "      border-right-color: var(--fill-color);\n",
              "    }\n",
              "    80% {\n",
              "      border-color: transparent;\n",
              "      border-right-color: var(--fill-color);\n",
              "      border-bottom-color: var(--fill-color);\n",
              "    }\n",
              "    90% {\n",
              "      border-color: transparent;\n",
              "      border-bottom-color: var(--fill-color);\n",
              "    }\n",
              "  }\n",
              "</style>\n",
              "\n",
              "  <script>\n",
              "    async function quickchart(key) {\n",
              "      const quickchartButtonEl =\n",
              "        document.querySelector('#' + key + ' button');\n",
              "      quickchartButtonEl.disabled = true;  // To prevent multiple clicks.\n",
              "      quickchartButtonEl.classList.add('colab-df-spinner');\n",
              "      try {\n",
              "        const charts = await google.colab.kernel.invokeFunction(\n",
              "            'suggestCharts', [key], {});\n",
              "      } catch (error) {\n",
              "        console.error('Error during call to suggestCharts:', error);\n",
              "      }\n",
              "      quickchartButtonEl.classList.remove('colab-df-spinner');\n",
              "      quickchartButtonEl.classList.add('colab-df-quickchart-complete');\n",
              "    }\n",
              "    (() => {\n",
              "      let quickchartButtonEl =\n",
              "        document.querySelector('#df-a813adef-cc35-4682-b162-4046cc68b5a9 button');\n",
              "      quickchartButtonEl.style.display =\n",
              "        google.colab.kernel.accessAllowed ? 'block' : 'none';\n",
              "    })();\n",
              "  </script>\n",
              "</div>\n",
              "    </div>\n",
              "  </div>\n"
            ]
          },
          "metadata": {},
          "execution_count": 13
        }
      ],
      "source": [
        "#checking impossible values in numeric columns\n",
        "df.describe()"
      ]
    },
    {
      "cell_type": "markdown",
      "metadata": {
        "id": "mCTvTjiUF0qt"
      },
      "source": [
        "Humidity cannot be negative"
      ]
    },
    {
      "cell_type": "code",
      "execution_count": null,
      "metadata": {
        "colab": {
          "base_uri": "https://localhost:8080/"
        },
        "id": "Vk7NZiByGPBf",
        "outputId": "63a035ef-5328-474c-9143-3a5e0ce268f7"
      },
      "outputs": [
        {
          "output_type": "execute_result",
          "data": {
            "text/plain": [
              "count    51985.000000\n",
              "mean        48.559106\n",
              "std          8.851991\n",
              "min         10.740000\n",
              "25%         47.540000\n",
              "50%         50.160000\n",
              "75%         53.250000\n",
              "max         75.200000\n",
              "Name: Humidity[%], dtype: float64"
            ]
          },
          "metadata": {},
          "execution_count": 14
        }
      ],
      "source": [
        "# Make the humidity values positive\n",
        "df['Humidity[%]'] = df['Humidity[%]'].abs()\n",
        "df['Humidity[%]'].describe()"
      ]
    },
    {
      "cell_type": "code",
      "execution_count": null,
      "metadata": {
        "colab": {
          "base_uri": "https://localhost:8080/"
        },
        "id": "t0W57_H2hE8f",
        "outputId": "fe9a3f97-46ad-4a7b-9838-11c92b8f317f"
      },
      "outputs": [
        {
          "output_type": "stream",
          "name": "stdout",
          "text": [
            "<class 'pandas.core.frame.DataFrame'>\n",
            "RangeIndex: 62633 entries, 0 to 62632\n",
            "Data columns (total 14 columns):\n",
            " #   Column          Non-Null Count  Dtype  \n",
            "---  ------          --------------  -----  \n",
            " 0   UTC             62633 non-null  int64  \n",
            " 1   Temperature[C]  43843 non-null  float64\n",
            " 2   Humidity[%]     51985 non-null  float64\n",
            " 3   eCO2[ppm]       62633 non-null  int64  \n",
            " 4   Raw H2          47602 non-null  float64\n",
            " 5   Raw Ethanol     62633 non-null  object \n",
            " 6   Pressure[hPa]   62633 non-null  object \n",
            " 7   PM1.0           62633 non-null  float64\n",
            " 8   PM2.5           62633 non-null  float64\n",
            " 9   NC0.5           62633 non-null  float64\n",
            " 10  NC1.0           62633 non-null  float64\n",
            " 11  NC2.5           62633 non-null  float64\n",
            " 12  CNT             62633 non-null  int64  \n",
            " 13  Fire Alarm      62633 non-null  int64  \n",
            "dtypes: float64(8), int64(4), object(2)\n",
            "memory usage: 6.7+ MB\n"
          ]
        }
      ],
      "source": [
        "#checking Data Types\n",
        "df.info()"
      ]
    },
    {
      "cell_type": "markdown",
      "metadata": {
        "id": "WDQjIiAihSoO"
      },
      "source": [
        "data types make sense according to the dict"
      ]
    },
    {
      "cell_type": "markdown",
      "metadata": {
        "id": "MIUz6tZSHkE5"
      },
      "source": [
        "###dealing with missing values"
      ]
    },
    {
      "cell_type": "code",
      "execution_count": null,
      "metadata": {
        "colab": {
          "base_uri": "https://localhost:8080/"
        },
        "id": "JVbWeEq5yPj0",
        "outputId": "422ff4f1-e264-44b7-bdd0-f5c3c178b18e"
      },
      "outputs": [
        {
          "output_type": "execute_result",
          "data": {
            "text/plain": [
              "Temperature[C]    18790\n",
              "Humidity[%]       10648\n",
              "Raw H2            15031\n",
              "dtype: int64"
            ]
          },
          "metadata": {},
          "execution_count": 16
        }
      ],
      "source": [
        "#identifiying the missing data\n",
        "df.isna().sum()[df.isna().sum() > 0]"
      ]
    },
    {
      "cell_type": "code",
      "execution_count": null,
      "metadata": {
        "colab": {
          "base_uri": "https://localhost:8080/"
        },
        "id": "DTAlZAYu2wCw",
        "outputId": "ed006463-ed08-4f75-8284-33dd3e9daaa2"
      },
      "outputs": [
        {
          "output_type": "execute_result",
          "data": {
            "text/plain": [
              "Temperature[C]    30.000160\n",
              "Humidity[%]       17.000623\n",
              "Raw H2            23.998531\n",
              "dtype: float64"
            ]
          },
          "metadata": {},
          "execution_count": 17
        }
      ],
      "source": [
        "#checking the % of missing val in each feature\n",
        "(df.isna().sum() / len(df) * 100)[df.isna().sum() > 0]"
      ]
    },
    {
      "cell_type": "markdown",
      "metadata": {
        "id": "bUJaXKM0_6F7"
      },
      "source": [
        "###imputing missing data"
      ]
    },
    {
      "cell_type": "markdown",
      "metadata": {
        "id": "FMv6qt6GUPan"
      },
      "source": [
        "\n",
        "\n",
        "####1. for Temperature[C]"
      ]
    },
    {
      "cell_type": "code",
      "execution_count": null,
      "metadata": {
        "colab": {
          "base_uri": "https://localhost:8080/",
          "height": 507
        },
        "id": "0-Qb2X8aNEVB",
        "outputId": "03458a61-39f6-4bb8-cc38-4de0c6492a94"
      },
      "outputs": [
        {
          "output_type": "display_data",
          "data": {
            "text/plain": [
              "<Figure size 1000x500 with 2 Axes>"
            ],
            "image/png": "[encoded data removed]"
          },
          "metadata": {}
        }
      ],
      "source": [
        "plot_numeric(df,\"Temperature[C]\")"
      ]
    },
    {
      "cell_type": "markdown",
      "metadata": {
        "id": "4fB6-W00PtAC"
      },
      "source": [
        "\n",
        "The 'Temperature[C]' exhibits a moderate negative skewness and the potential presence of outliers.\n",
        "\n",
        "- **Imputation Method: Median Imputation**\n",
        "\n",
        "\n",
        "- **Justification:**\n",
        "\n",
        "  - Robustness to Skewed Distributions: Median imputation is inherently robust to skewed distributions, aligning well with the observed negative skewness in the temperature data.\n",
        "\n",
        "  - Handling Outliers: While acknowledging the potential impact of outliers, especially considering the moderate negative skewness, a simplified solution is preferred. Therefore, median imputation is chosen over more complex outlier-handling techniques, such as the interquartile range (IQR) method.\n",
        "\n",
        "  - Simplicity: The choice of median imputation balances robustness and simplicity, providing an effective and straightforward solution for handling missing values."
      ]
    },
    {
      "cell_type": "code",
      "execution_count": null,
      "metadata": {
        "colab": {
          "base_uri": "https://localhost:8080/"
        },
        "id": "esbekFMxPsXT",
        "outputId": "58cd52e3-985a-4e80-ca79-6c12da04285e"
      },
      "outputs": [
        {
          "output_type": "execute_result",
          "data": {
            "text/plain": [
              "0"
            ]
          },
          "metadata": {},
          "execution_count": 19
        }
      ],
      "source": [
        "df['Temperature[C]'].fillna(df['Temperature[C]'].median(), inplace = True)\n",
        "df['Temperature[C]'].isna().sum()"
      ]
    },
    {
      "cell_type": "markdown",
      "metadata": {
        "id": "DndzkIP-UX1p"
      },
      "source": [
        "####2. Humidity [%]"
      ]
    },
    {
      "cell_type": "code",
      "execution_count": null,
      "metadata": {
        "colab": {
          "base_uri": "https://localhost:8080/",
          "height": 507
        },
        "id": "lvt7C2XrTsCu",
        "outputId": "cef50571-b127-4f07-9aac-0276a435b27c"
      },
      "outputs": [
        {
          "output_type": "display_data",
          "data": {
            "text/plain": [
              "<Figure size 1000x500 with 2 Axes>"
            ],
            "image/png": "[encoded data removed]"
          },
          "metadata": {}
        }
      ],
      "source": [
        "plot_numeric(df,\"Humidity[%]\")"
      ]
    },
    {
      "cell_type": "markdown",
      "metadata": {
        "id": "1xlMgPzfTJAS"
      },
      "source": [
        "\n",
        "The 'Humidity[%]' distribution is observed to be symmetric and bimodal.\n",
        "\n",
        "**Imputation Method: Mean Imputation**\n",
        "- Justification:\n",
        "\n",
        "  - Symmetry and Bimodality: The distribution's symmetry, along with its bimodal nature, indicates a balanced spread of values around the central tendency. In such cases, mean imputation is a suitable choice to provide a representative estimate for the missing values.\n",
        "\n",
        "  - Robustness to Symmetric Distributions: Mean imputation is inherently robust to symmetric distributions, as it leverages the central tendency without being significantly influenced by outliers or skewed tails.\n",
        "\n",
        " - Handling Outliers: While acknowledging the presence of potential outliers, the decision is made to opt for mean imputation for simplicity reasons. This choice avoids the complexity associated with more advanced outlier-handling techniques, providing a straightforward and effective solution."
      ]
    },
    {
      "cell_type": "code",
      "execution_count": null,
      "metadata": {
        "colab": {
          "base_uri": "https://localhost:8080/"
        },
        "id": "LDgeimOcTIQM",
        "outputId": "d80773db-df92-44f6-c36b-f1eff5b6e2ec"
      },
      "outputs": [
        {
          "output_type": "execute_result",
          "data": {
            "text/plain": [
              "0"
            ]
          },
          "metadata": {},
          "execution_count": 21
        }
      ],
      "source": [
        "df['Humidity[%]'].fillna(df['Humidity[%]'].mean(), inplace = True)\n",
        "df['Humidity[%]'].isna().sum()"
      ]
    },
    {
      "cell_type": "markdown",
      "metadata": {
        "id": "wdaqvEO8UdcN"
      },
      "source": [
        "####3. for RAW H2"
      ]
    },
    {
      "cell_type": "code",
      "execution_count": null,
      "metadata": {
        "colab": {
          "base_uri": "https://localhost:8080/",
          "height": 507
        },
        "id": "G80LAKEuU9yO",
        "outputId": "cb419988-79ed-47e1-c761-b4bba5a38671"
      },
      "outputs": [
        {
          "output_type": "display_data",
          "data": {
            "text/plain": [
              "<Figure size 1000x500 with 2 Axes>"
            ],
            "image/png": "[encoded data removed]"
          },
          "metadata": {}
        }
      ],
      "source": [
        "plot_numeric(df,\"Raw H2\")"
      ]
    },
    {
      "cell_type": "markdown",
      "metadata": {
        "id": "F1pWK9oHZbk4"
      },
      "source": [
        "\"The 'Raw H2' distribution exhibits a positive skewness and potential outliers.\n",
        "\n",
        "**Imputation Method: Median Imputation**\n",
        "- Justification:\n",
        "\n",
        "  - positive Skewness: The positive skewness observed in the 'Raw H2' distribution suggests an asymmetric spread of values, making median imputation a suitable choice. Median imputation is robust to skewed distributions and less influenced by extreme values.\n",
        "\n",
        "  - Handling Outliers: Acknowledging the potential presence of outliers, the decision is made to opt for median imputation. This choice prioritizes simplicity over more intricate outlier-handling methods, providing an effective solution for addressing missing values.\n",
        "\n",
        "  - Robustness: Median imputation ensures robustness to the negative skewness and potential outliers, offering a stable estimate of central tendency in the presence of skewed data."
      ]
    },
    {
      "cell_type": "code",
      "execution_count": null,
      "metadata": {
        "colab": {
          "base_uri": "https://localhost:8080/"
        },
        "id": "cdtIKe08aWrk",
        "outputId": "98d67113-3a61-4e29-fc68-22be100558b5"
      },
      "outputs": [
        {
          "output_type": "execute_result",
          "data": {
            "text/plain": [
              "0"
            ]
          },
          "metadata": {},
          "execution_count": 23
        }
      ],
      "source": [
        "df['Raw H2'].fillna(df['Raw H2'].median(), inplace = True)\n",
        "df['Raw H2'].isna().sum()"
      ]
    },
    {
      "cell_type": "markdown",
      "metadata": {
        "id": "kBfVDASSa7iJ"
      },
      "source": [
        "## data visualization & Analysis"
      ]
    },
    {
      "cell_type": "code",
      "execution_count": null,
      "metadata": {
        "colab": {
          "base_uri": "https://localhost:8080/",
          "height": 793
        },
        "id": "mKTkvYI7mVYL",
        "outputId": "ae7a8e3d-3367-4a20-e3e1-bf3ad181af2d"
      },
      "outputs": [
        {
          "output_type": "display_data",
          "data": {
            "text/plain": [
              "<Figure size 1500x800 with 2 Axes>"
            ],
            "image/png": "[encoded data removed]"
          },
          "metadata": {}
        }
      ],
      "source": [
        "numerical_columns = df.select_dtypes(include=['number']).columns\n",
        "corr_matrix = df[numerical_columns].corr()\n",
        "plt.figure(figsize=(15, 8))\n",
        "sns.heatmap(corr_matrix, annot=True, cmap='Greens', linewidths=.5)\n",
        "plt.title('Correlation Heatmap of Numerical Variables')\n",
        "plt.show()\n"
      ]
    },
    {
      "cell_type": "code",
      "source": [
        "# Calculate correlation coefficients\n",
        "correlation_with_fire_alarm = df[numerical_columns].corr()['Fire Alarm'].drop('Fire Alarm')\n",
        "\n",
        "# Bar Plot: Correlation with Fire Alarm\n",
        "plt.figure(figsize=(10, 6))\n",
        "sns.barplot(x=correlation_with_fire_alarm.index, y=correlation_with_fire_alarm.values, palette='coolwarm')\n",
        "plt.title('Correlation with Fire Alarm')\n",
        "plt.xlabel('Features')\n",
        "plt.ylabel('Correlation Coefficient')\n",
        "plt.xticks(rotation=45, ha='right')\n",
        "plt.show()\n"
      ],
      "metadata": {
        "colab": {
          "base_uri": "https://localhost:8080/",
          "height": 637
        },
        "id": "j8rUzBZmD1j3",
        "outputId": "7a203726-1d75-4680-c5b9-20022ab33f78"
      },
      "execution_count": null,
      "outputs": [
        {
          "output_type": "display_data",
          "data": {
            "text/plain": [
              "<Figure size 1000x600 with 1 Axes>"
            ],
            "image/png": "[encoded data removed]"
          },
          "metadata": {}
        }
      ]
    },
    {
      "cell_type": "code",
      "execution_count": null,
      "metadata": {
        "colab": {
          "base_uri": "https://localhost:8080/"
        },
        "id": "RdSwiM4X9Z0i",
        "outputId": "7571747f-45f3-4b6b-a319-030d1034daaf"
      },
      "outputs": [
        {
          "output_type": "execute_result",
          "data": {
            "text/plain": [
              "Index(['UTC', 'Temperature[C]', 'Humidity[%]', 'eCO2[ppm]', 'Raw H2',\n",
              "       'Raw Ethanol', 'Pressure[hPa]', 'PM1.0', 'PM2.5', 'NC0.5', 'NC1.0',\n",
              "       'NC2.5', 'CNT', 'Fire Alarm'],\n",
              "      dtype='object')"
            ]
          },
          "metadata": {},
          "execution_count": 26
        }
      ],
      "source": [
        "df.columns"
      ]
    },
    {
      "cell_type": "code",
      "execution_count": null,
      "metadata": {
        "colab": {
          "base_uri": "https://localhost:8080/",
          "height": 535
        },
        "id": "4aoZDbYk8d9L",
        "outputId": "b46422af-dcb4-4d5b-a138-a665809b3bc2"
      },
      "outputs": [
        {
          "output_type": "display_data",
          "data": {
            "text/plain": [
              "<Figure size 581.361x500 with 6 Axes>"
            ],
            "image/png": "[encoded data removed]"
          },
          "metadata": {}
        }
      ],
      "source": [
        "# Pair Plot: Temperature, Humidity and Fire Alarms\n",
        "sns.pairplot(df[['Temperature[C]', 'Humidity[%]', 'Fire Alarm']], hue='Fire Alarm', markers=[\"o\", \"s\"], palette={0: 'blue', 1: 'red'})\n",
        "plt.suptitle('Pair Plot: Temperature, Humidity and Fire Alarms', y=1.02)\n",
        "plt.show()\n"
      ]
    },
    {
      "cell_type": "markdown",
      "source": [
        "The plot shows that there is a positive correlation between temperature and fire alarms. This means that as temperature increases, the likelihood of a fire alarm going off also increases. There is also a positive correlation between humidity and fire alarms. However, this correlation is weaker than the correlation between temperature and fire alarms. This means that humidity is a less significant factor in predicting fire alarms than temperature.\n",
        "\n",
        "Overall, temperature and humidity are both factors that can contribute to fire alarms. However, temperature is the more significant factor."
      ],
      "metadata": {
        "id": "l-ike7LobzLs"
      }
    },
    {
      "cell_type": "code",
      "execution_count": null,
      "metadata": {
        "colab": {
          "base_uri": "https://localhost:8080/",
          "height": 564
        },
        "id": "lZ67KLca86TK",
        "outputId": "66be575e-39d4-4473-d58f-89fccb93f72c"
      },
      "outputs": [
        {
          "output_type": "display_data",
          "data": {
            "text/plain": [
              "<Figure size 1000x600 with 2 Axes>"
            ],
            "image/png": "[encoded data removed]"
          },
          "metadata": {}
        }
      ],
      "source": [
        "# Scatter Plot: Raw H2 vs. Pressure[hPa] with Color-coded Fire Alarms\n",
        "plt.figure(figsize=(10, 6))\n",
        "plt.scatter(df['Raw H2'], df.sort_values('Pressure[hPa]')['Pressure[hPa]'], c=df['Fire Alarm'], cmap='coolwarm', alpha=0.7)\n",
        "plt.title('Scatter Plot: Raw H2 vs. Pressure[hPa] with Color-coded Fire Alarms')\n",
        "plt.xlabel('Raw H2')\n",
        "plt.ylabel('Pressure[hPa]')\n",
        "plt.colorbar(label='Fire Alarm')\n",
        "plt.show()\n",
        "\n"
      ]
    },
    {
      "cell_type": "markdown",
      "source": [
        "this scatter plot shows the relationship between the amount of hydrogen gas (Raw H2) and the air pressure (Pressure[hPa]) in a certain environment. with color-coded circles representing the number of fire alarms that were triggered at different combinations of Raw H2 and Pressure[hPa].\n",
        "\n",
        "The plot indicates a possible relationship between Raw H2, Pressure[hPa], and the occurrence of fire alarms. It appears that there is a higher frequency of fire alarms triggered when the Raw H2 levels are higher, especially at lower Pressure[hPa] values.\n",
        "\n",
        "The overall trend of the plot suggests that there is a positive correlation between Raw H2 and Pressure[hPa], meaning that as the amount of hydrogen gas increases, the air pressure also tends to increase. However, there seems to be a degree of variability in this relationship.\n",
        "\n"
      ],
      "metadata": {
        "id": "xSm9kaIYc3Ht"
      }
    },
    {
      "cell_type": "code",
      "source": [
        "# Bar Plot: Fire Alarm Counts\n",
        "plt.figure(figsize=(8, 5))\n",
        "counts = df['Fire Alarm'].value_counts()\n",
        "ax = counts.plot(kind='bar', color=['blue', 'red'])\n",
        "plt.title('Fire Alarm Counts')\n",
        "plt.xlabel('Fire Alarm')\n",
        "plt.ylabel('Count')\n",
        "plt.xticks([0, 1], ['No Alarm', 'Alarm'], rotation=0)\n",
        "\n",
        "# Add annotations\n",
        "for i, count in enumerate(counts):\n",
        "    plt.text(i, count + 1000, str(count), ha='center', va='bottom', fontweight='bold')\n",
        "\n",
        "plt.show()\n"
      ],
      "metadata": {
        "colab": {
          "base_uri": "https://localhost:8080/",
          "height": 487
        },
        "id": "Y0m6p2bwNJId",
        "outputId": "f463e151-62be-47ba-89b5-19d3f08f6e6e"
      },
      "execution_count": null,
      "outputs": [
        {
          "output_type": "display_data",
          "data": {
            "text/plain": [
              "<Figure size 800x500 with 1 Axes>"
            ],
            "image/png": "[encoded data removed]"
          },
          "metadata": {}
        }
      ]
    },
    {
      "cell_type": "markdown",
      "source": [
        "this shows the number of fire alarms that have been triggered and the number the alrms that stayed off .\n",
        "\n",
        "we can clearly see The number of fire alarms that have been off is significantly higher than the number of alarms that have been triggered.\n",
        "This suggests that the data classes are imbalanced .\n"
      ],
      "metadata": {
        "id": "6rclWLPyhBwy"
      }
    },
    {
      "cell_type": "markdown",
      "source": [
        "# Prepare the data appropriately for modeling"
      ],
      "metadata": {
        "id": "dssOcuELNoKd"
      }
    },
    {
      "cell_type": "code",
      "source": [
        "#read data\n",
        "df = pd.read_csv (\"https://docs.google.com/spreadsheets/d/e/2PACX-1vTAQMDlyQdVuWy9le6OcM14fIZdQKg0s_PXhWUYIjUoB_rFpOz9Sv0K05ryiIQkTezghYtkLj6maFCW/pub?gid=2097390352&single=true&output=csv\")\n",
        "#drpping uncessary columns\n",
        "df.drop(columns=['Unnamed: 0', 'Unnamed: 1'], inplace=True)\n",
        "#correcting data inconsistencies\n",
        "df['Raw Ethanol'] = df['Raw Ethanol'].replace({'low': 'Low',\n",
        "                                               'medium': 'Medium',\n",
        "                                               'high':'High',\n",
        "                                               'very low': 'Very Low'})\n",
        "df['Pressure[hPa]'] = df['Pressure[hPa]'].replace({'low': 'Low',\n",
        "                                               'med': 'Medium',\n",
        "                                               'high':'High',\n",
        "                                               'Med': 'Medium'})\n",
        "# correcting the humidity values\n",
        "df['Humidity[%]'] = df['Humidity[%]'].abs()\n",
        "df['Humidity[%]'].describe()\n",
        "\n",
        "df.info()\n",
        "df.head()\n"
      ],
      "metadata": {
        "colab": {
          "base_uri": "https://localhost:8080/",
          "height": 570
        },
        "id": "d4l23hwmNweE",
        "outputId": "6e96caa3-e20f-47f2-adf9-fe35dbcff813"
      },
      "execution_count": null,
      "outputs": [
        {
          "output_type": "stream",
          "name": "stdout",
          "text": [
            "<class 'pandas.core.frame.DataFrame'>\n",
            "RangeIndex: 62633 entries, 0 to 62632\n",
            "Data columns (total 14 columns):\n",
            " #   Column          Non-Null Count  Dtype  \n",
            "---  ------          --------------  -----  \n",
            " 0   UTC             62633 non-null  int64  \n",
            " 1   Temperature[C]  43843 non-null  float64\n",
            " 2   Humidity[%]     51985 non-null  float64\n",
            " 3   eCO2[ppm]       62633 non-null  int64  \n",
            " 4   Raw H2          47602 non-null  float64\n",
            " 5   Raw Ethanol     62633 non-null  object \n",
            " 6   Pressure[hPa]   62633 non-null  object \n",
            " 7   PM1.0           62633 non-null  float64\n",
            " 8   PM2.5           62633 non-null  float64\n",
            " 9   NC0.5           62633 non-null  float64\n",
            " 10  NC1.0           62633 non-null  float64\n",
            " 11  NC2.5           62633 non-null  float64\n",
            " 12  CNT             62633 non-null  int64  \n",
            " 13  Fire Alarm      62633 non-null  int64  \n",
            "dtypes: float64(8), int64(4), object(2)\n",
            "memory usage: 6.7+ MB\n"
          ]
        },
        {
          "output_type": "execute_result",
          "data": {
            "text/plain": [
              "          UTC  Temperature[C]  Humidity[%]  eCO2[ppm]   Raw H2 Raw Ethanol  \\\n",
              "0  1655127852          19.117        56.52        400  13314.0        High   \n",
              "1  1654777894             NaN        55.78        400  12889.0         Low   \n",
              "2  1654785729          26.160        51.93        406  12989.0         Low   \n",
              "3  1654773681          26.960        52.51        577      NaN         Low   \n",
              "4  1654779348          19.860          NaN        400  12910.0         Low   \n",
              "\n",
              "  Pressure[hPa]  PM1.0  PM2.5  NC0.5  NC1.0  NC2.5    CNT  Fire Alarm  \n",
              "0        Medium   1.71   1.78  11.77  1.835  0.041   1928           0  \n",
              "1          High   1.71   1.78  11.79  1.838  0.042  22541           1  \n",
              "2          High   1.95   2.03  13.43  2.095  0.047  20717           1  \n",
              "3          High   2.31   2.40  15.91  2.481  0.056  22852           1  \n",
              "4          High   1.72   1.79  11.85  1.848  0.042  14193           1  "
            ],
            "text/html": [
              "\n",
              "  <div id=\"df-6f79e902-5bb7-4cf0-a638-04fb39c1b394\" class=\"colab-df-container\">\n",
              "    <div>\n",
              "<style scoped>\n",
              "    .dataframe tbody tr th:only-of-type {\n",
              "        vertical-align: middle;\n",
              "    }\n",
              "\n",
              "    .dataframe tbody tr th {\n",
              "        vertical-align: top;\n",
              "    }\n",
              "\n",
              "    .dataframe thead th {\n",
              "        text-align: right;\n",
              "    }\n",
              "</style>\n",
              "<table border=\"1\" class=\"dataframe\">\n",
              "  <thead>\n",
              "    <tr style=\"text-align: right;\">\n",
              "      <th></th>\n",
              "      <th>UTC</th>\n",
              "      <th>Temperature[C]</th>\n",
              "      <th>Humidity[%]</th>\n",
              "      <th>eCO2[ppm]</th>\n",
              "      <th>Raw H2</th>\n",
              "      <th>Raw Ethanol</th>\n",
              "      <th>Pressure[hPa]</th>\n",
              "      <th>PM1.0</th>\n",
              "      <th>PM2.5</th>\n",
              "      <th>NC0.5</th>\n",
              "      <th>NC1.0</th>\n",
              "      <th>NC2.5</th>\n",
              "      <th>CNT</th>\n",
              "      <th>Fire Alarm</th>\n",
              "    </tr>\n",
              "  </thead>\n",
              "  <tbody>\n",
              "    <tr>\n",
              "      <th>0</th>\n",
              "      <td>1655127852</td>\n",
              "      <td>19.117</td>\n",
              "      <td>56.52</td>\n",
              "      <td>400</td>\n",
              "      <td>13314.0</td>\n",
              "      <td>High</td>\n",
              "      <td>Medium</td>\n",
              "      <td>1.71</td>\n",
              "      <td>1.78</td>\n",
              "      <td>11.77</td>\n",
              "      <td>1.835</td>\n",
              "      <td>0.041</td>\n",
              "      <td>1928</td>\n",
              "      <td>0</td>\n",
              "    </tr>\n",
              "    <tr>\n",
              "      <th>1</th>\n",
              "      <td>1654777894</td>\n",
              "      <td>NaN</td>\n",
              "      <td>55.78</td>\n",
              "      <td>400</td>\n",
              "      <td>12889.0</td>\n",
              "      <td>Low</td>\n",
              "      <td>High</td>\n",
              "      <td>1.71</td>\n",
              "      <td>1.78</td>\n",
              "      <td>11.79</td>\n",
              "      <td>1.838</td>\n",
              "      <td>0.042</td>\n",
              "      <td>22541</td>\n",
              "      <td>1</td>\n",
              "    </tr>\n",
              "    <tr>\n",
              "      <th>2</th>\n",
              "      <td>1654785729</td>\n",
              "      <td>26.160</td>\n",
              "      <td>51.93</td>\n",
              "      <td>406</td>\n",
              "      <td>12989.0</td>\n",
              "      <td>Low</td>\n",
              "      <td>High</td>\n",
              "      <td>1.95</td>\n",
              "      <td>2.03</td>\n",
              "      <td>13.43</td>\n",
              "      <td>2.095</td>\n",
              "      <td>0.047</td>\n",
              "      <td>20717</td>\n",
              "      <td>1</td>\n",
              "    </tr>\n",
              "    <tr>\n",
              "      <th>3</th>\n",
              "      <td>1654773681</td>\n",
              "      <td>26.960</td>\n",
              "      <td>52.51</td>\n",
              "      <td>577</td>\n",
              "      <td>NaN</td>\n",
              "      <td>Low</td>\n",
              "      <td>High</td>\n",
              "      <td>2.31</td>\n",
              "      <td>2.40</td>\n",
              "      <td>15.91</td>\n",
              "      <td>2.481</td>\n",
              "      <td>0.056</td>\n",
              "      <td>22852</td>\n",
              "      <td>1</td>\n",
              "    </tr>\n",
              "    <tr>\n",
              "      <th>4</th>\n",
              "      <td>1654779348</td>\n",
              "      <td>19.860</td>\n",
              "      <td>NaN</td>\n",
              "      <td>400</td>\n",
              "      <td>12910.0</td>\n",
              "      <td>Low</td>\n",
              "      <td>High</td>\n",
              "      <td>1.72</td>\n",
              "      <td>1.79</td>\n",
              "      <td>11.85</td>\n",
              "      <td>1.848</td>\n",
              "      <td>0.042</td>\n",
              "      <td>14193</td>\n",
              "      <td>1</td>\n",
              "    </tr>\n",
              "  </tbody>\n",
              "</table>\n",
              "</div>\n",
              "    <div class=\"colab-df-buttons\">\n",
              "\n",
              "  <div class=\"colab-df-container\">\n",
              "    <button class=\"colab-df-convert\" onclick=\"convertToInteractive('df-6f79e902-5bb7-4cf0-a638-04fb39c1b394')\"\n",
              "            title=\"Convert this dataframe to an interactive table.\"\n",
              "            style=\"display:none;\">\n",
              "\n",
              "  <svg xmlns=\"http://www.w3.org/2000/svg\" height=\"24px\" viewBox=\"0 -960 960 960\">\n",
              "    <path d=\"M120-120v-720h720v720H120Zm60-500h600v-160H180v160Zm220 220h160v-160H400v160Zm0 220h160v-160H400v160ZM180-400h160v-160H180v160Zm440 0h160v-160H620v160ZM180-180h160v-160H180v160Zm440 0h160v-160H620v160Z\"/>\n",
              "  </svg>\n",
              "    </button>\n",
              "\n",
              "  <style>\n",
              "    .colab-df-container {\n",
              "      display:flex;\n",
              "      gap: 12px;\n",
              "    }\n",
              "\n",
              "    .colab-df-convert {\n",
              "      background-color: #E8F0FE;\n",
              "      border: none;\n",
              "      border-radius: 50%;\n",
              "      cursor: pointer;\n",
              "      display: none;\n",
              "      fill: #1967D2;\n",
              "      height: 32px;\n",
              "      padding: 0 0 0 0;\n",
              "      width: 32px;\n",
              "    }\n",
              "\n",
              "    .colab-df-convert:hover {\n",
              "      background-color: #E2EBFA;\n",
              "      box-shadow: 0px 1px 2px rgba(60, 64, 67, 0.3), 0px 1px 3px 1px rgba(60, 64, 67, 0.15);\n",
              "      fill: #174EA6;\n",
              "    }\n",
              "\n",
              "    .colab-df-buttons div {\n",
              "      margin-bottom: 4px;\n",
              "    }\n",
              "\n",
              "    [theme=dark] .colab-df-convert {\n",
              "      background-color: #3B4455;\n",
              "      fill: #D2E3FC;\n",
              "    }\n",
              "\n",
              "    [theme=dark] .colab-df-convert:hover {\n",
              "      background-color: #434B5C;\n",
              "      box-shadow: 0px 1px 3px 1px rgba(0, 0, 0, 0.15);\n",
              "      filter: drop-shadow(0px 1px 2px rgba(0, 0, 0, 0.3));\n",
              "      fill: #FFFFFF;\n",
              "    }\n",
              "  </style>\n",
              "\n",
              "    <script>\n",
              "      const buttonEl =\n",
              "        document.querySelector('#df-6f79e902-5bb7-4cf0-a638-04fb39c1b394 button.colab-df-convert');\n",
              "      buttonEl.style.display =\n",
              "        google.colab.kernel.accessAllowed ? 'block' : 'none';\n",
              "\n",
              "      async function convertToInteractive(key) {\n",
              "        const element = document.querySelector('#df-6f79e902-5bb7-4cf0-a638-04fb39c1b394');\n",
              "        const dataTable =\n",
              "          await google.colab.kernel.invokeFunction('convertToInteractive',\n",
              "                                                    [key], {});\n",
              "        if (!dataTable) return;\n",
              "\n",
              "        const docLinkHtml = 'Like what you see? Visit the ' +\n",
              "          '<a target=\"_blank\" href=https://colab.research.google.com/notebooks/data_table.ipynb>data table notebook</a>'\n",
              "          + ' to learn more about interactive tables.';\n",
              "        element.innerHTML = '';\n",
              "        dataTable['output_type'] = 'display_data';\n",
              "        await google.colab.output.renderOutput(dataTable, element);\n",
              "        const docLink = document.createElement('div');\n",
              "        docLink.innerHTML = docLinkHtml;\n",
              "        element.appendChild(docLink);\n",
              "      }\n",
              "    </script>\n",
              "  </div>\n",
              "\n",
              "\n",
              "<div id=\"df-ab255c9b-34b5-46b3-9db3-2e3f42f5d3da\">\n",
              "  <button class=\"colab-df-quickchart\" onclick=\"quickchart('df-ab255c9b-34b5-46b3-9db3-2e3f42f5d3da')\"\n",
              "            title=\"Suggest charts\"\n",
              "            style=\"display:none;\">\n",
              "\n",
              "<svg xmlns=\"http://www.w3.org/2000/svg\" height=\"24px\"viewBox=\"0 0 24 24\"\n",
              "     width=\"24px\">\n",
              "    <g>\n",
              "        <path d=\"M19 3H5c-1.1 0-2 .9-2 2v14c0 1.1.9 2 2 2h14c1.1 0 2-.9 2-2V5c0-1.1-.9-2-2-2zM9 17H7v-7h2v7zm4 0h-2V7h2v10zm4 0h-2v-4h2v4z\"/>\n",
              "    </g>\n",
              "</svg>\n",
              "  </button>\n",
              "\n",
              "<style>\n",
              "  .colab-df-quickchart {\n",
              "      --bg-color: #E8F0FE;\n",
              "      --fill-color: #1967D2;\n",
              "      --hover-bg-color: #E2EBFA;\n",
              "      --hover-fill-color: #174EA6;\n",
              "      --disabled-fill-color: #AAA;\n",
              "      --disabled-bg-color: #DDD;\n",
              "  }\n",
              "\n",
              "  [theme=dark] .colab-df-quickchart {\n",
              "      --bg-color: #3B4455;\n",
              "      --fill-color: #D2E3FC;\n",
              "      --hover-bg-color: #434B5C;\n",
              "      --hover-fill-color: #FFFFFF;\n",
              "      --disabled-bg-color: #3B4455;\n",
              "      --disabled-fill-color: #666;\n",
              "  }\n",
              "\n",
              "  .colab-df-quickchart {\n",
              "    background-color: var(--bg-color);\n",
              "    border: none;\n",
              "    border-radius: 50%;\n",
              "    cursor: pointer;\n",
              "    display: none;\n",
              "    fill: var(--fill-color);\n",
              "    height: 32px;\n",
              "    padding: 0;\n",
              "    width: 32px;\n",
              "  }\n",
              "\n",
              "  .colab-df-quickchart:hover {\n",
              "    background-color: var(--hover-bg-color);\n",
              "    box-shadow: 0 1px 2px rgba(60, 64, 67, 0.3), 0 1px 3px 1px rgba(60, 64, 67, 0.15);\n",
              "    fill: var(--button-hover-fill-color);\n",
              "  }\n",
              "\n",
              "  .colab-df-quickchart-complete:disabled,\n",
              "  .colab-df-quickchart-complete:disabled:hover {\n",
              "    background-color: var(--disabled-bg-color);\n",
              "    fill: var(--disabled-fill-color);\n",
              "    box-shadow: none;\n",
              "  }\n",
              "\n",
              "  .colab-df-spinner {\n",
              "    border: 2px solid var(--fill-color);\n",
              "    border-color: transparent;\n",
              "    border-bottom-color: var(--fill-color);\n",
              "    animation:\n",
              "      spin 1s steps(1) infinite;\n",
              "  }\n",
              "\n",
              "  @keyframes spin {\n",
              "    0% {\n",
              "      border-color: transparent;\n",
              "      border-bottom-color: var(--fill-color);\n",
              "      border-left-color: var(--fill-color);\n",
              "    }\n",
              "    20% {\n",
              "      border-color: transparent;\n",
              "      border-left-color: var(--fill-color);\n",
              "      border-top-color: var(--fill-color);\n",
              "    }\n",
              "    30% {\n",
              "      border-color: transparent;\n",
              "      border-left-color: var(--fill-color);\n",
              "      border-top-color: var(--fill-color);\n",
              "      border-right-color: var(--fill-color);\n",
              "    }\n",
              "    40% {\n",
              "      border-color: transparent;\n",
              "      border-right-color: var(--fill-color);\n",
              "      border-top-color: var(--fill-color);\n",
              "    }\n",
              "    60% {\n",
              "      border-color: transparent;\n",
              "      border-right-color: var(--fill-color);\n",
              "    }\n",
              "    80% {\n",
              "      border-color: transparent;\n",
              "      border-right-color: var(--fill-color);\n",
              "      border-bottom-color: var(--fill-color);\n",
              "    }\n",
              "    90% {\n",
              "      border-color: transparent;\n",
              "      border-bottom-color: var(--fill-color);\n",
              "    }\n",
              "  }\n",
              "</style>\n",
              "\n",
              "  <script>\n",
              "    async function quickchart(key) {\n",
              "      const quickchartButtonEl =\n",
              "        document.querySelector('#' + key + ' button');\n",
              "      quickchartButtonEl.disabled = true;  // To prevent multiple clicks.\n",
              "      quickchartButtonEl.classList.add('colab-df-spinner');\n",
              "      try {\n",
              "        const charts = await google.colab.kernel.invokeFunction(\n",
              "            'suggestCharts', [key], {});\n",
              "      } catch (error) {\n",
              "        console.error('Error during call to suggestCharts:', error);\n",
              "      }\n",
              "      quickchartButtonEl.classList.remove('colab-df-spinner');\n",
              "      quickchartButtonEl.classList.add('colab-df-quickchart-complete');\n",
              "    }\n",
              "    (() => {\n",
              "      let quickchartButtonEl =\n",
              "        document.querySelector('#df-ab255c9b-34b5-46b3-9db3-2e3f42f5d3da button');\n",
              "      quickchartButtonEl.style.display =\n",
              "        google.colab.kernel.accessAllowed ? 'block' : 'none';\n",
              "    })();\n",
              "  </script>\n",
              "</div>\n",
              "    </div>\n",
              "  </div>\n"
            ]
          },
          "metadata": {},
          "execution_count": 30
        }
      ]
    },
    {
      "cell_type": "code",
      "source": [
        "#Check class balance\n",
        "df['Fire Alarm'].value_counts(normalize = True)"
      ],
      "metadata": {
        "colab": {
          "base_uri": "https://localhost:8080/"
        },
        "id": "6wT4taELOswX",
        "outputId": "02a98ec3-d92b-4243-956f-6240b4332e94"
      },
      "execution_count": null,
      "outputs": [
        {
          "output_type": "execute_result",
          "data": {
            "text/plain": [
              "1    0.714591\n",
              "0    0.285409\n",
              "Name: Fire Alarm, dtype: float64"
            ]
          },
          "metadata": {},
          "execution_count": 31
        }
      ]
    },
    {
      "cell_type": "markdown",
      "source": [
        "the classes are imbalnced so we need to deal with it using class_weight='balanced',"
      ],
      "metadata": {
        "id": "AyzDvhT0O0-k"
      }
    },
    {
      "cell_type": "markdown",
      "source": [
        "## splitting the data into train and test\n"
      ],
      "metadata": {
        "id": "UVY9RLNNyE_8"
      }
    },
    {
      "cell_type": "code",
      "source": [
        "# Define target and features\n",
        "y = df['Fire Alarm']\n",
        "X = df.drop(columns = 'Fire Alarm')\n",
        "# Train test split\n",
        "X_train, X_test, y_train, y_test = train_test_split(X, y, random_state=42, stratify = y )\n"
      ],
      "metadata": {
        "id": "e0iIh2zxPBjk"
      },
      "execution_count": null,
      "outputs": []
    },
    {
      "cell_type": "markdown",
      "source": [
        "##Feature Preparation: Transforming columns"
      ],
      "metadata": {
        "id": "kLieFqjGyNQm"
      }
    },
    {
      "cell_type": "code",
      "source": [
        "#Create list of column names\n",
        "num_cols = X_train.select_dtypes(\"number\").columns\n",
        "ord_cols = X_train.select_dtypes(\"object\").columns\n",
        "\n",
        "#make the order of ordinal columns\n",
        "qual_cond_order_ethanol = ['High','Medium', 'Low', 'Very Low']\n",
        "qual_cond_order_pressure = ['High','Medium', 'Low']\n",
        "ordinal_category_orders = [qual_cond_order_ethanol, qual_cond_order_pressure]\n",
        "\n",
        "# instantiate preprocessors\n",
        "scaler = StandardScaler()\n",
        "ord_encoder = OrdinalEncoder(categories=ordinal_category_orders)\n",
        "\n",
        "# Making a numeric pipeline with imputation\n",
        "num_pipe = make_pipeline(SimpleImputer(strategy='median'), scaler)\n",
        "#making ordinal pipeline\n",
        "ord_pipe = make_pipeline(ord_encoder , scaler)\n",
        "\n",
        "# Making a numeric tuple for ColumnTransformer\n",
        "num_tuple = ('numeric', num_pipe, num_cols)\n",
        "# Making a ordinal tuple for ColumnTransformer\n",
        "ord_tuple = ('ordinalFeature', ord_pipe, ord_cols)"
      ],
      "metadata": {
        "id": "7p0bCvWnSOEs"
      },
      "execution_count": null,
      "outputs": []
    },
    {
      "cell_type": "code",
      "source": [
        "#Instantiate the ColumnTransformer\n",
        "col_transformer = ColumnTransformer([num_tuple, ord_tuple],remainder='passthrough',verbose_feature_names_out=False)\n",
        "#Fit the Transformer on Training Data\n",
        "col_transformer.fit(X_train)\n"
      ],
      "metadata": {
        "colab": {
          "base_uri": "https://localhost:8080/",
          "height": 151
        },
        "id": "lgElNZ6YVoc5",
        "outputId": "538d0c18-feea-4bee-8ea0-6fef668a9810"
      },
      "execution_count": null,
      "outputs": [
        {
          "output_type": "execute_result",
          "data": {
            "text/plain": [
              "ColumnTransformer(remainder='passthrough',\n",
              "                  transformers=[('numeric',\n",
              "                                 Pipeline(steps=[('simpleimputer',\n",
              "                                                  SimpleImputer(strategy='median')),\n",
              "                                                 ('standardscaler',\n",
              "                                                  StandardScaler())]),\n",
              "                                 Index(['UTC', 'Temperature[C]', 'Humidity[%]', 'eCO2[ppm]', 'Raw H2', 'PM1.0',\n",
              "       'PM2.5', 'NC0.5', 'NC1.0', 'NC2.5', 'CNT'],\n",
              "      dtype='object')),\n",
              "                                ('ordinalFeature',\n",
              "                                 Pipeline(steps=[('ordinalencoder',\n",
              "                                                  OrdinalEncoder(categories=[['High',\n",
              "                                                                              'Medium',\n",
              "                                                                              'Low',\n",
              "                                                                              'Very '\n",
              "                                                                              'Low'],\n",
              "                                                                             ['High',\n",
              "                                                                              'Medium',\n",
              "                                                                              'Low']])),\n",
              "                                                 ('standardscaler',\n",
              "                                                  StandardScaler())]),\n",
              "                                 Index(['Raw Ethanol', 'Pressure[hPa]'], dtype='object'))],\n",
              "                  verbose_feature_names_out=False)"
            ],
            "text/html": [
              "<style>#sk-container-id-1 {color: black;background-color: white;}#sk-container-id-1 pre{padding: 0;}#sk-container-id-1 div.sk-toggleable {background-color: white;}#sk-container-id-1 label.sk-toggleable__label {cursor: pointer;display: block;width: 100%;margin-bottom: 0;padding: 0.3em;box-sizing: border-box;text-align: center;}#sk-container-id-1 label.sk-toggleable__label-arrow:before {content: \"▸\";float: left;margin-right: 0.25em;color: #696969;}#sk-container-id-1 label.sk-toggleable__label-arrow:hover:before {color: black;}#sk-container-id-1 div.sk-estimator:hover label.sk-toggleable__label-arrow:before {color: black;}#sk-container-id-1 div.sk-toggleable__content {max-height: 0;max-width: 0;overflow: hidden;text-align: left;background-color: #f0f8ff;}#sk-container-id-1 div.sk-toggleable__content pre {margin: 0.2em;color: black;border-radius: 0.25em;background-color: #f0f8ff;}#sk-container-id-1 input.sk-toggleable__control:checked~div.sk-toggleable__content {max-height: 200px;max-width: 100%;overflow: auto;}#sk-container-id-1 input.sk-toggleable__control:checked~label.sk-toggleable__label-arrow:before {content: \"▾\";}#sk-container-id-1 div.sk-estimator input.sk-toggleable__control:checked~label.sk-toggleable__label {background-color: #d4ebff;}#sk-container-id-1 div.sk-label input.sk-toggleable__control:checked~label.sk-toggleable__label {background-color: #d4ebff;}#sk-container-id-1 input.sk-hidden--visually {border: 0;clip: rect(1px 1px 1px 1px);clip: rect(1px, 1px, 1px, 1px);height: 1px;margin: -1px;overflow: hidden;padding: 0;position: absolute;width: 1px;}#sk-container-id-1 div.sk-estimator {font-family: monospace;background-color: #f0f8ff;border: 1px dotted black;border-radius: 0.25em;box-sizing: border-box;margin-bottom: 0.5em;}#sk-container-id-1 div.sk-estimator:hover {background-color: #d4ebff;}#sk-container-id-1 div.sk-parallel-item::after {content: \"\";width: 100%;border-bottom: 1px solid gray;flex-grow: 1;}#sk-container-id-1 div.sk-label:hover label.sk-toggleable__label {background-color: #d4ebff;}#sk-container-id-1 div.sk-serial::before {content: \"\";position: absolute;border-left: 1px solid gray;box-sizing: border-box;top: 0;bottom: 0;left: 50%;z-index: 0;}#sk-container-id-1 div.sk-serial {display: flex;flex-direction: column;align-items: center;background-color: white;padding-right: 0.2em;padding-left: 0.2em;position: relative;}#sk-container-id-1 div.sk-item {position: relative;z-index: 1;}#sk-container-id-1 div.sk-parallel {display: flex;align-items: stretch;justify-content: center;background-color: white;position: relative;}#sk-container-id-1 div.sk-item::before, #sk-container-id-1 div.sk-parallel-item::before {content: \"\";position: absolute;border-left: 1px solid gray;box-sizing: border-box;top: 0;bottom: 0;left: 50%;z-index: -1;}#sk-container-id-1 div.sk-parallel-item {display: flex;flex-direction: column;z-index: 1;position: relative;background-color: white;}#sk-container-id-1 div.sk-parallel-item:first-child::after {align-self: flex-end;width: 50%;}#sk-container-id-1 div.sk-parallel-item:last-child::after {align-self: flex-start;width: 50%;}#sk-container-id-1 div.sk-parallel-item:only-child::after {width: 0;}#sk-container-id-1 div.sk-dashed-wrapped {border: 1px dashed gray;margin: 0 0.4em 0.5em 0.4em;box-sizing: border-box;padding-bottom: 0.4em;background-color: white;}#sk-container-id-1 div.sk-label label {font-family: monospace;font-weight: bold;display: inline-block;line-height: 1.2em;}#sk-container-id-1 div.sk-label-container {text-align: center;}#sk-container-id-1 div.sk-container {/* jupyter's `normalize.less` sets `[hidden] { display: none; }` but bootstrap.min.css set `[hidden] { display: none !important; }` so we also need the `!important` here to be able to override the default hidden behavior on the sphinx rendered scikit-learn.org. See: https://github.com/scikit-learn/scikit-learn/issues/21755 */display: inline-block !important;position: relative;}#sk-container-id-1 div.sk-text-repr-fallback {display: none;}</style><div id=\"sk-container-id-1\" class=\"sk-top-container\"><div class=\"sk-text-repr-fallback\"><pre>ColumnTransformer(remainder=&#x27;passthrough&#x27;,\n",
              "                  transformers=[(&#x27;numeric&#x27;,\n",
              "                                 Pipeline(steps=[(&#x27;simpleimputer&#x27;,\n",
              "                                                  SimpleImputer(strategy=&#x27;median&#x27;)),\n",
              "                                                 (&#x27;standardscaler&#x27;,\n",
              "                                                  StandardScaler())]),\n",
              "                                 Index([&#x27;UTC&#x27;, &#x27;Temperature[C]&#x27;, &#x27;Humidity[%]&#x27;, &#x27;eCO2[ppm]&#x27;, &#x27;Raw H2&#x27;, &#x27;PM1.0&#x27;,\n",
              "       &#x27;PM2.5&#x27;, &#x27;NC0.5&#x27;, &#x27;NC1.0&#x27;, &#x27;NC2.5&#x27;, &#x27;CNT&#x27;],\n",
              "      dtype=&#x27;object&#x27;)),\n",
              "                                (&#x27;ordinalFeature&#x27;,\n",
              "                                 Pipeline(steps=[(&#x27;ordinalencoder&#x27;,\n",
              "                                                  OrdinalEncoder(categories=[[&#x27;High&#x27;,\n",
              "                                                                              &#x27;Medium&#x27;,\n",
              "                                                                              &#x27;Low&#x27;,\n",
              "                                                                              &#x27;Very &#x27;\n",
              "                                                                              &#x27;Low&#x27;],\n",
              "                                                                             [&#x27;High&#x27;,\n",
              "                                                                              &#x27;Medium&#x27;,\n",
              "                                                                              &#x27;Low&#x27;]])),\n",
              "                                                 (&#x27;standardscaler&#x27;,\n",
              "                                                  StandardScaler())]),\n",
              "                                 Index([&#x27;Raw Ethanol&#x27;, &#x27;Pressure[hPa]&#x27;], dtype=&#x27;object&#x27;))],\n",
              "                  verbose_feature_names_out=False)</pre><b>In a Jupyter environment, please rerun this cell to show the HTML representation or trust the notebook. <br />On GitHub, the HTML representation is unable to render, please try loading this page with nbviewer.org.</b></div><div class=\"sk-container\" hidden><div class=\"sk-item sk-dashed-wrapped\"><div class=\"sk-label-container\"><div class=\"sk-label sk-toggleable\"><input class=\"sk-toggleable__control sk-hidden--visually\" id=\"sk-estimator-id-1\" type=\"checkbox\" ><label for=\"sk-estimator-id-1\" class=\"sk-toggleable__label sk-toggleable__label-arrow\">ColumnTransformer</label><div class=\"sk-toggleable__content\"><pre>ColumnTransformer(remainder=&#x27;passthrough&#x27;,\n",
              "                  transformers=[(&#x27;numeric&#x27;,\n",
              "                                 Pipeline(steps=[(&#x27;simpleimputer&#x27;,\n",
              "                                                  SimpleImputer(strategy=&#x27;median&#x27;)),\n",
              "                                                 (&#x27;standardscaler&#x27;,\n",
              "                                                  StandardScaler())]),\n",
              "                                 Index([&#x27;UTC&#x27;, &#x27;Temperature[C]&#x27;, &#x27;Humidity[%]&#x27;, &#x27;eCO2[ppm]&#x27;, &#x27;Raw H2&#x27;, &#x27;PM1.0&#x27;,\n",
              "       &#x27;PM2.5&#x27;, &#x27;NC0.5&#x27;, &#x27;NC1.0&#x27;, &#x27;NC2.5&#x27;, &#x27;CNT&#x27;],\n",
              "      dtype=&#x27;object&#x27;)),\n",
              "                                (&#x27;ordinalFeature&#x27;,\n",
              "                                 Pipeline(steps=[(&#x27;ordinalencoder&#x27;,\n",
              "                                                  OrdinalEncoder(categories=[[&#x27;High&#x27;,\n",
              "                                                                              &#x27;Medium&#x27;,\n",
              "                                                                              &#x27;Low&#x27;,\n",
              "                                                                              &#x27;Very &#x27;\n",
              "                                                                              &#x27;Low&#x27;],\n",
              "                                                                             [&#x27;High&#x27;,\n",
              "                                                                              &#x27;Medium&#x27;,\n",
              "                                                                              &#x27;Low&#x27;]])),\n",
              "                                                 (&#x27;standardscaler&#x27;,\n",
              "                                                  StandardScaler())]),\n",
              "                                 Index([&#x27;Raw Ethanol&#x27;, &#x27;Pressure[hPa]&#x27;], dtype=&#x27;object&#x27;))],\n",
              "                  verbose_feature_names_out=False)</pre></div></div></div><div class=\"sk-parallel\"><div class=\"sk-parallel-item\"><div class=\"sk-item\"><div class=\"sk-label-container\"><div class=\"sk-label sk-toggleable\"><input class=\"sk-toggleable__control sk-hidden--visually\" id=\"sk-estimator-id-2\" type=\"checkbox\" ><label for=\"sk-estimator-id-2\" class=\"sk-toggleable__label sk-toggleable__label-arrow\">numeric</label><div class=\"sk-toggleable__content\"><pre>Index([&#x27;UTC&#x27;, &#x27;Temperature[C]&#x27;, &#x27;Humidity[%]&#x27;, &#x27;eCO2[ppm]&#x27;, &#x27;Raw H2&#x27;, &#x27;PM1.0&#x27;,\n",
              "       &#x27;PM2.5&#x27;, &#x27;NC0.5&#x27;, &#x27;NC1.0&#x27;, &#x27;NC2.5&#x27;, &#x27;CNT&#x27;],\n",
              "      dtype=&#x27;object&#x27;)</pre></div></div></div><div class=\"sk-serial\"><div class=\"sk-item\"><div class=\"sk-serial\"><div class=\"sk-item\"><div class=\"sk-estimator sk-toggleable\"><input class=\"sk-toggleable__control sk-hidden--visually\" id=\"sk-estimator-id-3\" type=\"checkbox\" ><label for=\"sk-estimator-id-3\" class=\"sk-toggleable__label sk-toggleable__label-arrow\">SimpleImputer</label><div class=\"sk-toggleable__content\"><pre>SimpleImputer(strategy=&#x27;median&#x27;)</pre></div></div></div><div class=\"sk-item\"><div class=\"sk-estimator sk-toggleable\"><input class=\"sk-toggleable__control sk-hidden--visually\" id=\"sk-estimator-id-4\" type=\"checkbox\" ><label for=\"sk-estimator-id-4\" class=\"sk-toggleable__label sk-toggleable__label-arrow\">StandardScaler</label><div class=\"sk-toggleable__content\"><pre>StandardScaler()</pre></div></div></div></div></div></div></div></div><div class=\"sk-parallel-item\"><div class=\"sk-item\"><div class=\"sk-label-container\"><div class=\"sk-label sk-toggleable\"><input class=\"sk-toggleable__control sk-hidden--visually\" id=\"sk-estimator-id-5\" type=\"checkbox\" ><label for=\"sk-estimator-id-5\" class=\"sk-toggleable__label sk-toggleable__label-arrow\">ordinalFeature</label><div class=\"sk-toggleable__content\"><pre>Index([&#x27;Raw Ethanol&#x27;, &#x27;Pressure[hPa]&#x27;], dtype=&#x27;object&#x27;)</pre></div></div></div><div class=\"sk-serial\"><div class=\"sk-item\"><div class=\"sk-serial\"><div class=\"sk-item\"><div class=\"sk-estimator sk-toggleable\"><input class=\"sk-toggleable__control sk-hidden--visually\" id=\"sk-estimator-id-6\" type=\"checkbox\" ><label for=\"sk-estimator-id-6\" class=\"sk-toggleable__label sk-toggleable__label-arrow\">OrdinalEncoder</label><div class=\"sk-toggleable__content\"><pre>OrdinalEncoder(categories=[[&#x27;High&#x27;, &#x27;Medium&#x27;, &#x27;Low&#x27;, &#x27;Very Low&#x27;],\n",
              "                           [&#x27;High&#x27;, &#x27;Medium&#x27;, &#x27;Low&#x27;]])</pre></div></div></div><div class=\"sk-item\"><div class=\"sk-estimator sk-toggleable\"><input class=\"sk-toggleable__control sk-hidden--visually\" id=\"sk-estimator-id-7\" type=\"checkbox\" ><label for=\"sk-estimator-id-7\" class=\"sk-toggleable__label sk-toggleable__label-arrow\">StandardScaler</label><div class=\"sk-toggleable__content\"><pre>StandardScaler()</pre></div></div></div></div></div></div></div></div><div class=\"sk-parallel-item\"><div class=\"sk-item\"><div class=\"sk-label-container\"><div class=\"sk-label sk-toggleable\"><input class=\"sk-toggleable__control sk-hidden--visually\" id=\"sk-estimator-id-8\" type=\"checkbox\" ><label for=\"sk-estimator-id-8\" class=\"sk-toggleable__label sk-toggleable__label-arrow\">remainder</label><div class=\"sk-toggleable__content\"><pre>[]</pre></div></div></div><div class=\"sk-serial\"><div class=\"sk-item\"><div class=\"sk-estimator sk-toggleable\"><input class=\"sk-toggleable__control sk-hidden--visually\" id=\"sk-estimator-id-9\" type=\"checkbox\" ><label for=\"sk-estimator-id-9\" class=\"sk-toggleable__label sk-toggleable__label-arrow\">passthrough</label><div class=\"sk-toggleable__content\"><pre>passthrough</pre></div></div></div></div></div></div></div></div></div></div>"
            ]
          },
          "metadata": {},
          "execution_count": 34
        }
      ]
    },
    {
      "cell_type": "code",
      "source": [
        "# Transform the training data\n",
        "X_train_transformed = col_transformer.transform(X_train)\n",
        "# Transform the testing data\n",
        "X_test_transformed = col_transformer.transform(X_test)\n",
        "X_train_transformed"
      ],
      "metadata": {
        "colab": {
          "base_uri": "https://localhost:8080/",
          "height": 423
        },
        "id": "PpjVYp4jXYPO",
        "outputId": "9bf3ce65-7f0e-4717-ecf1-d348592e75d0"
      },
      "execution_count": null,
      "outputs": [
        {
          "output_type": "execute_result",
          "data": {
            "text/plain": [
              "            UTC  Temperature[C]  Humidity[%]  eCO2[ppm]    Raw H2     PM1.0  \\\n",
              "37904 -0.691019       -0.426043    -0.932591  -0.140880  2.109149 -0.106486   \n",
              "47277 -0.444817       -3.057708     0.520498   0.128711 -0.066858 -0.105660   \n",
              "19767 -0.374046       -1.802931     0.163751  -0.140880 -0.152359 -0.106986   \n",
              "38596 -0.496013        0.117995    -0.188023  -0.140880  1.194286 -0.106410   \n",
              "4935  -0.161645        0.429226     0.375065  -0.069767 -0.430238 -0.106573   \n",
              "...         ...             ...          ...        ...       ...       ...   \n",
              "5762  -0.245589       -3.179162     0.876001  -0.140880  0.762504 -0.107127   \n",
              "34313 -0.719290        0.242077     0.163751  -0.130797 -0.579866 -0.106214   \n",
              "4688   3.036521        0.242077     0.163751  -0.119121 -0.066858 -0.106845   \n",
              "38625 -0.108860        0.242077     0.510554  -0.140880 -0.101059 -0.106953   \n",
              "35531 -0.459860        2.311392    -0.021458  -0.140880  0.694103 -0.108268   \n",
              "\n",
              "          PM2.5     NC0.5     NC1.0     NC2.5       CNT  Raw Ethanol  \\\n",
              "37904 -0.091939 -0.111723 -0.090625 -0.073857 -1.247513    -1.910066   \n",
              "47277 -0.091541 -0.110484 -0.090258 -0.073840 -0.935611     0.686812   \n",
              "19767 -0.092186 -0.112479 -0.090849 -0.073868 -0.770061     0.686812   \n",
              "38596 -0.091909 -0.111617 -0.090593 -0.073856  0.079912    -0.611627   \n",
              "4935  -0.091985 -0.111858 -0.090665 -0.073859 -0.771113     0.686812   \n",
              "...         ...       ...       ...       ...       ...          ...   \n",
              "5762  -0.092252 -0.112685 -0.090910 -0.073870 -1.228183     0.686812   \n",
              "34313 -0.091813 -0.111323 -0.090506 -0.073851 -0.810035    -1.910066   \n",
              "4688  -0.092116 -0.112270 -0.090787 -0.073865  1.480315    -1.910066   \n",
              "38625 -0.092166 -0.112422 -0.090832 -0.073867  1.772624     0.686812   \n",
              "35531 -0.092801 -0.114392 -0.091415 -0.073893  1.464141    -0.611627   \n",
              "\n",
              "       Pressure[hPa]  \n",
              "37904       1.700578  \n",
              "47277      -0.484404  \n",
              "19767      -0.484404  \n",
              "38596      -0.484404  \n",
              "4935       -0.484404  \n",
              "...              ...  \n",
              "5762       -0.484404  \n",
              "34313       1.700578  \n",
              "4688        1.700578  \n",
              "38625      -0.484404  \n",
              "35531      -0.484404  \n",
              "\n",
              "[46974 rows x 13 columns]"
            ],
            "text/html": [
              "\n",
              "  <div id=\"df-43c7eb51-32ce-415b-aad7-20804b300fd2\" class=\"colab-df-container\">\n",
              "    <div>\n",
              "<style scoped>\n",
              "    .dataframe tbody tr th:only-of-type {\n",
              "        vertical-align: middle;\n",
              "    }\n",
              "\n",
              "    .dataframe tbody tr th {\n",
              "        vertical-align: top;\n",
              "    }\n",
              "\n",
              "    .dataframe thead th {\n",
              "        text-align: right;\n",
              "    }\n",
              "</style>\n",
              "<table border=\"1\" class=\"dataframe\">\n",
              "  <thead>\n",
              "    <tr style=\"text-align: right;\">\n",
              "      <th></th>\n",
              "      <th>UTC</th>\n",
              "      <th>Temperature[C]</th>\n",
              "      <th>Humidity[%]</th>\n",
              "      <th>eCO2[ppm]</th>\n",
              "      <th>Raw H2</th>\n",
              "      <th>PM1.0</th>\n",
              "      <th>PM2.5</th>\n",
              "      <th>NC0.5</th>\n",
              "      <th>NC1.0</th>\n",
              "      <th>NC2.5</th>\n",
              "      <th>CNT</th>\n",
              "      <th>Raw Ethanol</th>\n",
              "      <th>Pressure[hPa]</th>\n",
              "    </tr>\n",
              "  </thead>\n",
              "  <tbody>\n",
              "    <tr>\n",
              "      <th>37904</th>\n",
              "      <td>-0.691019</td>\n",
              "      <td>-0.426043</td>\n",
              "      <td>-0.932591</td>\n",
              "      <td>-0.140880</td>\n",
              "      <td>2.109149</td>\n",
              "      <td>-0.106486</td>\n",
              "      <td>-0.091939</td>\n",
              "      <td>-0.111723</td>\n",
              "      <td>-0.090625</td>\n",
              "      <td>-0.073857</td>\n",
              "      <td>-1.247513</td>\n",
              "      <td>-1.910066</td>\n",
              "      <td>1.700578</td>\n",
              "    </tr>\n",
              "    <tr>\n",
              "      <th>47277</th>\n",
              "      <td>-0.444817</td>\n",
              "      <td>-3.057708</td>\n",
              "      <td>0.520498</td>\n",
              "      <td>0.128711</td>\n",
              "      <td>-0.066858</td>\n",
              "      <td>-0.105660</td>\n",
              "      <td>-0.091541</td>\n",
              "      <td>-0.110484</td>\n",
              "      <td>-0.090258</td>\n",
              "      <td>-0.073840</td>\n",
              "      <td>-0.935611</td>\n",
              "      <td>0.686812</td>\n",
              "      <td>-0.484404</td>\n",
              "    </tr>\n",
              "    <tr>\n",
              "      <th>19767</th>\n",
              "      <td>-0.374046</td>\n",
              "      <td>-1.802931</td>\n",
              "      <td>0.163751</td>\n",
              "      <td>-0.140880</td>\n",
              "      <td>-0.152359</td>\n",
              "      <td>-0.106986</td>\n",
              "      <td>-0.092186</td>\n",
              "      <td>-0.112479</td>\n",
              "      <td>-0.090849</td>\n",
              "      <td>-0.073868</td>\n",
              "      <td>-0.770061</td>\n",
              "      <td>0.686812</td>\n",
              "      <td>-0.484404</td>\n",
              "    </tr>\n",
              "    <tr>\n",
              "      <th>38596</th>\n",
              "      <td>-0.496013</td>\n",
              "      <td>0.117995</td>\n",
              "      <td>-0.188023</td>\n",
              "      <td>-0.140880</td>\n",
              "      <td>1.194286</td>\n",
              "      <td>-0.106410</td>\n",
              "      <td>-0.091909</td>\n",
              "      <td>-0.111617</td>\n",
              "      <td>-0.090593</td>\n",
              "      <td>-0.073856</td>\n",
              "      <td>0.079912</td>\n",
              "      <td>-0.611627</td>\n",
              "      <td>-0.484404</td>\n",
              "    </tr>\n",
              "    <tr>\n",
              "      <th>4935</th>\n",
              "      <td>-0.161645</td>\n",
              "      <td>0.429226</td>\n",
              "      <td>0.375065</td>\n",
              "      <td>-0.069767</td>\n",
              "      <td>-0.430238</td>\n",
              "      <td>-0.106573</td>\n",
              "      <td>-0.091985</td>\n",
              "      <td>-0.111858</td>\n",
              "      <td>-0.090665</td>\n",
              "      <td>-0.073859</td>\n",
              "      <td>-0.771113</td>\n",
              "      <td>0.686812</td>\n",
              "      <td>-0.484404</td>\n",
              "    </tr>\n",
              "    <tr>\n",
              "      <th>...</th>\n",
              "      <td>...</td>\n",
              "      <td>...</td>\n",
              "      <td>...</td>\n",
              "      <td>...</td>\n",
              "      <td>...</td>\n",
              "      <td>...</td>\n",
              "      <td>...</td>\n",
              "      <td>...</td>\n",
              "      <td>...</td>\n",
              "      <td>...</td>\n",
              "      <td>...</td>\n",
              "      <td>...</td>\n",
              "      <td>...</td>\n",
              "    </tr>\n",
              "    <tr>\n",
              "      <th>5762</th>\n",
              "      <td>-0.245589</td>\n",
              "      <td>-3.179162</td>\n",
              "      <td>0.876001</td>\n",
              "      <td>-0.140880</td>\n",
              "      <td>0.762504</td>\n",
              "      <td>-0.107127</td>\n",
              "      <td>-0.092252</td>\n",
              "      <td>-0.112685</td>\n",
              "      <td>-0.090910</td>\n",
              "      <td>-0.073870</td>\n",
              "      <td>-1.228183</td>\n",
              "      <td>0.686812</td>\n",
              "      <td>-0.484404</td>\n",
              "    </tr>\n",
              "    <tr>\n",
              "      <th>34313</th>\n",
              "      <td>-0.719290</td>\n",
              "      <td>0.242077</td>\n",
              "      <td>0.163751</td>\n",
              "      <td>-0.130797</td>\n",
              "      <td>-0.579866</td>\n",
              "      <td>-0.106214</td>\n",
              "      <td>-0.091813</td>\n",
              "      <td>-0.111323</td>\n",
              "      <td>-0.090506</td>\n",
              "      <td>-0.073851</td>\n",
              "      <td>-0.810035</td>\n",
              "      <td>-1.910066</td>\n",
              "      <td>1.700578</td>\n",
              "    </tr>\n",
              "    <tr>\n",
              "      <th>4688</th>\n",
              "      <td>3.036521</td>\n",
              "      <td>0.242077</td>\n",
              "      <td>0.163751</td>\n",
              "      <td>-0.119121</td>\n",
              "      <td>-0.066858</td>\n",
              "      <td>-0.106845</td>\n",
              "      <td>-0.092116</td>\n",
              "      <td>-0.112270</td>\n",
              "      <td>-0.090787</td>\n",
              "      <td>-0.073865</td>\n",
              "      <td>1.480315</td>\n",
              "      <td>-1.910066</td>\n",
              "      <td>1.700578</td>\n",
              "    </tr>\n",
              "    <tr>\n",
              "      <th>38625</th>\n",
              "      <td>-0.108860</td>\n",
              "      <td>0.242077</td>\n",
              "      <td>0.510554</td>\n",
              "      <td>-0.140880</td>\n",
              "      <td>-0.101059</td>\n",
              "      <td>-0.106953</td>\n",
              "      <td>-0.092166</td>\n",
              "      <td>-0.112422</td>\n",
              "      <td>-0.090832</td>\n",
              "      <td>-0.073867</td>\n",
              "      <td>1.772624</td>\n",
              "      <td>0.686812</td>\n",
              "      <td>-0.484404</td>\n",
              "    </tr>\n",
              "    <tr>\n",
              "      <th>35531</th>\n",
              "      <td>-0.459860</td>\n",
              "      <td>2.311392</td>\n",
              "      <td>-0.021458</td>\n",
              "      <td>-0.140880</td>\n",
              "      <td>0.694103</td>\n",
              "      <td>-0.108268</td>\n",
              "      <td>-0.092801</td>\n",
              "      <td>-0.114392</td>\n",
              "      <td>-0.091415</td>\n",
              "      <td>-0.073893</td>\n",
              "      <td>1.464141</td>\n",
              "      <td>-0.611627</td>\n",
              "      <td>-0.484404</td>\n",
              "    </tr>\n",
              "  </tbody>\n",
              "</table>\n",
              "<p>46974 rows × 13 columns</p>\n",
              "</div>\n",
              "    <div class=\"colab-df-buttons\">\n",
              "\n",
              "  <div class=\"colab-df-container\">\n",
              "    <button class=\"colab-df-convert\" onclick=\"convertToInteractive('df-43c7eb51-32ce-415b-aad7-20804b300fd2')\"\n",
              "            title=\"Convert this dataframe to an interactive table.\"\n",
              "            style=\"display:none;\">\n",
              "\n",
              "  <svg xmlns=\"http://www.w3.org/2000/svg\" height=\"24px\" viewBox=\"0 -960 960 960\">\n",
              "    <path d=\"M120-120v-720h720v720H120Zm60-500h600v-160H180v160Zm220 220h160v-160H400v160Zm0 220h160v-160H400v160ZM180-400h160v-160H180v160Zm440 0h160v-160H620v160ZM180-180h160v-160H180v160Zm440 0h160v-160H620v160Z\"/>\n",
              "  </svg>\n",
              "    </button>\n",
              "\n",
              "  <style>\n",
              "    .colab-df-container {\n",
              "      display:flex;\n",
              "      gap: 12px;\n",
              "    }\n",
              "\n",
              "    .colab-df-convert {\n",
              "      background-color: #E8F0FE;\n",
              "      border: none;\n",
              "      border-radius: 50%;\n",
              "      cursor: pointer;\n",
              "      display: none;\n",
              "      fill: #1967D2;\n",
              "      height: 32px;\n",
              "      padding: 0 0 0 0;\n",
              "      width: 32px;\n",
              "    }\n",
              "\n",
              "    .colab-df-convert:hover {\n",
              "      background-color: #E2EBFA;\n",
              "      box-shadow: 0px 1px 2px rgba(60, 64, 67, 0.3), 0px 1px 3px 1px rgba(60, 64, 67, 0.15);\n",
              "      fill: #174EA6;\n",
              "    }\n",
              "\n",
              "    .colab-df-buttons div {\n",
              "      margin-bottom: 4px;\n",
              "    }\n",
              "\n",
              "    [theme=dark] .colab-df-convert {\n",
              "      background-color: #3B4455;\n",
              "      fill: #D2E3FC;\n",
              "    }\n",
              "\n",
              "    [theme=dark] .colab-df-convert:hover {\n",
              "      background-color: #434B5C;\n",
              "      box-shadow: 0px 1px 3px 1px rgba(0, 0, 0, 0.15);\n",
              "      filter: drop-shadow(0px 1px 2px rgba(0, 0, 0, 0.3));\n",
              "      fill: #FFFFFF;\n",
              "    }\n",
              "  </style>\n",
              "\n",
              "    <script>\n",
              "      const buttonEl =\n",
              "        document.querySelector('#df-43c7eb51-32ce-415b-aad7-20804b300fd2 button.colab-df-convert');\n",
              "      buttonEl.style.display =\n",
              "        google.colab.kernel.accessAllowed ? 'block' : 'none';\n",
              "\n",
              "      async function convertToInteractive(key) {\n",
              "        const element = document.querySelector('#df-43c7eb51-32ce-415b-aad7-20804b300fd2');\n",
              "        const dataTable =\n",
              "          await google.colab.kernel.invokeFunction('convertToInteractive',\n",
              "                                                    [key], {});\n",
              "        if (!dataTable) return;\n",
              "\n",
              "        const docLinkHtml = 'Like what you see? Visit the ' +\n",
              "          '<a target=\"_blank\" href=https://colab.research.google.com/notebooks/data_table.ipynb>data table notebook</a>'\n",
              "          + ' to learn more about interactive tables.';\n",
              "        element.innerHTML = '';\n",
              "        dataTable['output_type'] = 'display_data';\n",
              "        await google.colab.output.renderOutput(dataTable, element);\n",
              "        const docLink = document.createElement('div');\n",
              "        docLink.innerHTML = docLinkHtml;\n",
              "        element.appendChild(docLink);\n",
              "      }\n",
              "    </script>\n",
              "  </div>\n",
              "\n",
              "\n",
              "<div id=\"df-e0b8c837-2b73-4827-9dc2-c75b8b948df2\">\n",
              "  <button class=\"colab-df-quickchart\" onclick=\"quickchart('df-e0b8c837-2b73-4827-9dc2-c75b8b948df2')\"\n",
              "            title=\"Suggest charts\"\n",
              "            style=\"display:none;\">\n",
              "\n",
              "<svg xmlns=\"http://www.w3.org/2000/svg\" height=\"24px\"viewBox=\"0 0 24 24\"\n",
              "     width=\"24px\">\n",
              "    <g>\n",
              "        <path d=\"M19 3H5c-1.1 0-2 .9-2 2v14c0 1.1.9 2 2 2h14c1.1 0 2-.9 2-2V5c0-1.1-.9-2-2-2zM9 17H7v-7h2v7zm4 0h-2V7h2v10zm4 0h-2v-4h2v4z\"/>\n",
              "    </g>\n",
              "</svg>\n",
              "  </button>\n",
              "\n",
              "<style>\n",
              "  .colab-df-quickchart {\n",
              "      --bg-color: #E8F0FE;\n",
              "      --fill-color: #1967D2;\n",
              "      --hover-bg-color: #E2EBFA;\n",
              "      --hover-fill-color: #174EA6;\n",
              "      --disabled-fill-color: #AAA;\n",
              "      --disabled-bg-color: #DDD;\n",
              "  }\n",
              "\n",
              "  [theme=dark] .colab-df-quickchart {\n",
              "      --bg-color: #3B4455;\n",
              "      --fill-color: #D2E3FC;\n",
              "      --hover-bg-color: #434B5C;\n",
              "      --hover-fill-color: #FFFFFF;\n",
              "      --disabled-bg-color: #3B4455;\n",
              "      --disabled-fill-color: #666;\n",
              "  }\n",
              "\n",
              "  .colab-df-quickchart {\n",
              "    background-color: var(--bg-color);\n",
              "    border: none;\n",
              "    border-radius: 50%;\n",
              "    cursor: pointer;\n",
              "    display: none;\n",
              "    fill: var(--fill-color);\n",
              "    height: 32px;\n",
              "    padding: 0;\n",
              "    width: 32px;\n",
              "  }\n",
              "\n",
              "  .colab-df-quickchart:hover {\n",
              "    background-color: var(--hover-bg-color);\n",
              "    box-shadow: 0 1px 2px rgba(60, 64, 67, 0.3), 0 1px 3px 1px rgba(60, 64, 67, 0.15);\n",
              "    fill: var(--button-hover-fill-color);\n",
              "  }\n",
              "\n",
              "  .colab-df-quickchart-complete:disabled,\n",
              "  .colab-df-quickchart-complete:disabled:hover {\n",
              "    background-color: var(--disabled-bg-color);\n",
              "    fill: var(--disabled-fill-color);\n",
              "    box-shadow: none;\n",
              "  }\n",
              "\n",
              "  .colab-df-spinner {\n",
              "    border: 2px solid var(--fill-color);\n",
              "    border-color: transparent;\n",
              "    border-bottom-color: var(--fill-color);\n",
              "    animation:\n",
              "      spin 1s steps(1) infinite;\n",
              "  }\n",
              "\n",
              "  @keyframes spin {\n",
              "    0% {\n",
              "      border-color: transparent;\n",
              "      border-bottom-color: var(--fill-color);\n",
              "      border-left-color: var(--fill-color);\n",
              "    }\n",
              "    20% {\n",
              "      border-color: transparent;\n",
              "      border-left-color: var(--fill-color);\n",
              "      border-top-color: var(--fill-color);\n",
              "    }\n",
              "    30% {\n",
              "      border-color: transparent;\n",
              "      border-left-color: var(--fill-color);\n",
              "      border-top-color: var(--fill-color);\n",
              "      border-right-color: var(--fill-color);\n",
              "    }\n",
              "    40% {\n",
              "      border-color: transparent;\n",
              "      border-right-color: var(--fill-color);\n",
              "      border-top-color: var(--fill-color);\n",
              "    }\n",
              "    60% {\n",
              "      border-color: transparent;\n",
              "      border-right-color: var(--fill-color);\n",
              "    }\n",
              "    80% {\n",
              "      border-color: transparent;\n",
              "      border-right-color: var(--fill-color);\n",
              "      border-bottom-color: var(--fill-color);\n",
              "    }\n",
              "    90% {\n",
              "      border-color: transparent;\n",
              "      border-bottom-color: var(--fill-color);\n",
              "    }\n",
              "  }\n",
              "</style>\n",
              "\n",
              "  <script>\n",
              "    async function quickchart(key) {\n",
              "      const quickchartButtonEl =\n",
              "        document.querySelector('#' + key + ' button');\n",
              "      quickchartButtonEl.disabled = true;  // To prevent multiple clicks.\n",
              "      quickchartButtonEl.classList.add('colab-df-spinner');\n",
              "      try {\n",
              "        const charts = await google.colab.kernel.invokeFunction(\n",
              "            'suggestCharts', [key], {});\n",
              "      } catch (error) {\n",
              "        console.error('Error during call to suggestCharts:', error);\n",
              "      }\n",
              "      quickchartButtonEl.classList.remove('colab-df-spinner');\n",
              "      quickchartButtonEl.classList.add('colab-df-quickchart-complete');\n",
              "    }\n",
              "    (() => {\n",
              "      let quickchartButtonEl =\n",
              "        document.querySelector('#df-e0b8c837-2b73-4827-9dc2-c75b8b948df2 button');\n",
              "      quickchartButtonEl.style.display =\n",
              "        google.colab.kernel.accessAllowed ? 'block' : 'none';\n",
              "    })();\n",
              "  </script>\n",
              "</div>\n",
              "    </div>\n",
              "  </div>\n"
            ]
          },
          "metadata": {},
          "execution_count": 35
        }
      ]
    },
    {
      "cell_type": "code",
      "source": [
        "#Confirm that all columns are numeric dtypes.\n",
        "X_train_transformed.dtypes"
      ],
      "metadata": {
        "colab": {
          "base_uri": "https://localhost:8080/"
        },
        "id": "GRAE9JBhZ5gs",
        "outputId": "be1658e7-f0ea-4373-ca02-c52d7efb32f8"
      },
      "execution_count": null,
      "outputs": [
        {
          "output_type": "execute_result",
          "data": {
            "text/plain": [
              "UTC               float64\n",
              "Temperature[C]    float64\n",
              "Humidity[%]       float64\n",
              "eCO2[ppm]         float64\n",
              "Raw H2            float64\n",
              "PM1.0             float64\n",
              "PM2.5             float64\n",
              "NC0.5             float64\n",
              "NC1.0             float64\n",
              "NC2.5             float64\n",
              "CNT               float64\n",
              "Raw Ethanol       float64\n",
              "Pressure[hPa]     float64\n",
              "dtype: object"
            ]
          },
          "metadata": {},
          "execution_count": 36
        }
      ]
    },
    {
      "cell_type": "code",
      "source": [
        "#Confirm that the original numeric features have been scaled.\n",
        "X_train_transformed.describe().round(2)"
      ],
      "metadata": {
        "colab": {
          "base_uri": "https://localhost:8080/",
          "height": 300
        },
        "id": "vtAwC3FwaQlo",
        "outputId": "a6f0ec6c-27e4-4746-a758-841a7a8bd315"
      },
      "execution_count": null,
      "outputs": [
        {
          "output_type": "execute_result",
          "data": {
            "text/plain": [
              "            UTC  Temperature[C]  Humidity[%]  eCO2[ppm]    Raw H2     PM1.0  \\\n",
              "count  46974.00        46974.00     46974.00   46974.00  46974.00  46974.00   \n",
              "mean       0.00           -0.00        -0.00      -0.00      0.00      0.00   \n",
              "std        1.00            1.00         1.00       1.00      1.00      1.00   \n",
              "min       -0.73           -3.22        -4.74      -0.14     -9.72     -0.11   \n",
              "25%       -0.44           -0.11        -0.12      -0.14     -0.34     -0.11   \n",
              "50%       -0.27            0.24         0.16      -0.14     -0.07     -0.11   \n",
              "75%       -0.13            0.59         0.50      -0.12      0.27     -0.11   \n",
              "max        3.07            3.51         3.28      31.49      3.69     15.47   \n",
              "\n",
              "          PM2.5     NC0.5     NC1.0     NC2.5       CNT  Raw Ethanol  \\\n",
              "count  46974.00  46974.00  46974.00  46974.00  46974.00     46974.00   \n",
              "mean       0.00     -0.00      0.00      0.00     -0.00        -0.00   \n",
              "std        1.00      1.00      1.00      1.00      1.00         1.00   \n",
              "min       -0.09     -0.11     -0.09     -0.07     -1.38        -1.91   \n",
              "25%       -0.09     -0.11     -0.09     -0.07     -0.90        -0.61   \n",
              "50%       -0.09     -0.11     -0.09     -0.07     -0.16         0.69   \n",
              "75%       -0.09     -0.11     -0.09     -0.07      0.88         0.69   \n",
              "max       22.81     14.45     23.25     27.43      1.91         1.99   \n",
              "\n",
              "       Pressure[hPa]  \n",
              "count       46974.00  \n",
              "mean           -0.00  \n",
              "std             1.00  \n",
              "min            -0.48  \n",
              "25%            -0.48  \n",
              "50%            -0.48  \n",
              "75%            -0.48  \n",
              "max             3.89  "
            ],
            "text/html": [
              "\n",
              "  <div id=\"df-f2dd6de6-5876-49d9-a8c4-6b6bd65c23a9\" class=\"colab-df-container\">\n",
              "    <div>\n",
              "<style scoped>\n",
              "    .dataframe tbody tr th:only-of-type {\n",
              "        vertical-align: middle;\n",
              "    }\n",
              "\n",
              "    .dataframe tbody tr th {\n",
              "        vertical-align: top;\n",
              "    }\n",
              "\n",
              "    .dataframe thead th {\n",
              "        text-align: right;\n",
              "    }\n",
              "</style>\n",
              "<table border=\"1\" class=\"dataframe\">\n",
              "  <thead>\n",
              "    <tr style=\"text-align: right;\">\n",
              "      <th></th>\n",
              "      <th>UTC</th>\n",
              "      <th>Temperature[C]</th>\n",
              "      <th>Humidity[%]</th>\n",
              "      <th>eCO2[ppm]</th>\n",
              "      <th>Raw H2</th>\n",
              "      <th>PM1.0</th>\n",
              "      <th>PM2.5</th>\n",
              "      <th>NC0.5</th>\n",
              "      <th>NC1.0</th>\n",
              "      <th>NC2.5</th>\n",
              "      <th>CNT</th>\n",
              "      <th>Raw Ethanol</th>\n",
              "      <th>Pressure[hPa]</th>\n",
              "    </tr>\n",
              "  </thead>\n",
              "  <tbody>\n",
              "    <tr>\n",
              "      <th>count</th>\n",
              "      <td>46974.00</td>\n",
              "      <td>46974.00</td>\n",
              "      <td>46974.00</td>\n",
              "      <td>46974.00</td>\n",
              "      <td>46974.00</td>\n",
              "      <td>46974.00</td>\n",
              "      <td>46974.00</td>\n",
              "      <td>46974.00</td>\n",
              "      <td>46974.00</td>\n",
              "      <td>46974.00</td>\n",
              "      <td>46974.00</td>\n",
              "      <td>46974.00</td>\n",
              "      <td>46974.00</td>\n",
              "    </tr>\n",
              "    <tr>\n",
              "      <th>mean</th>\n",
              "      <td>0.00</td>\n",
              "      <td>-0.00</td>\n",
              "      <td>-0.00</td>\n",
              "      <td>-0.00</td>\n",
              "      <td>0.00</td>\n",
              "      <td>0.00</td>\n",
              "      <td>0.00</td>\n",
              "      <td>-0.00</td>\n",
              "      <td>0.00</td>\n",
              "      <td>0.00</td>\n",
              "      <td>-0.00</td>\n",
              "      <td>-0.00</td>\n",
              "      <td>-0.00</td>\n",
              "    </tr>\n",
              "    <tr>\n",
              "      <th>std</th>\n",
              "      <td>1.00</td>\n",
              "      <td>1.00</td>\n",
              "      <td>1.00</td>\n",
              "      <td>1.00</td>\n",
              "      <td>1.00</td>\n",
              "      <td>1.00</td>\n",
              "      <td>1.00</td>\n",
              "      <td>1.00</td>\n",
              "      <td>1.00</td>\n",
              "      <td>1.00</td>\n",
              "      <td>1.00</td>\n",
              "      <td>1.00</td>\n",
              "      <td>1.00</td>\n",
              "    </tr>\n",
              "    <tr>\n",
              "      <th>min</th>\n",
              "      <td>-0.73</td>\n",
              "      <td>-3.22</td>\n",
              "      <td>-4.74</td>\n",
              "      <td>-0.14</td>\n",
              "      <td>-9.72</td>\n",
              "      <td>-0.11</td>\n",
              "      <td>-0.09</td>\n",
              "      <td>-0.11</td>\n",
              "      <td>-0.09</td>\n",
              "      <td>-0.07</td>\n",
              "      <td>-1.38</td>\n",
              "      <td>-1.91</td>\n",
              "      <td>-0.48</td>\n",
              "    </tr>\n",
              "    <tr>\n",
              "      <th>25%</th>\n",
              "      <td>-0.44</td>\n",
              "      <td>-0.11</td>\n",
              "      <td>-0.12</td>\n",
              "      <td>-0.14</td>\n",
              "      <td>-0.34</td>\n",
              "      <td>-0.11</td>\n",
              "      <td>-0.09</td>\n",
              "      <td>-0.11</td>\n",
              "      <td>-0.09</td>\n",
              "      <td>-0.07</td>\n",
              "      <td>-0.90</td>\n",
              "      <td>-0.61</td>\n",
              "      <td>-0.48</td>\n",
              "    </tr>\n",
              "    <tr>\n",
              "      <th>50%</th>\n",
              "      <td>-0.27</td>\n",
              "      <td>0.24</td>\n",
              "      <td>0.16</td>\n",
              "      <td>-0.14</td>\n",
              "      <td>-0.07</td>\n",
              "      <td>-0.11</td>\n",
              "      <td>-0.09</td>\n",
              "      <td>-0.11</td>\n",
              "      <td>-0.09</td>\n",
              "      <td>-0.07</td>\n",
              "      <td>-0.16</td>\n",
              "      <td>0.69</td>\n",
              "      <td>-0.48</td>\n",
              "    </tr>\n",
              "    <tr>\n",
              "      <th>75%</th>\n",
              "      <td>-0.13</td>\n",
              "      <td>0.59</td>\n",
              "      <td>0.50</td>\n",
              "      <td>-0.12</td>\n",
              "      <td>0.27</td>\n",
              "      <td>-0.11</td>\n",
              "      <td>-0.09</td>\n",
              "      <td>-0.11</td>\n",
              "      <td>-0.09</td>\n",
              "      <td>-0.07</td>\n",
              "      <td>0.88</td>\n",
              "      <td>0.69</td>\n",
              "      <td>-0.48</td>\n",
              "    </tr>\n",
              "    <tr>\n",
              "      <th>max</th>\n",
              "      <td>3.07</td>\n",
              "      <td>3.51</td>\n",
              "      <td>3.28</td>\n",
              "      <td>31.49</td>\n",
              "      <td>3.69</td>\n",
              "      <td>15.47</td>\n",
              "      <td>22.81</td>\n",
              "      <td>14.45</td>\n",
              "      <td>23.25</td>\n",
              "      <td>27.43</td>\n",
              "      <td>1.91</td>\n",
              "      <td>1.99</td>\n",
              "      <td>3.89</td>\n",
              "    </tr>\n",
              "  </tbody>\n",
              "</table>\n",
              "</div>\n",
              "    <div class=\"colab-df-buttons\">\n",
              "\n",
              "  <div class=\"colab-df-container\">\n",
              "    <button class=\"colab-df-convert\" onclick=\"convertToInteractive('df-f2dd6de6-5876-49d9-a8c4-6b6bd65c23a9')\"\n",
              "            title=\"Convert this dataframe to an interactive table.\"\n",
              "            style=\"display:none;\">\n",
              "\n",
              "  <svg xmlns=\"http://www.w3.org/2000/svg\" height=\"24px\" viewBox=\"0 -960 960 960\">\n",
              "    <path d=\"M120-120v-720h720v720H120Zm60-500h600v-160H180v160Zm220 220h160v-160H400v160Zm0 220h160v-160H400v160ZM180-400h160v-160H180v160Zm440 0h160v-160H620v160ZM180-180h160v-160H180v160Zm440 0h160v-160H620v160Z\"/>\n",
              "  </svg>\n",
              "    </button>\n",
              "\n",
              "  <style>\n",
              "    .colab-df-container {\n",
              "      display:flex;\n",
              "      gap: 12px;\n",
              "    }\n",
              "\n",
              "    .colab-df-convert {\n",
              "      background-color: #E8F0FE;\n",
              "      border: none;\n",
              "      border-radius: 50%;\n",
              "      cursor: pointer;\n",
              "      display: none;\n",
              "      fill: #1967D2;\n",
              "      height: 32px;\n",
              "      padding: 0 0 0 0;\n",
              "      width: 32px;\n",
              "    }\n",
              "\n",
              "    .colab-df-convert:hover {\n",
              "      background-color: #E2EBFA;\n",
              "      box-shadow: 0px 1px 2px rgba(60, 64, 67, 0.3), 0px 1px 3px 1px rgba(60, 64, 67, 0.15);\n",
              "      fill: #174EA6;\n",
              "    }\n",
              "\n",
              "    .colab-df-buttons div {\n",
              "      margin-bottom: 4px;\n",
              "    }\n",
              "\n",
              "    [theme=dark] .colab-df-convert {\n",
              "      background-color: #3B4455;\n",
              "      fill: #D2E3FC;\n",
              "    }\n",
              "\n",
              "    [theme=dark] .colab-df-convert:hover {\n",
              "      background-color: #434B5C;\n",
              "      box-shadow: 0px 1px 3px 1px rgba(0, 0, 0, 0.15);\n",
              "      filter: drop-shadow(0px 1px 2px rgba(0, 0, 0, 0.3));\n",
              "      fill: #FFFFFF;\n",
              "    }\n",
              "  </style>\n",
              "\n",
              "    <script>\n",
              "      const buttonEl =\n",
              "        document.querySelector('#df-f2dd6de6-5876-49d9-a8c4-6b6bd65c23a9 button.colab-df-convert');\n",
              "      buttonEl.style.display =\n",
              "        google.colab.kernel.accessAllowed ? 'block' : 'none';\n",
              "\n",
              "      async function convertToInteractive(key) {\n",
              "        const element = document.querySelector('#df-f2dd6de6-5876-49d9-a8c4-6b6bd65c23a9');\n",
              "        const dataTable =\n",
              "          await google.colab.kernel.invokeFunction('convertToInteractive',\n",
              "                                                    [key], {});\n",
              "        if (!dataTable) return;\n",
              "\n",
              "        const docLinkHtml = 'Like what you see? Visit the ' +\n",
              "          '<a target=\"_blank\" href=https://colab.research.google.com/notebooks/data_table.ipynb>data table notebook</a>'\n",
              "          + ' to learn more about interactive tables.';\n",
              "        element.innerHTML = '';\n",
              "        dataTable['output_type'] = 'display_data';\n",
              "        await google.colab.output.renderOutput(dataTable, element);\n",
              "        const docLink = document.createElement('div');\n",
              "        docLink.innerHTML = docLinkHtml;\n",
              "        element.appendChild(docLink);\n",
              "      }\n",
              "    </script>\n",
              "  </div>\n",
              "\n",
              "\n",
              "<div id=\"df-21dfaa96-5532-4865-b53d-188be33e8d5d\">\n",
              "  <button class=\"colab-df-quickchart\" onclick=\"quickchart('df-21dfaa96-5532-4865-b53d-188be33e8d5d')\"\n",
              "            title=\"Suggest charts\"\n",
              "            style=\"display:none;\">\n",
              "\n",
              "<svg xmlns=\"http://www.w3.org/2000/svg\" height=\"24px\"viewBox=\"0 0 24 24\"\n",
              "     width=\"24px\">\n",
              "    <g>\n",
              "        <path d=\"M19 3H5c-1.1 0-2 .9-2 2v14c0 1.1.9 2 2 2h14c1.1 0 2-.9 2-2V5c0-1.1-.9-2-2-2zM9 17H7v-7h2v7zm4 0h-2V7h2v10zm4 0h-2v-4h2v4z\"/>\n",
              "    </g>\n",
              "</svg>\n",
              "  </button>\n",
              "\n",
              "<style>\n",
              "  .colab-df-quickchart {\n",
              "      --bg-color: #E8F0FE;\n",
              "      --fill-color: #1967D2;\n",
              "      --hover-bg-color: #E2EBFA;\n",
              "      --hover-fill-color: #174EA6;\n",
              "      --disabled-fill-color: #AAA;\n",
              "      --disabled-bg-color: #DDD;\n",
              "  }\n",
              "\n",
              "  [theme=dark] .colab-df-quickchart {\n",
              "      --bg-color: #3B4455;\n",
              "      --fill-color: #D2E3FC;\n",
              "      --hover-bg-color: #434B5C;\n",
              "      --hover-fill-color: #FFFFFF;\n",
              "      --disabled-bg-color: #3B4455;\n",
              "      --disabled-fill-color: #666;\n",
              "  }\n",
              "\n",
              "  .colab-df-quickchart {\n",
              "    background-color: var(--bg-color);\n",
              "    border: none;\n",
              "    border-radius: 50%;\n",
              "    cursor: pointer;\n",
              "    display: none;\n",
              "    fill: var(--fill-color);\n",
              "    height: 32px;\n",
              "    padding: 0;\n",
              "    width: 32px;\n",
              "  }\n",
              "\n",
              "  .colab-df-quickchart:hover {\n",
              "    background-color: var(--hover-bg-color);\n",
              "    box-shadow: 0 1px 2px rgba(60, 64, 67, 0.3), 0 1px 3px 1px rgba(60, 64, 67, 0.15);\n",
              "    fill: var(--button-hover-fill-color);\n",
              "  }\n",
              "\n",
              "  .colab-df-quickchart-complete:disabled,\n",
              "  .colab-df-quickchart-complete:disabled:hover {\n",
              "    background-color: var(--disabled-bg-color);\n",
              "    fill: var(--disabled-fill-color);\n",
              "    box-shadow: none;\n",
              "  }\n",
              "\n",
              "  .colab-df-spinner {\n",
              "    border: 2px solid var(--fill-color);\n",
              "    border-color: transparent;\n",
              "    border-bottom-color: var(--fill-color);\n",
              "    animation:\n",
              "      spin 1s steps(1) infinite;\n",
              "  }\n",
              "\n",
              "  @keyframes spin {\n",
              "    0% {\n",
              "      border-color: transparent;\n",
              "      border-bottom-color: var(--fill-color);\n",
              "      border-left-color: var(--fill-color);\n",
              "    }\n",
              "    20% {\n",
              "      border-color: transparent;\n",
              "      border-left-color: var(--fill-color);\n",
              "      border-top-color: var(--fill-color);\n",
              "    }\n",
              "    30% {\n",
              "      border-color: transparent;\n",
              "      border-left-color: var(--fill-color);\n",
              "      border-top-color: var(--fill-color);\n",
              "      border-right-color: var(--fill-color);\n",
              "    }\n",
              "    40% {\n",
              "      border-color: transparent;\n",
              "      border-right-color: var(--fill-color);\n",
              "      border-top-color: var(--fill-color);\n",
              "    }\n",
              "    60% {\n",
              "      border-color: transparent;\n",
              "      border-right-color: var(--fill-color);\n",
              "    }\n",
              "    80% {\n",
              "      border-color: transparent;\n",
              "      border-right-color: var(--fill-color);\n",
              "      border-bottom-color: var(--fill-color);\n",
              "    }\n",
              "    90% {\n",
              "      border-color: transparent;\n",
              "      border-bottom-color: var(--fill-color);\n",
              "    }\n",
              "  }\n",
              "</style>\n",
              "\n",
              "  <script>\n",
              "    async function quickchart(key) {\n",
              "      const quickchartButtonEl =\n",
              "        document.querySelector('#' + key + ' button');\n",
              "      quickchartButtonEl.disabled = true;  // To prevent multiple clicks.\n",
              "      quickchartButtonEl.classList.add('colab-df-spinner');\n",
              "      try {\n",
              "        const charts = await google.colab.kernel.invokeFunction(\n",
              "            'suggestCharts', [key], {});\n",
              "      } catch (error) {\n",
              "        console.error('Error during call to suggestCharts:', error);\n",
              "      }\n",
              "      quickchartButtonEl.classList.remove('colab-df-spinner');\n",
              "      quickchartButtonEl.classList.add('colab-df-quickchart-complete');\n",
              "    }\n",
              "    (() => {\n",
              "      let quickchartButtonEl =\n",
              "        document.querySelector('#df-21dfaa96-5532-4865-b53d-188be33e8d5d button');\n",
              "      quickchartButtonEl.style.display =\n",
              "        google.colab.kernel.accessAllowed ? 'block' : 'none';\n",
              "    })();\n",
              "  </script>\n",
              "</div>\n",
              "    </div>\n",
              "  </div>\n"
            ]
          },
          "metadata": {},
          "execution_count": 37
        }
      ]
    },
    {
      "cell_type": "markdown",
      "source": [
        "#Optimizing Models: Building & Selecting the Best one"
      ],
      "metadata": {
        "id": "zCfOHvIzalG5"
      }
    },
    {
      "cell_type": "markdown",
      "source": [
        "##building a descion tree model"
      ],
      "metadata": {
        "id": "yaQbcyUbav5g"
      }
    },
    {
      "cell_type": "code",
      "source": [
        "# Instantiate a default decision tree\n",
        "dec_tree = DecisionTreeClassifier(random_state = 42 , class_weight='balanced' )\n",
        "# Create a pipeline with preprocessing and the model\n",
        "dec_tree_pipe = make_pipeline( col_transformer, dec_tree)\n",
        "# Fit on the training data\n",
        "dec_tree_pipe.fit(X_train, y_train)\n",
        "# Obtain predictions\n",
        "dt_train_preds = dec_tree_pipe.predict(X_train)\n",
        "dt_test_preds = dec_tree_pipe.predict(X_test)\n",
        "dec_tree_pipe"
      ],
      "metadata": {
        "colab": {
          "base_uri": "https://localhost:8080/",
          "height": 225
        },
        "id": "4bNcv6BwR1ks",
        "outputId": "f9d2cb96-d928-42fa-9ce8-5a1d5fb9a170"
      },
      "execution_count": null,
      "outputs": [
        {
          "output_type": "execute_result",
          "data": {
            "text/plain": [
              "Pipeline(steps=[('columntransformer',\n",
              "                 ColumnTransformer(remainder='passthrough',\n",
              "                                   transformers=[('numeric',\n",
              "                                                  Pipeline(steps=[('simpleimputer',\n",
              "                                                                   SimpleImputer(strategy='median')),\n",
              "                                                                  ('standardscaler',\n",
              "                                                                   StandardScaler())]),\n",
              "                                                  Index(['UTC', 'Temperature[C]', 'Humidity[%]', 'eCO2[ppm]', 'Raw H2', 'PM1.0',\n",
              "       'PM2.5', 'NC0.5', 'NC1.0', 'NC2.5', 'CNT'],\n",
              "      dtype='object')),\n",
              "                                                 ('ordinalFeature',\n",
              "                                                  Pipeline(steps=[('ordinalencoder',\n",
              "                                                                   OrdinalEncoder(categories=[['High',\n",
              "                                                                                               'Medium',\n",
              "                                                                                               'Low',\n",
              "                                                                                               'Very '\n",
              "                                                                                               'Low'],\n",
              "                                                                                              ['High',\n",
              "                                                                                               'Medium',\n",
              "                                                                                               'Low']])),\n",
              "                                                                  ('standardscaler',\n",
              "                                                                   StandardScaler())]),\n",
              "                                                  Index(['Raw Ethanol', 'Pressure[hPa]'], dtype='object'))],\n",
              "                                   verbose_feature_names_out=False)),\n",
              "                ('decisiontreeclassifier',\n",
              "                 DecisionTreeClassifier(class_weight='balanced',\n",
              "                                        random_state=42))])"
            ],
            "text/html": [
              "<style>#sk-container-id-2 {color: black;background-color: white;}#sk-container-id-2 pre{padding: 0;}#sk-container-id-2 div.sk-toggleable {background-color: white;}#sk-container-id-2 label.sk-toggleable__label {cursor: pointer;display: block;width: 100%;margin-bottom: 0;padding: 0.3em;box-sizing: border-box;text-align: center;}#sk-container-id-2 label.sk-toggleable__label-arrow:before {content: \"▸\";float: left;margin-right: 0.25em;color: #696969;}#sk-container-id-2 label.sk-toggleable__label-arrow:hover:before {color: black;}#sk-container-id-2 div.sk-estimator:hover label.sk-toggleable__label-arrow:before {color: black;}#sk-container-id-2 div.sk-toggleable__content {max-height: 0;max-width: 0;overflow: hidden;text-align: left;background-color: #f0f8ff;}#sk-container-id-2 div.sk-toggleable__content pre {margin: 0.2em;color: black;border-radius: 0.25em;background-color: #f0f8ff;}#sk-container-id-2 input.sk-toggleable__control:checked~div.sk-toggleable__content {max-height: 200px;max-width: 100%;overflow: auto;}#sk-container-id-2 input.sk-toggleable__control:checked~label.sk-toggleable__label-arrow:before {content: \"▾\";}#sk-container-id-2 div.sk-estimator input.sk-toggleable__control:checked~label.sk-toggleable__label {background-color: #d4ebff;}#sk-container-id-2 div.sk-label input.sk-toggleable__control:checked~label.sk-toggleable__label {background-color: #d4ebff;}#sk-container-id-2 input.sk-hidden--visually {border: 0;clip: rect(1px 1px 1px 1px);clip: rect(1px, 1px, 1px, 1px);height: 1px;margin: -1px;overflow: hidden;padding: 0;position: absolute;width: 1px;}#sk-container-id-2 div.sk-estimator {font-family: monospace;background-color: #f0f8ff;border: 1px dotted black;border-radius: 0.25em;box-sizing: border-box;margin-bottom: 0.5em;}#sk-container-id-2 div.sk-estimator:hover {background-color: #d4ebff;}#sk-container-id-2 div.sk-parallel-item::after {content: \"\";width: 100%;border-bottom: 1px solid gray;flex-grow: 1;}#sk-container-id-2 div.sk-label:hover label.sk-toggleable__label {background-color: #d4ebff;}#sk-container-id-2 div.sk-serial::before {content: \"\";position: absolute;border-left: 1px solid gray;box-sizing: border-box;top: 0;bottom: 0;left: 50%;z-index: 0;}#sk-container-id-2 div.sk-serial {display: flex;flex-direction: column;align-items: center;background-color: white;padding-right: 0.2em;padding-left: 0.2em;position: relative;}#sk-container-id-2 div.sk-item {position: relative;z-index: 1;}#sk-container-id-2 div.sk-parallel {display: flex;align-items: stretch;justify-content: center;background-color: white;position: relative;}#sk-container-id-2 div.sk-item::before, #sk-container-id-2 div.sk-parallel-item::before {content: \"\";position: absolute;border-left: 1px solid gray;box-sizing: border-box;top: 0;bottom: 0;left: 50%;z-index: -1;}#sk-container-id-2 div.sk-parallel-item {display: flex;flex-direction: column;z-index: 1;position: relative;background-color: white;}#sk-container-id-2 div.sk-parallel-item:first-child::after {align-self: flex-end;width: 50%;}#sk-container-id-2 div.sk-parallel-item:last-child::after {align-self: flex-start;width: 50%;}#sk-container-id-2 div.sk-parallel-item:only-child::after {width: 0;}#sk-container-id-2 div.sk-dashed-wrapped {border: 1px dashed gray;margin: 0 0.4em 0.5em 0.4em;box-sizing: border-box;padding-bottom: 0.4em;background-color: white;}#sk-container-id-2 div.sk-label label {font-family: monospace;font-weight: bold;display: inline-block;line-height: 1.2em;}#sk-container-id-2 div.sk-label-container {text-align: center;}#sk-container-id-2 div.sk-container {/* jupyter's `normalize.less` sets `[hidden] { display: none; }` but bootstrap.min.css set `[hidden] { display: none !important; }` so we also need the `!important` here to be able to override the default hidden behavior on the sphinx rendered scikit-learn.org. See: https://github.com/scikit-learn/scikit-learn/issues/21755 */display: inline-block !important;position: relative;}#sk-container-id-2 div.sk-text-repr-fallback {display: none;}</style><div id=\"sk-container-id-2\" class=\"sk-top-container\"><div class=\"sk-text-repr-fallback\"><pre>Pipeline(steps=[(&#x27;columntransformer&#x27;,\n",
              "                 ColumnTransformer(remainder=&#x27;passthrough&#x27;,\n",
              "                                   transformers=[(&#x27;numeric&#x27;,\n",
              "                                                  Pipeline(steps=[(&#x27;simpleimputer&#x27;,\n",
              "                                                                   SimpleImputer(strategy=&#x27;median&#x27;)),\n",
              "                                                                  (&#x27;standardscaler&#x27;,\n",
              "                                                                   StandardScaler())]),\n",
              "                                                  Index([&#x27;UTC&#x27;, &#x27;Temperature[C]&#x27;, &#x27;Humidity[%]&#x27;, &#x27;eCO2[ppm]&#x27;, &#x27;Raw H2&#x27;, &#x27;PM1.0&#x27;,\n",
              "       &#x27;PM2.5&#x27;, &#x27;NC0.5&#x27;, &#x27;NC1.0&#x27;, &#x27;NC2.5&#x27;, &#x27;CNT&#x27;],\n",
              "      dtype=&#x27;object&#x27;)),\n",
              "                                                 (&#x27;ordinalFeature&#x27;,\n",
              "                                                  Pipeline(steps=[(&#x27;ordinalencoder&#x27;,\n",
              "                                                                   OrdinalEncoder(categories=[[&#x27;High&#x27;,\n",
              "                                                                                               &#x27;Medium&#x27;,\n",
              "                                                                                               &#x27;Low&#x27;,\n",
              "                                                                                               &#x27;Very &#x27;\n",
              "                                                                                               &#x27;Low&#x27;],\n",
              "                                                                                              [&#x27;High&#x27;,\n",
              "                                                                                               &#x27;Medium&#x27;,\n",
              "                                                                                               &#x27;Low&#x27;]])),\n",
              "                                                                  (&#x27;standardscaler&#x27;,\n",
              "                                                                   StandardScaler())]),\n",
              "                                                  Index([&#x27;Raw Ethanol&#x27;, &#x27;Pressure[hPa]&#x27;], dtype=&#x27;object&#x27;))],\n",
              "                                   verbose_feature_names_out=False)),\n",
              "                (&#x27;decisiontreeclassifier&#x27;,\n",
              "                 DecisionTreeClassifier(class_weight=&#x27;balanced&#x27;,\n",
              "                                        random_state=42))])</pre><b>In a Jupyter environment, please rerun this cell to show the HTML representation or trust the notebook. <br />On GitHub, the HTML representation is unable to render, please try loading this page with nbviewer.org.</b></div><div class=\"sk-container\" hidden><div class=\"sk-item sk-dashed-wrapped\"><div class=\"sk-label-container\"><div class=\"sk-label sk-toggleable\"><input class=\"sk-toggleable__control sk-hidden--visually\" id=\"sk-estimator-id-10\" type=\"checkbox\" ><label for=\"sk-estimator-id-10\" class=\"sk-toggleable__label sk-toggleable__label-arrow\">Pipeline</label><div class=\"sk-toggleable__content\"><pre>Pipeline(steps=[(&#x27;columntransformer&#x27;,\n",
              "                 ColumnTransformer(remainder=&#x27;passthrough&#x27;,\n",
              "                                   transformers=[(&#x27;numeric&#x27;,\n",
              "                                                  Pipeline(steps=[(&#x27;simpleimputer&#x27;,\n",
              "                                                                   SimpleImputer(strategy=&#x27;median&#x27;)),\n",
              "                                                                  (&#x27;standardscaler&#x27;,\n",
              "                                                                   StandardScaler())]),\n",
              "                                                  Index([&#x27;UTC&#x27;, &#x27;Temperature[C]&#x27;, &#x27;Humidity[%]&#x27;, &#x27;eCO2[ppm]&#x27;, &#x27;Raw H2&#x27;, &#x27;PM1.0&#x27;,\n",
              "       &#x27;PM2.5&#x27;, &#x27;NC0.5&#x27;, &#x27;NC1.0&#x27;, &#x27;NC2.5&#x27;, &#x27;CNT&#x27;],\n",
              "      dtype=&#x27;object&#x27;)),\n",
              "                                                 (&#x27;ordinalFeature&#x27;,\n",
              "                                                  Pipeline(steps=[(&#x27;ordinalencoder&#x27;,\n",
              "                                                                   OrdinalEncoder(categories=[[&#x27;High&#x27;,\n",
              "                                                                                               &#x27;Medium&#x27;,\n",
              "                                                                                               &#x27;Low&#x27;,\n",
              "                                                                                               &#x27;Very &#x27;\n",
              "                                                                                               &#x27;Low&#x27;],\n",
              "                                                                                              [&#x27;High&#x27;,\n",
              "                                                                                               &#x27;Medium&#x27;,\n",
              "                                                                                               &#x27;Low&#x27;]])),\n",
              "                                                                  (&#x27;standardscaler&#x27;,\n",
              "                                                                   StandardScaler())]),\n",
              "                                                  Index([&#x27;Raw Ethanol&#x27;, &#x27;Pressure[hPa]&#x27;], dtype=&#x27;object&#x27;))],\n",
              "                                   verbose_feature_names_out=False)),\n",
              "                (&#x27;decisiontreeclassifier&#x27;,\n",
              "                 DecisionTreeClassifier(class_weight=&#x27;balanced&#x27;,\n",
              "                                        random_state=42))])</pre></div></div></div><div class=\"sk-serial\"><div class=\"sk-item sk-dashed-wrapped\"><div class=\"sk-label-container\"><div class=\"sk-label sk-toggleable\"><input class=\"sk-toggleable__control sk-hidden--visually\" id=\"sk-estimator-id-11\" type=\"checkbox\" ><label for=\"sk-estimator-id-11\" class=\"sk-toggleable__label sk-toggleable__label-arrow\">columntransformer: ColumnTransformer</label><div class=\"sk-toggleable__content\"><pre>ColumnTransformer(remainder=&#x27;passthrough&#x27;,\n",
              "                  transformers=[(&#x27;numeric&#x27;,\n",
              "                                 Pipeline(steps=[(&#x27;simpleimputer&#x27;,\n",
              "                                                  SimpleImputer(strategy=&#x27;median&#x27;)),\n",
              "                                                 (&#x27;standardscaler&#x27;,\n",
              "                                                  StandardScaler())]),\n",
              "                                 Index([&#x27;UTC&#x27;, &#x27;Temperature[C]&#x27;, &#x27;Humidity[%]&#x27;, &#x27;eCO2[ppm]&#x27;, &#x27;Raw H2&#x27;, &#x27;PM1.0&#x27;,\n",
              "       &#x27;PM2.5&#x27;, &#x27;NC0.5&#x27;, &#x27;NC1.0&#x27;, &#x27;NC2.5&#x27;, &#x27;CNT&#x27;],\n",
              "      dtype=&#x27;object&#x27;)),\n",
              "                                (&#x27;ordinalFeature&#x27;,\n",
              "                                 Pipeline(steps=[(&#x27;ordinalencoder&#x27;,\n",
              "                                                  OrdinalEncoder(categories=[[&#x27;High&#x27;,\n",
              "                                                                              &#x27;Medium&#x27;,\n",
              "                                                                              &#x27;Low&#x27;,\n",
              "                                                                              &#x27;Very &#x27;\n",
              "                                                                              &#x27;Low&#x27;],\n",
              "                                                                             [&#x27;High&#x27;,\n",
              "                                                                              &#x27;Medium&#x27;,\n",
              "                                                                              &#x27;Low&#x27;]])),\n",
              "                                                 (&#x27;standardscaler&#x27;,\n",
              "                                                  StandardScaler())]),\n",
              "                                 Index([&#x27;Raw Ethanol&#x27;, &#x27;Pressure[hPa]&#x27;], dtype=&#x27;object&#x27;))],\n",
              "                  verbose_feature_names_out=False)</pre></div></div></div><div class=\"sk-parallel\"><div class=\"sk-parallel-item\"><div class=\"sk-item\"><div class=\"sk-label-container\"><div class=\"sk-label sk-toggleable\"><input class=\"sk-toggleable__control sk-hidden--visually\" id=\"sk-estimator-id-12\" type=\"checkbox\" ><label for=\"sk-estimator-id-12\" class=\"sk-toggleable__label sk-toggleable__label-arrow\">numeric</label><div class=\"sk-toggleable__content\"><pre>Index([&#x27;UTC&#x27;, &#x27;Temperature[C]&#x27;, &#x27;Humidity[%]&#x27;, &#x27;eCO2[ppm]&#x27;, &#x27;Raw H2&#x27;, &#x27;PM1.0&#x27;,\n",
              "       &#x27;PM2.5&#x27;, &#x27;NC0.5&#x27;, &#x27;NC1.0&#x27;, &#x27;NC2.5&#x27;, &#x27;CNT&#x27;],\n",
              "      dtype=&#x27;object&#x27;)</pre></div></div></div><div class=\"sk-serial\"><div class=\"sk-item\"><div class=\"sk-serial\"><div class=\"sk-item\"><div class=\"sk-estimator sk-toggleable\"><input class=\"sk-toggleable__control sk-hidden--visually\" id=\"sk-estimator-id-13\" type=\"checkbox\" ><label for=\"sk-estimator-id-13\" class=\"sk-toggleable__label sk-toggleable__label-arrow\">SimpleImputer</label><div class=\"sk-toggleable__content\"><pre>SimpleImputer(strategy=&#x27;median&#x27;)</pre></div></div></div><div class=\"sk-item\"><div class=\"sk-estimator sk-toggleable\"><input class=\"sk-toggleable__control sk-hidden--visually\" id=\"sk-estimator-id-14\" type=\"checkbox\" ><label for=\"sk-estimator-id-14\" class=\"sk-toggleable__label sk-toggleable__label-arrow\">StandardScaler</label><div class=\"sk-toggleable__content\"><pre>StandardScaler()</pre></div></div></div></div></div></div></div></div><div class=\"sk-parallel-item\"><div class=\"sk-item\"><div class=\"sk-label-container\"><div class=\"sk-label sk-toggleable\"><input class=\"sk-toggleable__control sk-hidden--visually\" id=\"sk-estimator-id-15\" type=\"checkbox\" ><label for=\"sk-estimator-id-15\" class=\"sk-toggleable__label sk-toggleable__label-arrow\">ordinalFeature</label><div class=\"sk-toggleable__content\"><pre>Index([&#x27;Raw Ethanol&#x27;, &#x27;Pressure[hPa]&#x27;], dtype=&#x27;object&#x27;)</pre></div></div></div><div class=\"sk-serial\"><div class=\"sk-item\"><div class=\"sk-serial\"><div class=\"sk-item\"><div class=\"sk-estimator sk-toggleable\"><input class=\"sk-toggleable__control sk-hidden--visually\" id=\"sk-estimator-id-16\" type=\"checkbox\" ><label for=\"sk-estimator-id-16\" class=\"sk-toggleable__label sk-toggleable__label-arrow\">OrdinalEncoder</label><div class=\"sk-toggleable__content\"><pre>OrdinalEncoder(categories=[[&#x27;High&#x27;, &#x27;Medium&#x27;, &#x27;Low&#x27;, &#x27;Very Low&#x27;],\n",
              "                           [&#x27;High&#x27;, &#x27;Medium&#x27;, &#x27;Low&#x27;]])</pre></div></div></div><div class=\"sk-item\"><div class=\"sk-estimator sk-toggleable\"><input class=\"sk-toggleable__control sk-hidden--visually\" id=\"sk-estimator-id-17\" type=\"checkbox\" ><label for=\"sk-estimator-id-17\" class=\"sk-toggleable__label sk-toggleable__label-arrow\">StandardScaler</label><div class=\"sk-toggleable__content\"><pre>StandardScaler()</pre></div></div></div></div></div></div></div></div><div class=\"sk-parallel-item\"><div class=\"sk-item\"><div class=\"sk-label-container\"><div class=\"sk-label sk-toggleable\"><input class=\"sk-toggleable__control sk-hidden--visually\" id=\"sk-estimator-id-18\" type=\"checkbox\" ><label for=\"sk-estimator-id-18\" class=\"sk-toggleable__label sk-toggleable__label-arrow\">remainder</label><div class=\"sk-toggleable__content\"><pre>[]</pre></div></div></div><div class=\"sk-serial\"><div class=\"sk-item\"><div class=\"sk-estimator sk-toggleable\"><input class=\"sk-toggleable__control sk-hidden--visually\" id=\"sk-estimator-id-19\" type=\"checkbox\" ><label for=\"sk-estimator-id-19\" class=\"sk-toggleable__label sk-toggleable__label-arrow\">passthrough</label><div class=\"sk-toggleable__content\"><pre>passthrough</pre></div></div></div></div></div></div></div></div><div class=\"sk-item\"><div class=\"sk-estimator sk-toggleable\"><input class=\"sk-toggleable__control sk-hidden--visually\" id=\"sk-estimator-id-20\" type=\"checkbox\" ><label for=\"sk-estimator-id-20\" class=\"sk-toggleable__label sk-toggleable__label-arrow\">DecisionTreeClassifier</label><div class=\"sk-toggleable__content\"><pre>DecisionTreeClassifier(class_weight=&#x27;balanced&#x27;, random_state=42)</pre></div></div></div></div></div></div></div>"
            ]
          },
          "metadata": {},
          "execution_count": 38
        }
      ]
    },
    {
      "cell_type": "code",
      "source": [
        "#evaluation metrics\n",
        "print_evaluation_metrics('Decision Tree', y_train, dt_train_preds, y_test, dt_test_preds)\n"
      ],
      "metadata": {
        "colab": {
          "base_uri": "https://localhost:8080/"
        },
        "id": "hbM3mJACgiv6",
        "outputId": "0fbd33ee-29d3-4488-cdfd-c9f5319907a7"
      },
      "execution_count": null,
      "outputs": [
        {
          "output_type": "stream",
          "name": "stdout",
          "text": [
            "Decision Tree Evaluation Metrics:\n",
            "\n",
            "Training set Evals:\n",
            "Accuracy: 1.000\n",
            "Recall: 1.000\n",
            "Precision: 1.000\n",
            "\n",
            "==============================\n",
            "\n",
            "Test set Evals:\n",
            "Accuracy: 0.999\n",
            "Recall: 0.999\n",
            "Precision: 0.999\n"
          ]
        }
      ]
    },
    {
      "cell_type": "code",
      "source": [
        "ConfusionMatrixDisplay.from_estimator(dec_tree, dt_test_preds, y_test, cmap = 'Blues',normalize='true');\n",
        "print(classification_report(y_test, dt_test_preds));"
      ],
      "metadata": {
        "colab": {
          "base_uri": "https://localhost:8080/",
          "height": 605
        },
        "id": "NmvgaO5yhKe6",
        "outputId": "bfdd4d6e-3f29-4de7-9413-ced22fbbec4d"
      },
      "execution_count": null,
      "outputs": [
        {
          "output_type": "stream",
          "name": "stdout",
          "text": [
            "              precision    recall  f1-score   support\n",
            "\n",
            "           0       1.00      1.00      1.00      4469\n",
            "           1       1.00      1.00      1.00     11190\n",
            "\n",
            "    accuracy                           1.00     15659\n",
            "   macro avg       1.00      1.00      1.00     15659\n",
            "weighted avg       1.00      1.00      1.00     15659\n",
            "\n"
          ]
        },
        {
          "output_type": "display_data",
          "data": {
            "text/plain": [
              "<Figure size 640x480 with 2 Axes>"
            ],
            "image/png": "[encoded data removed]"
          },
          "metadata": {}
        }
      ]
    },
    {
      "cell_type": "markdown",
      "source": [
        "## building a Logistic Regression Model"
      ],
      "metadata": {
        "id": "r4HOPuG-i0zA"
      }
    },
    {
      "cell_type": "code",
      "source": [
        "log_reg = LogisticRegression( class_weight='balanced')\n",
        "# Create a pipeline with preprocessing and the model\n",
        "logreg_pipe = make_pipeline( col_transformer, log_reg)\n",
        "\n",
        "# Fit the model\n",
        "logreg_pipe.fit(X_train, y_train)\n",
        "\n",
        "# Predictions\n",
        "logregp_train_preds = logreg_pipe.predict(X_train)\n",
        "logregp_test_preds = logreg_pipe.predict(X_test)\n",
        "logreg_pipe"
      ],
      "metadata": {
        "colab": {
          "base_uri": "https://localhost:8080/",
          "height": 225
        },
        "id": "LlEeF_6aqPcq",
        "outputId": "c45608d0-52a0-48ff-d68e-00cbc6ef22fa"
      },
      "execution_count": null,
      "outputs": [
        {
          "output_type": "execute_result",
          "data": {
            "text/plain": [
              "Pipeline(steps=[('columntransformer',\n",
              "                 ColumnTransformer(remainder='passthrough',\n",
              "                                   transformers=[('numeric',\n",
              "                                                  Pipeline(steps=[('simpleimputer',\n",
              "                                                                   SimpleImputer(strategy='median')),\n",
              "                                                                  ('standardscaler',\n",
              "                                                                   StandardScaler())]),\n",
              "                                                  Index(['UTC', 'Temperature[C]', 'Humidity[%]', 'eCO2[ppm]', 'Raw H2', 'PM1.0',\n",
              "       'PM2.5', 'NC0.5', 'NC1.0', 'NC2.5', 'CNT'],\n",
              "      dtype='object')),\n",
              "                                                 ('ordinalFeature',\n",
              "                                                  Pipeline(steps=[('ordinalencoder',\n",
              "                                                                   OrdinalEncoder(categories=[['High',\n",
              "                                                                                               'Medium',\n",
              "                                                                                               'Low',\n",
              "                                                                                               'Very '\n",
              "                                                                                               'Low'],\n",
              "                                                                                              ['High',\n",
              "                                                                                               'Medium',\n",
              "                                                                                               'Low']])),\n",
              "                                                                  ('standardscaler',\n",
              "                                                                   StandardScaler())]),\n",
              "                                                  Index(['Raw Ethanol', 'Pressure[hPa]'], dtype='object'))],\n",
              "                                   verbose_feature_names_out=False)),\n",
              "                ('logisticregression',\n",
              "                 LogisticRegression(class_weight='balanced'))])"
            ],
            "text/html": [
              "<style>#sk-container-id-3 {color: black;background-color: white;}#sk-container-id-3 pre{padding: 0;}#sk-container-id-3 div.sk-toggleable {background-color: white;}#sk-container-id-3 label.sk-toggleable__label {cursor: pointer;display: block;width: 100%;margin-bottom: 0;padding: 0.3em;box-sizing: border-box;text-align: center;}#sk-container-id-3 label.sk-toggleable__label-arrow:before {content: \"▸\";float: left;margin-right: 0.25em;color: #696969;}#sk-container-id-3 label.sk-toggleable__label-arrow:hover:before {color: black;}#sk-container-id-3 div.sk-estimator:hover label.sk-toggleable__label-arrow:before {color: black;}#sk-container-id-3 div.sk-toggleable__content {max-height: 0;max-width: 0;overflow: hidden;text-align: left;background-color: #f0f8ff;}#sk-container-id-3 div.sk-toggleable__content pre {margin: 0.2em;color: black;border-radius: 0.25em;background-color: #f0f8ff;}#sk-container-id-3 input.sk-toggleable__control:checked~div.sk-toggleable__content {max-height: 200px;max-width: 100%;overflow: auto;}#sk-container-id-3 input.sk-toggleable__control:checked~label.sk-toggleable__label-arrow:before {content: \"▾\";}#sk-container-id-3 div.sk-estimator input.sk-toggleable__control:checked~label.sk-toggleable__label {background-color: #d4ebff;}#sk-container-id-3 div.sk-label input.sk-toggleable__control:checked~label.sk-toggleable__label {background-color: #d4ebff;}#sk-container-id-3 input.sk-hidden--visually {border: 0;clip: rect(1px 1px 1px 1px);clip: rect(1px, 1px, 1px, 1px);height: 1px;margin: -1px;overflow: hidden;padding: 0;position: absolute;width: 1px;}#sk-container-id-3 div.sk-estimator {font-family: monospace;background-color: #f0f8ff;border: 1px dotted black;border-radius: 0.25em;box-sizing: border-box;margin-bottom: 0.5em;}#sk-container-id-3 div.sk-estimator:hover {background-color: #d4ebff;}#sk-container-id-3 div.sk-parallel-item::after {content: \"\";width: 100%;border-bottom: 1px solid gray;flex-grow: 1;}#sk-container-id-3 div.sk-label:hover label.sk-toggleable__label {background-color: #d4ebff;}#sk-container-id-3 div.sk-serial::before {content: \"\";position: absolute;border-left: 1px solid gray;box-sizing: border-box;top: 0;bottom: 0;left: 50%;z-index: 0;}#sk-container-id-3 div.sk-serial {display: flex;flex-direction: column;align-items: center;background-color: white;padding-right: 0.2em;padding-left: 0.2em;position: relative;}#sk-container-id-3 div.sk-item {position: relative;z-index: 1;}#sk-container-id-3 div.sk-parallel {display: flex;align-items: stretch;justify-content: center;background-color: white;position: relative;}#sk-container-id-3 div.sk-item::before, #sk-container-id-3 div.sk-parallel-item::before {content: \"\";position: absolute;border-left: 1px solid gray;box-sizing: border-box;top: 0;bottom: 0;left: 50%;z-index: -1;}#sk-container-id-3 div.sk-parallel-item {display: flex;flex-direction: column;z-index: 1;position: relative;background-color: white;}#sk-container-id-3 div.sk-parallel-item:first-child::after {align-self: flex-end;width: 50%;}#sk-container-id-3 div.sk-parallel-item:last-child::after {align-self: flex-start;width: 50%;}#sk-container-id-3 div.sk-parallel-item:only-child::after {width: 0;}#sk-container-id-3 div.sk-dashed-wrapped {border: 1px dashed gray;margin: 0 0.4em 0.5em 0.4em;box-sizing: border-box;padding-bottom: 0.4em;background-color: white;}#sk-container-id-3 div.sk-label label {font-family: monospace;font-weight: bold;display: inline-block;line-height: 1.2em;}#sk-container-id-3 div.sk-label-container {text-align: center;}#sk-container-id-3 div.sk-container {/* jupyter's `normalize.less` sets `[hidden] { display: none; }` but bootstrap.min.css set `[hidden] { display: none !important; }` so we also need the `!important` here to be able to override the default hidden behavior on the sphinx rendered scikit-learn.org. See: https://github.com/scikit-learn/scikit-learn/issues/21755 */display: inline-block !important;position: relative;}#sk-container-id-3 div.sk-text-repr-fallback {display: none;}</style><div id=\"sk-container-id-3\" class=\"sk-top-container\"><div class=\"sk-text-repr-fallback\"><pre>Pipeline(steps=[(&#x27;columntransformer&#x27;,\n",
              "                 ColumnTransformer(remainder=&#x27;passthrough&#x27;,\n",
              "                                   transformers=[(&#x27;numeric&#x27;,\n",
              "                                                  Pipeline(steps=[(&#x27;simpleimputer&#x27;,\n",
              "                                                                   SimpleImputer(strategy=&#x27;median&#x27;)),\n",
              "                                                                  (&#x27;standardscaler&#x27;,\n",
              "                                                                   StandardScaler())]),\n",
              "                                                  Index([&#x27;UTC&#x27;, &#x27;Temperature[C]&#x27;, &#x27;Humidity[%]&#x27;, &#x27;eCO2[ppm]&#x27;, &#x27;Raw H2&#x27;, &#x27;PM1.0&#x27;,\n",
              "       &#x27;PM2.5&#x27;, &#x27;NC0.5&#x27;, &#x27;NC1.0&#x27;, &#x27;NC2.5&#x27;, &#x27;CNT&#x27;],\n",
              "      dtype=&#x27;object&#x27;)),\n",
              "                                                 (&#x27;ordinalFeature&#x27;,\n",
              "                                                  Pipeline(steps=[(&#x27;ordinalencoder&#x27;,\n",
              "                                                                   OrdinalEncoder(categories=[[&#x27;High&#x27;,\n",
              "                                                                                               &#x27;Medium&#x27;,\n",
              "                                                                                               &#x27;Low&#x27;,\n",
              "                                                                                               &#x27;Very &#x27;\n",
              "                                                                                               &#x27;Low&#x27;],\n",
              "                                                                                              [&#x27;High&#x27;,\n",
              "                                                                                               &#x27;Medium&#x27;,\n",
              "                                                                                               &#x27;Low&#x27;]])),\n",
              "                                                                  (&#x27;standardscaler&#x27;,\n",
              "                                                                   StandardScaler())]),\n",
              "                                                  Index([&#x27;Raw Ethanol&#x27;, &#x27;Pressure[hPa]&#x27;], dtype=&#x27;object&#x27;))],\n",
              "                                   verbose_feature_names_out=False)),\n",
              "                (&#x27;logisticregression&#x27;,\n",
              "                 LogisticRegression(class_weight=&#x27;balanced&#x27;))])</pre><b>In a Jupyter environment, please rerun this cell to show the HTML representation or trust the notebook. <br />On GitHub, the HTML representation is unable to render, please try loading this page with nbviewer.org.</b></div><div class=\"sk-container\" hidden><div class=\"sk-item sk-dashed-wrapped\"><div class=\"sk-label-container\"><div class=\"sk-label sk-toggleable\"><input class=\"sk-toggleable__control sk-hidden--visually\" id=\"sk-estimator-id-21\" type=\"checkbox\" ><label for=\"sk-estimator-id-21\" class=\"sk-toggleable__label sk-toggleable__label-arrow\">Pipeline</label><div class=\"sk-toggleable__content\"><pre>Pipeline(steps=[(&#x27;columntransformer&#x27;,\n",
              "                 ColumnTransformer(remainder=&#x27;passthrough&#x27;,\n",
              "                                   transformers=[(&#x27;numeric&#x27;,\n",
              "                                                  Pipeline(steps=[(&#x27;simpleimputer&#x27;,\n",
              "                                                                   SimpleImputer(strategy=&#x27;median&#x27;)),\n",
              "                                                                  (&#x27;standardscaler&#x27;,\n",
              "                                                                   StandardScaler())]),\n",
              "                                                  Index([&#x27;UTC&#x27;, &#x27;Temperature[C]&#x27;, &#x27;Humidity[%]&#x27;, &#x27;eCO2[ppm]&#x27;, &#x27;Raw H2&#x27;, &#x27;PM1.0&#x27;,\n",
              "       &#x27;PM2.5&#x27;, &#x27;NC0.5&#x27;, &#x27;NC1.0&#x27;, &#x27;NC2.5&#x27;, &#x27;CNT&#x27;],\n",
              "      dtype=&#x27;object&#x27;)),\n",
              "                                                 (&#x27;ordinalFeature&#x27;,\n",
              "                                                  Pipeline(steps=[(&#x27;ordinalencoder&#x27;,\n",
              "                                                                   OrdinalEncoder(categories=[[&#x27;High&#x27;,\n",
              "                                                                                               &#x27;Medium&#x27;,\n",
              "                                                                                               &#x27;Low&#x27;,\n",
              "                                                                                               &#x27;Very &#x27;\n",
              "                                                                                               &#x27;Low&#x27;],\n",
              "                                                                                              [&#x27;High&#x27;,\n",
              "                                                                                               &#x27;Medium&#x27;,\n",
              "                                                                                               &#x27;Low&#x27;]])),\n",
              "                                                                  (&#x27;standardscaler&#x27;,\n",
              "                                                                   StandardScaler())]),\n",
              "                                                  Index([&#x27;Raw Ethanol&#x27;, &#x27;Pressure[hPa]&#x27;], dtype=&#x27;object&#x27;))],\n",
              "                                   verbose_feature_names_out=False)),\n",
              "                (&#x27;logisticregression&#x27;,\n",
              "                 LogisticRegression(class_weight=&#x27;balanced&#x27;))])</pre></div></div></div><div class=\"sk-serial\"><div class=\"sk-item sk-dashed-wrapped\"><div class=\"sk-label-container\"><div class=\"sk-label sk-toggleable\"><input class=\"sk-toggleable__control sk-hidden--visually\" id=\"sk-estimator-id-22\" type=\"checkbox\" ><label for=\"sk-estimator-id-22\" class=\"sk-toggleable__label sk-toggleable__label-arrow\">columntransformer: ColumnTransformer</label><div class=\"sk-toggleable__content\"><pre>ColumnTransformer(remainder=&#x27;passthrough&#x27;,\n",
              "                  transformers=[(&#x27;numeric&#x27;,\n",
              "                                 Pipeline(steps=[(&#x27;simpleimputer&#x27;,\n",
              "                                                  SimpleImputer(strategy=&#x27;median&#x27;)),\n",
              "                                                 (&#x27;standardscaler&#x27;,\n",
              "                                                  StandardScaler())]),\n",
              "                                 Index([&#x27;UTC&#x27;, &#x27;Temperature[C]&#x27;, &#x27;Humidity[%]&#x27;, &#x27;eCO2[ppm]&#x27;, &#x27;Raw H2&#x27;, &#x27;PM1.0&#x27;,\n",
              "       &#x27;PM2.5&#x27;, &#x27;NC0.5&#x27;, &#x27;NC1.0&#x27;, &#x27;NC2.5&#x27;, &#x27;CNT&#x27;],\n",
              "      dtype=&#x27;object&#x27;)),\n",
              "                                (&#x27;ordinalFeature&#x27;,\n",
              "                                 Pipeline(steps=[(&#x27;ordinalencoder&#x27;,\n",
              "                                                  OrdinalEncoder(categories=[[&#x27;High&#x27;,\n",
              "                                                                              &#x27;Medium&#x27;,\n",
              "                                                                              &#x27;Low&#x27;,\n",
              "                                                                              &#x27;Very &#x27;\n",
              "                                                                              &#x27;Low&#x27;],\n",
              "                                                                             [&#x27;High&#x27;,\n",
              "                                                                              &#x27;Medium&#x27;,\n",
              "                                                                              &#x27;Low&#x27;]])),\n",
              "                                                 (&#x27;standardscaler&#x27;,\n",
              "                                                  StandardScaler())]),\n",
              "                                 Index([&#x27;Raw Ethanol&#x27;, &#x27;Pressure[hPa]&#x27;], dtype=&#x27;object&#x27;))],\n",
              "                  verbose_feature_names_out=False)</pre></div></div></div><div class=\"sk-parallel\"><div class=\"sk-parallel-item\"><div class=\"sk-item\"><div class=\"sk-label-container\"><div class=\"sk-label sk-toggleable\"><input class=\"sk-toggleable__control sk-hidden--visually\" id=\"sk-estimator-id-23\" type=\"checkbox\" ><label for=\"sk-estimator-id-23\" class=\"sk-toggleable__label sk-toggleable__label-arrow\">numeric</label><div class=\"sk-toggleable__content\"><pre>Index([&#x27;UTC&#x27;, &#x27;Temperature[C]&#x27;, &#x27;Humidity[%]&#x27;, &#x27;eCO2[ppm]&#x27;, &#x27;Raw H2&#x27;, &#x27;PM1.0&#x27;,\n",
              "       &#x27;PM2.5&#x27;, &#x27;NC0.5&#x27;, &#x27;NC1.0&#x27;, &#x27;NC2.5&#x27;, &#x27;CNT&#x27;],\n",
              "      dtype=&#x27;object&#x27;)</pre></div></div></div><div class=\"sk-serial\"><div class=\"sk-item\"><div class=\"sk-serial\"><div class=\"sk-item\"><div class=\"sk-estimator sk-toggleable\"><input class=\"sk-toggleable__control sk-hidden--visually\" id=\"sk-estimator-id-24\" type=\"checkbox\" ><label for=\"sk-estimator-id-24\" class=\"sk-toggleable__label sk-toggleable__label-arrow\">SimpleImputer</label><div class=\"sk-toggleable__content\"><pre>SimpleImputer(strategy=&#x27;median&#x27;)</pre></div></div></div><div class=\"sk-item\"><div class=\"sk-estimator sk-toggleable\"><input class=\"sk-toggleable__control sk-hidden--visually\" id=\"sk-estimator-id-25\" type=\"checkbox\" ><label for=\"sk-estimator-id-25\" class=\"sk-toggleable__label sk-toggleable__label-arrow\">StandardScaler</label><div class=\"sk-toggleable__content\"><pre>StandardScaler()</pre></div></div></div></div></div></div></div></div><div class=\"sk-parallel-item\"><div class=\"sk-item\"><div class=\"sk-label-container\"><div class=\"sk-label sk-toggleable\"><input class=\"sk-toggleable__control sk-hidden--visually\" id=\"sk-estimator-id-26\" type=\"checkbox\" ><label for=\"sk-estimator-id-26\" class=\"sk-toggleable__label sk-toggleable__label-arrow\">ordinalFeature</label><div class=\"sk-toggleable__content\"><pre>Index([&#x27;Raw Ethanol&#x27;, &#x27;Pressure[hPa]&#x27;], dtype=&#x27;object&#x27;)</pre></div></div></div><div class=\"sk-serial\"><div class=\"sk-item\"><div class=\"sk-serial\"><div class=\"sk-item\"><div class=\"sk-estimator sk-toggleable\"><input class=\"sk-toggleable__control sk-hidden--visually\" id=\"sk-estimator-id-27\" type=\"checkbox\" ><label for=\"sk-estimator-id-27\" class=\"sk-toggleable__label sk-toggleable__label-arrow\">OrdinalEncoder</label><div class=\"sk-toggleable__content\"><pre>OrdinalEncoder(categories=[[&#x27;High&#x27;, &#x27;Medium&#x27;, &#x27;Low&#x27;, &#x27;Very Low&#x27;],\n",
              "                           [&#x27;High&#x27;, &#x27;Medium&#x27;, &#x27;Low&#x27;]])</pre></div></div></div><div class=\"sk-item\"><div class=\"sk-estimator sk-toggleable\"><input class=\"sk-toggleable__control sk-hidden--visually\" id=\"sk-estimator-id-28\" type=\"checkbox\" ><label for=\"sk-estimator-id-28\" class=\"sk-toggleable__label sk-toggleable__label-arrow\">StandardScaler</label><div class=\"sk-toggleable__content\"><pre>StandardScaler()</pre></div></div></div></div></div></div></div></div><div class=\"sk-parallel-item\"><div class=\"sk-item\"><div class=\"sk-label-container\"><div class=\"sk-label sk-toggleable\"><input class=\"sk-toggleable__control sk-hidden--visually\" id=\"sk-estimator-id-29\" type=\"checkbox\" ><label for=\"sk-estimator-id-29\" class=\"sk-toggleable__label sk-toggleable__label-arrow\">remainder</label><div class=\"sk-toggleable__content\"><pre>[]</pre></div></div></div><div class=\"sk-serial\"><div class=\"sk-item\"><div class=\"sk-estimator sk-toggleable\"><input class=\"sk-toggleable__control sk-hidden--visually\" id=\"sk-estimator-id-30\" type=\"checkbox\" ><label for=\"sk-estimator-id-30\" class=\"sk-toggleable__label sk-toggleable__label-arrow\">passthrough</label><div class=\"sk-toggleable__content\"><pre>passthrough</pre></div></div></div></div></div></div></div></div><div class=\"sk-item\"><div class=\"sk-estimator sk-toggleable\"><input class=\"sk-toggleable__control sk-hidden--visually\" id=\"sk-estimator-id-31\" type=\"checkbox\" ><label for=\"sk-estimator-id-31\" class=\"sk-toggleable__label sk-toggleable__label-arrow\">LogisticRegression</label><div class=\"sk-toggleable__content\"><pre>LogisticRegression(class_weight=&#x27;balanced&#x27;)</pre></div></div></div></div></div></div></div>"
            ]
          },
          "metadata": {},
          "execution_count": 41
        }
      ]
    },
    {
      "cell_type": "code",
      "source": [
        "#evaluation metrics\n",
        "print_evaluation_metrics('Logistic Regression', y_train, logregp_train_preds, y_test, logregp_test_preds)"
      ],
      "metadata": {
        "colab": {
          "base_uri": "https://localhost:8080/"
        },
        "outputId": "667d3a5a-84df-4e76-c591-05301f6fdfa3",
        "id": "Y51LkYrUrsdx"
      },
      "execution_count": null,
      "outputs": [
        {
          "output_type": "stream",
          "name": "stdout",
          "text": [
            "Logistic Regression Evaluation Metrics:\n",
            "\n",
            "Training set Evals:\n",
            "Accuracy: 0.868\n",
            "Recall: 0.963\n",
            "Precision: 0.868\n",
            "\n",
            "==============================\n",
            "\n",
            "Test set Evals:\n",
            "Accuracy: 0.864\n",
            "Recall: 0.963\n",
            "Precision: 0.862\n"
          ]
        }
      ]
    },
    {
      "cell_type": "code",
      "source": [
        "print(classification_report(y_test, logregp_test_preds))\n",
        "ConfusionMatrixDisplay.from_predictions(y_test, logregp_test_preds, normalize='true', cmap='Greens');\n"
      ],
      "metadata": {
        "colab": {
          "base_uri": "https://localhost:8080/",
          "height": 605
        },
        "id": "SdOLPLDsxKHH",
        "outputId": "7180a4e4-45bd-4846-a620-087785bdceea"
      },
      "execution_count": null,
      "outputs": [
        {
          "output_type": "stream",
          "name": "stdout",
          "text": [
            "              precision    recall  f1-score   support\n",
            "\n",
            "           0       0.87      0.62      0.72      4469\n",
            "           1       0.86      0.96      0.91     11190\n",
            "\n",
            "    accuracy                           0.86     15659\n",
            "   macro avg       0.87      0.79      0.82     15659\n",
            "weighted avg       0.86      0.86      0.86     15659\n",
            "\n"
          ]
        },
        {
          "output_type": "display_data",
          "data": {
            "text/plain": [
              "<Figure size 640x480 with 2 Axes>"
            ],
            "image/png": "[encoded data removed]"
          },
          "metadata": {}
        }
      ]
    },
    {
      "cell_type": "markdown",
      "source": [
        "###looking for the best way to deal with imbalanced classes"
      ],
      "metadata": {
        "id": "pgMyTwRjzzOt"
      }
    },
    {
      "cell_type": "code",
      "source": [
        "#import imblearn pipeline\n",
        "from imblearn.pipeline import make_pipeline as make_sampler_pipeline\n",
        "#Create model pipeline with col transformer, SMOTE, and model\n",
        "from imblearn.over_sampling import SMOTE\n",
        "smote = SMOTE()\n",
        "log_reg_smote = LogisticRegression(max_iter=1000)\n",
        "log_reg_smote_pipe = make_sampler_pipeline(col_transformer, smote, log_reg_smote)\n",
        "#Fit and evaluate the model pipeline\n",
        "log_reg_smote_pipe.fit(X_train, y_train)\n",
        "\n",
        "log_reg_smote_train_preds = log_reg_smote_pipe.predict(X_train)\n",
        "log_reg_smote_test_preds = log_reg_smote_pipe.predict(X_test)\n",
        "\n",
        "print_evaluation_metrics('Logistic Regression', y_train, log_reg_smote_train_preds, y_test, log_reg_smote_test_preds)"
      ],
      "metadata": {
        "colab": {
          "base_uri": "https://localhost:8080/"
        },
        "id": "OMnwhhersUEk",
        "outputId": "57221774-b56d-4f01-9304-5307432695e9"
      },
      "execution_count": null,
      "outputs": [
        {
          "output_type": "stream",
          "name": "stdout",
          "text": [
            "Logistic Regression Evaluation Metrics:\n",
            "\n",
            "Training set Evals:\n",
            "Accuracy: 0.859\n",
            "Recall: 0.943\n",
            "Precision: 0.870\n",
            "\n",
            "==============================\n",
            "\n",
            "Test set Evals:\n",
            "Accuracy: 0.856\n",
            "Recall: 0.945\n",
            "Precision: 0.866\n"
          ]
        }
      ]
    },
    {
      "cell_type": "code",
      "source": [
        "print(classification_report(y_test, log_reg_smote_test_preds))\n",
        "ConfusionMatrixDisplay.from_predictions(y_test, log_reg_smote_test_preds, normalize='true', cmap='Greens');"
      ],
      "metadata": {
        "colab": {
          "base_uri": "https://localhost:8080/",
          "height": 605
        },
        "id": "HwsuH6MBxTTA",
        "outputId": "99fa8f4e-5176-4ed8-bad8-860241203c57"
      },
      "execution_count": null,
      "outputs": [
        {
          "output_type": "stream",
          "name": "stdout",
          "text": [
            "              precision    recall  f1-score   support\n",
            "\n",
            "           0       0.82      0.63      0.72      4469\n",
            "           1       0.87      0.95      0.90     11190\n",
            "\n",
            "    accuracy                           0.86     15659\n",
            "   macro avg       0.84      0.79      0.81     15659\n",
            "weighted avg       0.85      0.86      0.85     15659\n",
            "\n"
          ]
        },
        {
          "output_type": "display_data",
          "data": {
            "text/plain": [
              "<Figure size 640x480 with 2 Axes>"
            ],
            "image/png": "[encoded data removed]"
          },
          "metadata": {}
        }
      ]
    },
    {
      "cell_type": "code",
      "source": [
        "#import imblearn pipeline\n",
        "from imblearn.pipeline import make_pipeline as make_sampler_pipeline\n",
        "from imblearn.under_sampling import RandomUnderSampler\n",
        "#Import RandomOverSampling\n",
        "from imblearn.over_sampling import RandomOverSampler\n",
        "#Create an oversampling pipeline\n",
        "over_sampler = RandomOverSampler()\n",
        "over_sample_pipe = make_sampler_pipeline(col_transformer, over_sampler)\n",
        "#Scale and oversample the data.\n",
        "X_train_over, y_train_over = over_sample_pipe.fit_resample(X_train, y_train)\n",
        "#Create the oversampling modeling pipeline\n",
        "log_reg_over = LogisticRegression(max_iter=1000)\n",
        "over_sample_log_reg_pipe = make_sampler_pipeline(col_transformer, over_sampler, log_reg_over)\n",
        "#Fit and evaluate the model\n",
        "over_sample_log_reg_pipe.fit(X_train, y_train)\n",
        "\n",
        "\n",
        "log_reg_over_sample_train_preds = over_sample_log_reg_pipe.predict(X_train)\n",
        "log_reg_over_sample_test_preds = over_sample_log_reg_pipe.predict(X_test)\n",
        "\n",
        "print_evaluation_metrics('Logistic Regression', y_train, log_reg_over_sample_train_preds, y_test, log_reg_over_sample_test_preds)"
      ],
      "metadata": {
        "colab": {
          "base_uri": "https://localhost:8080/"
        },
        "id": "_J2T_bVwum5q",
        "outputId": "1b0a4b06-0d64-4632-b6f3-396c6830a26a"
      },
      "execution_count": null,
      "outputs": [
        {
          "output_type": "stream",
          "name": "stdout",
          "text": [
            "Logistic Regression Evaluation Metrics:\n",
            "\n",
            "Training set Evals:\n",
            "Accuracy: 0.871\n",
            "Recall: 0.968\n",
            "Precision: 0.867\n",
            "\n",
            "==============================\n",
            "\n",
            "Test set Evals:\n",
            "Accuracy: 0.866\n",
            "Recall: 0.968\n",
            "Precision: 0.862\n"
          ]
        }
      ]
    },
    {
      "cell_type": "code",
      "source": [
        "print(classification_report(y_test, log_reg_over_sample_test_preds))\n",
        "ConfusionMatrixDisplay.from_predictions(y_test, log_reg_over_sample_test_preds, normalize='true', cmap='Greens');"
      ],
      "metadata": {
        "colab": {
          "base_uri": "https://localhost:8080/",
          "height": 605
        },
        "id": "cNxJ5jZazjvq",
        "outputId": "e341da9c-80b1-42e1-8148-3827d87aa844"
      },
      "execution_count": null,
      "outputs": [
        {
          "output_type": "stream",
          "name": "stdout",
          "text": [
            "              precision    recall  f1-score   support\n",
            "\n",
            "           0       0.89      0.61      0.72      4469\n",
            "           1       0.86      0.97      0.91     11190\n",
            "\n",
            "    accuracy                           0.87     15659\n",
            "   macro avg       0.87      0.79      0.82     15659\n",
            "weighted avg       0.87      0.87      0.86     15659\n",
            "\n"
          ]
        },
        {
          "output_type": "display_data",
          "data": {
            "text/plain": [
              "<Figure size 640x480 with 2 Axes>"
            ],
            "image/png": "[encoded data removed]"
          },
          "metadata": {}
        }
      ]
    },
    {
      "cell_type": "markdown",
      "source": [
        "###Logistic Regression Model Tuning"
      ],
      "metadata": {
        "id": "0vv9ma23z8J7"
      }
    },
    {
      "cell_type": "code",
      "source": [
        "log_reg.get_params()"
      ],
      "metadata": {
        "colab": {
          "base_uri": "https://localhost:8080/"
        },
        "id": "TIv0Fcncz9u2",
        "outputId": "a6ff866a-6518-436f-c48a-372751ba8471"
      },
      "execution_count": null,
      "outputs": [
        {
          "output_type": "execute_result",
          "data": {
            "text/plain": [
              "{'C': 1.0,\n",
              " 'class_weight': 'balanced',\n",
              " 'dual': False,\n",
              " 'fit_intercept': True,\n",
              " 'intercept_scaling': 1,\n",
              " 'l1_ratio': None,\n",
              " 'max_iter': 100,\n",
              " 'multi_class': 'auto',\n",
              " 'n_jobs': None,\n",
              " 'penalty': 'l2',\n",
              " 'random_state': None,\n",
              " 'solver': 'lbfgs',\n",
              " 'tol': 0.0001,\n",
              " 'verbose': 0,\n",
              " 'warm_start': False}"
            ]
          },
          "metadata": {},
          "execution_count": 48
        }
      ]
    },
    {
      "cell_type": "code",
      "source": [
        "# Define the parameter grid for GridSearchCV\n",
        "logreg_pipe_param_grid = {\n",
        "    'logisticregression__C': [0.0001,0.001, 0.01, 0.1, 1, 10, 100],\n",
        "    'logisticregression__penalty': ['l1', 'l2'],\n",
        "    'logisticregression__solver': ['lbfgs', 'liblinear'],\n",
        "\n",
        "}\n",
        "\n",
        "# Use GridSearchCV for hyperparameter tuning\n",
        "logreg_pipe_grid = GridSearchCV(logreg_pipe, logreg_pipe_param_grid, cv=5)\n",
        "logreg_pipe_grid.fit(X_train, y_train)"
      ],
      "metadata": {
        "colab": {
          "base_uri": "https://localhost:8080/",
          "height": 251
        },
        "id": "0kDMbll8z5vD",
        "outputId": "1f8e1637-8f8e-426a-d6fb-ee9661914770"
      },
      "execution_count": null,
      "outputs": [
        {
          "output_type": "execute_result",
          "data": {
            "text/plain": [
              "GridSearchCV(cv=5,\n",
              "             estimator=Pipeline(steps=[('columntransformer',\n",
              "                                        ColumnTransformer(remainder='passthrough',\n",
              "                                                          transformers=[('numeric',\n",
              "                                                                         Pipeline(steps=[('simpleimputer',\n",
              "                                                                                          SimpleImputer(strategy='median')),\n",
              "                                                                                         ('standardscaler',\n",
              "                                                                                          StandardScaler())]),\n",
              "                                                                         Index(['UTC', 'Temperature[C]', 'Humidity[%]', 'eCO2[ppm]', 'Raw H2', 'PM1.0',\n",
              "       'PM2.5', 'NC0.5', 'NC1.0', 'NC2.5', 'CNT'],\n",
              "      dt...\n",
              "                                                                                         ('standardscaler',\n",
              "                                                                                          StandardScaler())]),\n",
              "                                                                         Index(['Raw Ethanol', 'Pressure[hPa]'], dtype='object'))],\n",
              "                                                          verbose_feature_names_out=False)),\n",
              "                                       ('logisticregression',\n",
              "                                        LogisticRegression(class_weight='balanced'))]),\n",
              "             param_grid={'logisticregression__C': [0.0001, 0.001, 0.01, 0.1, 1,\n",
              "                                                   10, 100],\n",
              "                         'logisticregression__penalty': ['l1', 'l2'],\n",
              "                         'logisticregression__solver': ['lbfgs', 'liblinear']})"
            ],
            "text/html": [
              "<style>#sk-container-id-4 {color: black;background-color: white;}#sk-container-id-4 pre{padding: 0;}#sk-container-id-4 div.sk-toggleable {background-color: white;}#sk-container-id-4 label.sk-toggleable__label {cursor: pointer;display: block;width: 100%;margin-bottom: 0;padding: 0.3em;box-sizing: border-box;text-align: center;}#sk-container-id-4 label.sk-toggleable__label-arrow:before {content: \"▸\";float: left;margin-right: 0.25em;color: #696969;}#sk-container-id-4 label.sk-toggleable__label-arrow:hover:before {color: black;}#sk-container-id-4 div.sk-estimator:hover label.sk-toggleable__label-arrow:before {color: black;}#sk-container-id-4 div.sk-toggleable__content {max-height: 0;max-width: 0;overflow: hidden;text-align: left;background-color: #f0f8ff;}#sk-container-id-4 div.sk-toggleable__content pre {margin: 0.2em;color: black;border-radius: 0.25em;background-color: #f0f8ff;}#sk-container-id-4 input.sk-toggleable__control:checked~div.sk-toggleable__content {max-height: 200px;max-width: 100%;overflow: auto;}#sk-container-id-4 input.sk-toggleable__control:checked~label.sk-toggleable__label-arrow:before {content: \"▾\";}#sk-container-id-4 div.sk-estimator input.sk-toggleable__control:checked~label.sk-toggleable__label {background-color: #d4ebff;}#sk-container-id-4 div.sk-label input.sk-toggleable__control:checked~label.sk-toggleable__label {background-color: #d4ebff;}#sk-container-id-4 input.sk-hidden--visually {border: 0;clip: rect(1px 1px 1px 1px);clip: rect(1px, 1px, 1px, 1px);height: 1px;margin: -1px;overflow: hidden;padding: 0;position: absolute;width: 1px;}#sk-container-id-4 div.sk-estimator {font-family: monospace;background-color: #f0f8ff;border: 1px dotted black;border-radius: 0.25em;box-sizing: border-box;margin-bottom: 0.5em;}#sk-container-id-4 div.sk-estimator:hover {background-color: #d4ebff;}#sk-container-id-4 div.sk-parallel-item::after {content: \"\";width: 100%;border-bottom: 1px solid gray;flex-grow: 1;}#sk-container-id-4 div.sk-label:hover label.sk-toggleable__label {background-color: #d4ebff;}#sk-container-id-4 div.sk-serial::before {content: \"\";position: absolute;border-left: 1px solid gray;box-sizing: border-box;top: 0;bottom: 0;left: 50%;z-index: 0;}#sk-container-id-4 div.sk-serial {display: flex;flex-direction: column;align-items: center;background-color: white;padding-right: 0.2em;padding-left: 0.2em;position: relative;}#sk-container-id-4 div.sk-item {position: relative;z-index: 1;}#sk-container-id-4 div.sk-parallel {display: flex;align-items: stretch;justify-content: center;background-color: white;position: relative;}#sk-container-id-4 div.sk-item::before, #sk-container-id-4 div.sk-parallel-item::before {content: \"\";position: absolute;border-left: 1px solid gray;box-sizing: border-box;top: 0;bottom: 0;left: 50%;z-index: -1;}#sk-container-id-4 div.sk-parallel-item {display: flex;flex-direction: column;z-index: 1;position: relative;background-color: white;}#sk-container-id-4 div.sk-parallel-item:first-child::after {align-self: flex-end;width: 50%;}#sk-container-id-4 div.sk-parallel-item:last-child::after {align-self: flex-start;width: 50%;}#sk-container-id-4 div.sk-parallel-item:only-child::after {width: 0;}#sk-container-id-4 div.sk-dashed-wrapped {border: 1px dashed gray;margin: 0 0.4em 0.5em 0.4em;box-sizing: border-box;padding-bottom: 0.4em;background-color: white;}#sk-container-id-4 div.sk-label label {font-family: monospace;font-weight: bold;display: inline-block;line-height: 1.2em;}#sk-container-id-4 div.sk-label-container {text-align: center;}#sk-container-id-4 div.sk-container {/* jupyter's `normalize.less` sets `[hidden] { display: none; }` but bootstrap.min.css set `[hidden] { display: none !important; }` so we also need the `!important` here to be able to override the default hidden behavior on the sphinx rendered scikit-learn.org. See: https://github.com/scikit-learn/scikit-learn/issues/21755 */display: inline-block !important;position: relative;}#sk-container-id-4 div.sk-text-repr-fallback {display: none;}</style><div id=\"sk-container-id-4\" class=\"sk-top-container\"><div class=\"sk-text-repr-fallback\"><pre>GridSearchCV(cv=5,\n",
              "             estimator=Pipeline(steps=[(&#x27;columntransformer&#x27;,\n",
              "                                        ColumnTransformer(remainder=&#x27;passthrough&#x27;,\n",
              "                                                          transformers=[(&#x27;numeric&#x27;,\n",
              "                                                                         Pipeline(steps=[(&#x27;simpleimputer&#x27;,\n",
              "                                                                                          SimpleImputer(strategy=&#x27;median&#x27;)),\n",
              "                                                                                         (&#x27;standardscaler&#x27;,\n",
              "                                                                                          StandardScaler())]),\n",
              "                                                                         Index([&#x27;UTC&#x27;, &#x27;Temperature[C]&#x27;, &#x27;Humidity[%]&#x27;, &#x27;eCO2[ppm]&#x27;, &#x27;Raw H2&#x27;, &#x27;PM1.0&#x27;,\n",
              "       &#x27;PM2.5&#x27;, &#x27;NC0.5&#x27;, &#x27;NC1.0&#x27;, &#x27;NC2.5&#x27;, &#x27;CNT&#x27;],\n",
              "      dt...\n",
              "                                                                                         (&#x27;standardscaler&#x27;,\n",
              "                                                                                          StandardScaler())]),\n",
              "                                                                         Index([&#x27;Raw Ethanol&#x27;, &#x27;Pressure[hPa]&#x27;], dtype=&#x27;object&#x27;))],\n",
              "                                                          verbose_feature_names_out=False)),\n",
              "                                       (&#x27;logisticregression&#x27;,\n",
              "                                        LogisticRegression(class_weight=&#x27;balanced&#x27;))]),\n",
              "             param_grid={&#x27;logisticregression__C&#x27;: [0.0001, 0.001, 0.01, 0.1, 1,\n",
              "                                                   10, 100],\n",
              "                         &#x27;logisticregression__penalty&#x27;: [&#x27;l1&#x27;, &#x27;l2&#x27;],\n",
              "                         &#x27;logisticregression__solver&#x27;: [&#x27;lbfgs&#x27;, &#x27;liblinear&#x27;]})</pre><b>In a Jupyter environment, please rerun this cell to show the HTML representation or trust the notebook. <br />On GitHub, the HTML representation is unable to render, please try loading this page with nbviewer.org.</b></div><div class=\"sk-container\" hidden><div class=\"sk-item sk-dashed-wrapped\"><div class=\"sk-label-container\"><div class=\"sk-label sk-toggleable\"><input class=\"sk-toggleable__control sk-hidden--visually\" id=\"sk-estimator-id-32\" type=\"checkbox\" ><label for=\"sk-estimator-id-32\" class=\"sk-toggleable__label sk-toggleable__label-arrow\">GridSearchCV</label><div class=\"sk-toggleable__content\"><pre>GridSearchCV(cv=5,\n",
              "             estimator=Pipeline(steps=[(&#x27;columntransformer&#x27;,\n",
              "                                        ColumnTransformer(remainder=&#x27;passthrough&#x27;,\n",
              "                                                          transformers=[(&#x27;numeric&#x27;,\n",
              "                                                                         Pipeline(steps=[(&#x27;simpleimputer&#x27;,\n",
              "                                                                                          SimpleImputer(strategy=&#x27;median&#x27;)),\n",
              "                                                                                         (&#x27;standardscaler&#x27;,\n",
              "                                                                                          StandardScaler())]),\n",
              "                                                                         Index([&#x27;UTC&#x27;, &#x27;Temperature[C]&#x27;, &#x27;Humidity[%]&#x27;, &#x27;eCO2[ppm]&#x27;, &#x27;Raw H2&#x27;, &#x27;PM1.0&#x27;,\n",
              "       &#x27;PM2.5&#x27;, &#x27;NC0.5&#x27;, &#x27;NC1.0&#x27;, &#x27;NC2.5&#x27;, &#x27;CNT&#x27;],\n",
              "      dt...\n",
              "                                                                                         (&#x27;standardscaler&#x27;,\n",
              "                                                                                          StandardScaler())]),\n",
              "                                                                         Index([&#x27;Raw Ethanol&#x27;, &#x27;Pressure[hPa]&#x27;], dtype=&#x27;object&#x27;))],\n",
              "                                                          verbose_feature_names_out=False)),\n",
              "                                       (&#x27;logisticregression&#x27;,\n",
              "                                        LogisticRegression(class_weight=&#x27;balanced&#x27;))]),\n",
              "             param_grid={&#x27;logisticregression__C&#x27;: [0.0001, 0.001, 0.01, 0.1, 1,\n",
              "                                                   10, 100],\n",
              "                         &#x27;logisticregression__penalty&#x27;: [&#x27;l1&#x27;, &#x27;l2&#x27;],\n",
              "                         &#x27;logisticregression__solver&#x27;: [&#x27;lbfgs&#x27;, &#x27;liblinear&#x27;]})</pre></div></div></div><div class=\"sk-parallel\"><div class=\"sk-parallel-item\"><div class=\"sk-item\"><div class=\"sk-label-container\"><div class=\"sk-label sk-toggleable\"><input class=\"sk-toggleable__control sk-hidden--visually\" id=\"sk-estimator-id-33\" type=\"checkbox\" ><label for=\"sk-estimator-id-33\" class=\"sk-toggleable__label sk-toggleable__label-arrow\">estimator: Pipeline</label><div class=\"sk-toggleable__content\"><pre>Pipeline(steps=[(&#x27;columntransformer&#x27;,\n",
              "                 ColumnTransformer(remainder=&#x27;passthrough&#x27;,\n",
              "                                   transformers=[(&#x27;numeric&#x27;,\n",
              "                                                  Pipeline(steps=[(&#x27;simpleimputer&#x27;,\n",
              "                                                                   SimpleImputer(strategy=&#x27;median&#x27;)),\n",
              "                                                                  (&#x27;standardscaler&#x27;,\n",
              "                                                                   StandardScaler())]),\n",
              "                                                  Index([&#x27;UTC&#x27;, &#x27;Temperature[C]&#x27;, &#x27;Humidity[%]&#x27;, &#x27;eCO2[ppm]&#x27;, &#x27;Raw H2&#x27;, &#x27;PM1.0&#x27;,\n",
              "       &#x27;PM2.5&#x27;, &#x27;NC0.5&#x27;, &#x27;NC1.0&#x27;, &#x27;NC2.5&#x27;, &#x27;CNT&#x27;],\n",
              "      dtype=&#x27;object&#x27;)),\n",
              "                                                 (&#x27;ordinalFeature&#x27;,\n",
              "                                                  Pipeline(steps=[(&#x27;ordinalencoder&#x27;,\n",
              "                                                                   OrdinalEncoder(categories=[[&#x27;High&#x27;,\n",
              "                                                                                               &#x27;Medium&#x27;,\n",
              "                                                                                               &#x27;Low&#x27;,\n",
              "                                                                                               &#x27;Very &#x27;\n",
              "                                                                                               &#x27;Low&#x27;],\n",
              "                                                                                              [&#x27;High&#x27;,\n",
              "                                                                                               &#x27;Medium&#x27;,\n",
              "                                                                                               &#x27;Low&#x27;]])),\n",
              "                                                                  (&#x27;standardscaler&#x27;,\n",
              "                                                                   StandardScaler())]),\n",
              "                                                  Index([&#x27;Raw Ethanol&#x27;, &#x27;Pressure[hPa]&#x27;], dtype=&#x27;object&#x27;))],\n",
              "                                   verbose_feature_names_out=False)),\n",
              "                (&#x27;logisticregression&#x27;,\n",
              "                 LogisticRegression(class_weight=&#x27;balanced&#x27;))])</pre></div></div></div><div class=\"sk-serial\"><div class=\"sk-item\"><div class=\"sk-serial\"><div class=\"sk-item sk-dashed-wrapped\"><div class=\"sk-label-container\"><div class=\"sk-label sk-toggleable\"><input class=\"sk-toggleable__control sk-hidden--visually\" id=\"sk-estimator-id-34\" type=\"checkbox\" ><label for=\"sk-estimator-id-34\" class=\"sk-toggleable__label sk-toggleable__label-arrow\">columntransformer: ColumnTransformer</label><div class=\"sk-toggleable__content\"><pre>ColumnTransformer(remainder=&#x27;passthrough&#x27;,\n",
              "                  transformers=[(&#x27;numeric&#x27;,\n",
              "                                 Pipeline(steps=[(&#x27;simpleimputer&#x27;,\n",
              "                                                  SimpleImputer(strategy=&#x27;median&#x27;)),\n",
              "                                                 (&#x27;standardscaler&#x27;,\n",
              "                                                  StandardScaler())]),\n",
              "                                 Index([&#x27;UTC&#x27;, &#x27;Temperature[C]&#x27;, &#x27;Humidity[%]&#x27;, &#x27;eCO2[ppm]&#x27;, &#x27;Raw H2&#x27;, &#x27;PM1.0&#x27;,\n",
              "       &#x27;PM2.5&#x27;, &#x27;NC0.5&#x27;, &#x27;NC1.0&#x27;, &#x27;NC2.5&#x27;, &#x27;CNT&#x27;],\n",
              "      dtype=&#x27;object&#x27;)),\n",
              "                                (&#x27;ordinalFeature&#x27;,\n",
              "                                 Pipeline(steps=[(&#x27;ordinalencoder&#x27;,\n",
              "                                                  OrdinalEncoder(categories=[[&#x27;High&#x27;,\n",
              "                                                                              &#x27;Medium&#x27;,\n",
              "                                                                              &#x27;Low&#x27;,\n",
              "                                                                              &#x27;Very &#x27;\n",
              "                                                                              &#x27;Low&#x27;],\n",
              "                                                                             [&#x27;High&#x27;,\n",
              "                                                                              &#x27;Medium&#x27;,\n",
              "                                                                              &#x27;Low&#x27;]])),\n",
              "                                                 (&#x27;standardscaler&#x27;,\n",
              "                                                  StandardScaler())]),\n",
              "                                 Index([&#x27;Raw Ethanol&#x27;, &#x27;Pressure[hPa]&#x27;], dtype=&#x27;object&#x27;))],\n",
              "                  verbose_feature_names_out=False)</pre></div></div></div><div class=\"sk-parallel\"><div class=\"sk-parallel-item\"><div class=\"sk-item\"><div class=\"sk-label-container\"><div class=\"sk-label sk-toggleable\"><input class=\"sk-toggleable__control sk-hidden--visually\" id=\"sk-estimator-id-35\" type=\"checkbox\" ><label for=\"sk-estimator-id-35\" class=\"sk-toggleable__label sk-toggleable__label-arrow\">numeric</label><div class=\"sk-toggleable__content\"><pre>Index([&#x27;UTC&#x27;, &#x27;Temperature[C]&#x27;, &#x27;Humidity[%]&#x27;, &#x27;eCO2[ppm]&#x27;, &#x27;Raw H2&#x27;, &#x27;PM1.0&#x27;,\n",
              "       &#x27;PM2.5&#x27;, &#x27;NC0.5&#x27;, &#x27;NC1.0&#x27;, &#x27;NC2.5&#x27;, &#x27;CNT&#x27;],\n",
              "      dtype=&#x27;object&#x27;)</pre></div></div></div><div class=\"sk-serial\"><div class=\"sk-item\"><div class=\"sk-serial\"><div class=\"sk-item\"><div class=\"sk-estimator sk-toggleable\"><input class=\"sk-toggleable__control sk-hidden--visually\" id=\"sk-estimator-id-36\" type=\"checkbox\" ><label for=\"sk-estimator-id-36\" class=\"sk-toggleable__label sk-toggleable__label-arrow\">SimpleImputer</label><div class=\"sk-toggleable__content\"><pre>SimpleImputer(strategy=&#x27;median&#x27;)</pre></div></div></div><div class=\"sk-item\"><div class=\"sk-estimator sk-toggleable\"><input class=\"sk-toggleable__control sk-hidden--visually\" id=\"sk-estimator-id-37\" type=\"checkbox\" ><label for=\"sk-estimator-id-37\" class=\"sk-toggleable__label sk-toggleable__label-arrow\">StandardScaler</label><div class=\"sk-toggleable__content\"><pre>StandardScaler()</pre></div></div></div></div></div></div></div></div><div class=\"sk-parallel-item\"><div class=\"sk-item\"><div class=\"sk-label-container\"><div class=\"sk-label sk-toggleable\"><input class=\"sk-toggleable__control sk-hidden--visually\" id=\"sk-estimator-id-38\" type=\"checkbox\" ><label for=\"sk-estimator-id-38\" class=\"sk-toggleable__label sk-toggleable__label-arrow\">ordinalFeature</label><div class=\"sk-toggleable__content\"><pre>Index([&#x27;Raw Ethanol&#x27;, &#x27;Pressure[hPa]&#x27;], dtype=&#x27;object&#x27;)</pre></div></div></div><div class=\"sk-serial\"><div class=\"sk-item\"><div class=\"sk-serial\"><div class=\"sk-item\"><div class=\"sk-estimator sk-toggleable\"><input class=\"sk-toggleable__control sk-hidden--visually\" id=\"sk-estimator-id-39\" type=\"checkbox\" ><label for=\"sk-estimator-id-39\" class=\"sk-toggleable__label sk-toggleable__label-arrow\">OrdinalEncoder</label><div class=\"sk-toggleable__content\"><pre>OrdinalEncoder(categories=[[&#x27;High&#x27;, &#x27;Medium&#x27;, &#x27;Low&#x27;, &#x27;Very Low&#x27;],\n",
              "                           [&#x27;High&#x27;, &#x27;Medium&#x27;, &#x27;Low&#x27;]])</pre></div></div></div><div class=\"sk-item\"><div class=\"sk-estimator sk-toggleable\"><input class=\"sk-toggleable__control sk-hidden--visually\" id=\"sk-estimator-id-40\" type=\"checkbox\" ><label for=\"sk-estimator-id-40\" class=\"sk-toggleable__label sk-toggleable__label-arrow\">StandardScaler</label><div class=\"sk-toggleable__content\"><pre>StandardScaler()</pre></div></div></div></div></div></div></div></div><div class=\"sk-parallel-item\"><div class=\"sk-item\"><div class=\"sk-label-container\"><div class=\"sk-label sk-toggleable\"><input class=\"sk-toggleable__control sk-hidden--visually\" id=\"sk-estimator-id-41\" type=\"checkbox\" ><label for=\"sk-estimator-id-41\" class=\"sk-toggleable__label sk-toggleable__label-arrow\">remainder</label><div class=\"sk-toggleable__content\"><pre>[]</pre></div></div></div><div class=\"sk-serial\"><div class=\"sk-item\"><div class=\"sk-estimator sk-toggleable\"><input class=\"sk-toggleable__control sk-hidden--visually\" id=\"sk-estimator-id-42\" type=\"checkbox\" ><label for=\"sk-estimator-id-42\" class=\"sk-toggleable__label sk-toggleable__label-arrow\">passthrough</label><div class=\"sk-toggleable__content\"><pre>passthrough</pre></div></div></div></div></div></div></div></div><div class=\"sk-item\"><div class=\"sk-estimator sk-toggleable\"><input class=\"sk-toggleable__control sk-hidden--visually\" id=\"sk-estimator-id-43\" type=\"checkbox\" ><label for=\"sk-estimator-id-43\" class=\"sk-toggleable__label sk-toggleable__label-arrow\">LogisticRegression</label><div class=\"sk-toggleable__content\"><pre>LogisticRegression(class_weight=&#x27;balanced&#x27;)</pre></div></div></div></div></div></div></div></div></div></div></div></div>"
            ]
          },
          "metadata": {},
          "execution_count": 49
        }
      ]
    },
    {
      "cell_type": "code",
      "source": [
        "logreg_pipe_grid.best_params_"
      ],
      "metadata": {
        "colab": {
          "base_uri": "https://localhost:8080/"
        },
        "id": "_JC74CjdC6jC",
        "outputId": "2d6da852-9032-480c-fa21-438996cc9e1f"
      },
      "execution_count": null,
      "outputs": [
        {
          "output_type": "execute_result",
          "data": {
            "text/plain": [
              "{'logisticregression__C': 0.0001,\n",
              " 'logisticregression__penalty': 'l1',\n",
              " 'logisticregression__solver': 'liblinear'}"
            ]
          },
          "metadata": {},
          "execution_count": 50
        }
      ]
    },
    {
      "cell_type": "code",
      "source": [
        "#retrieve the best version of the model\n",
        "logreg_best_model = logreg_pipe_grid.best_estimator_\n",
        "\n",
        "#refit the model on the whole training set\n",
        "logreg_best_model.fit(X_train, y_train)\n",
        "# prediction\n",
        "logreg_best_model_train_pred = logreg_best_model.predict(X_train)\n",
        "logreg_best_model_test_pred = logreg_best_model.predict(X_test)\n",
        "\n",
        "#score the model on the test set\n",
        "logreg_best_model.score(X_test, y_test)"
      ],
      "metadata": {
        "colab": {
          "base_uri": "https://localhost:8080/"
        },
        "id": "z_qg4zmiEjuX",
        "outputId": "6d123b62-02d2-4291-ce91-2c6ee2edbfda"
      },
      "execution_count": null,
      "outputs": [
        {
          "output_type": "execute_result",
          "data": {
            "text/plain": [
              "0.8759818634651"
            ]
          },
          "metadata": {},
          "execution_count": 51
        }
      ]
    },
    {
      "cell_type": "code",
      "source": [
        "#evaluation metrics\n",
        "print_evaluation_metrics('Logistic Regression Tuned', y_train, logreg_best_model_train_pred, y_test, logreg_best_model_test_pred)"
      ],
      "metadata": {
        "colab": {
          "base_uri": "https://localhost:8080/"
        },
        "id": "Xm5eKDu5IEOo",
        "outputId": "ea154fc5-a58e-4234-a39b-522f70c7534b"
      },
      "execution_count": null,
      "outputs": [
        {
          "output_type": "stream",
          "name": "stdout",
          "text": [
            "Logistic Regression Tuned Evaluation Metrics:\n",
            "\n",
            "Training set Evals:\n",
            "Accuracy: 0.882\n",
            "Recall: 0.975\n",
            "Precision: 0.874\n",
            "\n",
            "==============================\n",
            "\n",
            "Test set Evals:\n",
            "Accuracy: 0.876\n",
            "Recall: 0.975\n",
            "Precision: 0.868\n"
          ]
        }
      ]
    },
    {
      "cell_type": "code",
      "source": [
        "print(classification_report(y_test, logreg_best_model_test_pred))\n",
        "ConfusionMatrixDisplay.from_predictions(y_test, logreg_best_model_test_pred, normalize='true', cmap='Greens');"
      ],
      "metadata": {
        "colab": {
          "base_uri": "https://localhost:8080/",
          "height": 605
        },
        "id": "4nGUYQW2Id4T",
        "outputId": "bdfa24aa-c716-4112-b067-d877b655bf1c"
      },
      "execution_count": null,
      "outputs": [
        {
          "output_type": "stream",
          "name": "stdout",
          "text": [
            "              precision    recall  f1-score   support\n",
            "\n",
            "           0       0.91      0.63      0.74      4469\n",
            "           1       0.87      0.97      0.92     11190\n",
            "\n",
            "    accuracy                           0.88     15659\n",
            "   macro avg       0.89      0.80      0.83     15659\n",
            "weighted avg       0.88      0.88      0.87     15659\n",
            "\n"
          ]
        },
        {
          "output_type": "display_data",
          "data": {
            "text/plain": [
              "<Figure size 640x480 with 2 Axes>"
            ],
            "image/png": "[encoded data removed]"
          },
          "metadata": {}
        }
      ]
    },
    {
      "cell_type": "markdown",
      "source": [
        "## building a kneighborsclassifier Model"
      ],
      "metadata": {
        "id": "bqW3--gDON3Z"
      }
    },
    {
      "cell_type": "code",
      "source": [
        "knn = KNeighborsClassifier( n_neighbors=1, weights='distance')\n",
        "# Create a pipeline with preprocessing and the model\n",
        "knn_pipe = make_pipeline( col_transformer, knn)\n",
        "\n",
        "# Fit the model\n",
        "knn_pipe.fit(X_train, y_train)\n",
        "\n",
        "# Predictions\n",
        "knn_train_preds = knn_pipe.predict(X_train)\n",
        "knn_test_preds = knn_pipe.predict(X_test)\n",
        "knn_pipe"
      ],
      "metadata": {
        "colab": {
          "base_uri": "https://localhost:8080/",
          "height": 225
        },
        "id": "1_YVGVEIObJl",
        "outputId": "02360f76-7b09-4c72-8010-ad7cfe9bf084"
      },
      "execution_count": null,
      "outputs": [
        {
          "output_type": "execute_result",
          "data": {
            "text/plain": [
              "Pipeline(steps=[('columntransformer',\n",
              "                 ColumnTransformer(remainder='passthrough',\n",
              "                                   transformers=[('numeric',\n",
              "                                                  Pipeline(steps=[('simpleimputer',\n",
              "                                                                   SimpleImputer(strategy='median')),\n",
              "                                                                  ('standardscaler',\n",
              "                                                                   StandardScaler())]),\n",
              "                                                  Index(['UTC', 'Temperature[C]', 'Humidity[%]', 'eCO2[ppm]', 'Raw H2', 'PM1.0',\n",
              "       'PM2.5', 'NC0.5', 'NC1.0', 'NC2.5', 'CNT'],\n",
              "      dtype='object')),\n",
              "                                                 ('ordinalFeature',\n",
              "                                                  Pipeline(steps=[('ordinalencoder',\n",
              "                                                                   OrdinalEncoder(categories=[['High',\n",
              "                                                                                               'Medium',\n",
              "                                                                                               'Low',\n",
              "                                                                                               'Very '\n",
              "                                                                                               'Low'],\n",
              "                                                                                              ['High',\n",
              "                                                                                               'Medium',\n",
              "                                                                                               'Low']])),\n",
              "                                                                  ('standardscaler',\n",
              "                                                                   StandardScaler())]),\n",
              "                                                  Index(['Raw Ethanol', 'Pressure[hPa]'], dtype='object'))],\n",
              "                                   verbose_feature_names_out=False)),\n",
              "                ('kneighborsclassifier',\n",
              "                 KNeighborsClassifier(n_neighbors=1, weights='distance'))])"
            ],
            "text/html": [
              "<style>#sk-container-id-5 {color: black;background-color: white;}#sk-container-id-5 pre{padding: 0;}#sk-container-id-5 div.sk-toggleable {background-color: white;}#sk-container-id-5 label.sk-toggleable__label {cursor: pointer;display: block;width: 100%;margin-bottom: 0;padding: 0.3em;box-sizing: border-box;text-align: center;}#sk-container-id-5 label.sk-toggleable__label-arrow:before {content: \"▸\";float: left;margin-right: 0.25em;color: #696969;}#sk-container-id-5 label.sk-toggleable__label-arrow:hover:before {color: black;}#sk-container-id-5 div.sk-estimator:hover label.sk-toggleable__label-arrow:before {color: black;}#sk-container-id-5 div.sk-toggleable__content {max-height: 0;max-width: 0;overflow: hidden;text-align: left;background-color: #f0f8ff;}#sk-container-id-5 div.sk-toggleable__content pre {margin: 0.2em;color: black;border-radius: 0.25em;background-color: #f0f8ff;}#sk-container-id-5 input.sk-toggleable__control:checked~div.sk-toggleable__content {max-height: 200px;max-width: 100%;overflow: auto;}#sk-container-id-5 input.sk-toggleable__control:checked~label.sk-toggleable__label-arrow:before {content: \"▾\";}#sk-container-id-5 div.sk-estimator input.sk-toggleable__control:checked~label.sk-toggleable__label {background-color: #d4ebff;}#sk-container-id-5 div.sk-label input.sk-toggleable__control:checked~label.sk-toggleable__label {background-color: #d4ebff;}#sk-container-id-5 input.sk-hidden--visually {border: 0;clip: rect(1px 1px 1px 1px);clip: rect(1px, 1px, 1px, 1px);height: 1px;margin: -1px;overflow: hidden;padding: 0;position: absolute;width: 1px;}#sk-container-id-5 div.sk-estimator {font-family: monospace;background-color: #f0f8ff;border: 1px dotted black;border-radius: 0.25em;box-sizing: border-box;margin-bottom: 0.5em;}#sk-container-id-5 div.sk-estimator:hover {background-color: #d4ebff;}#sk-container-id-5 div.sk-parallel-item::after {content: \"\";width: 100%;border-bottom: 1px solid gray;flex-grow: 1;}#sk-container-id-5 div.sk-label:hover label.sk-toggleable__label {background-color: #d4ebff;}#sk-container-id-5 div.sk-serial::before {content: \"\";position: absolute;border-left: 1px solid gray;box-sizing: border-box;top: 0;bottom: 0;left: 50%;z-index: 0;}#sk-container-id-5 div.sk-serial {display: flex;flex-direction: column;align-items: center;background-color: white;padding-right: 0.2em;padding-left: 0.2em;position: relative;}#sk-container-id-5 div.sk-item {position: relative;z-index: 1;}#sk-container-id-5 div.sk-parallel {display: flex;align-items: stretch;justify-content: center;background-color: white;position: relative;}#sk-container-id-5 div.sk-item::before, #sk-container-id-5 div.sk-parallel-item::before {content: \"\";position: absolute;border-left: 1px solid gray;box-sizing: border-box;top: 0;bottom: 0;left: 50%;z-index: -1;}#sk-container-id-5 div.sk-parallel-item {display: flex;flex-direction: column;z-index: 1;position: relative;background-color: white;}#sk-container-id-5 div.sk-parallel-item:first-child::after {align-self: flex-end;width: 50%;}#sk-container-id-5 div.sk-parallel-item:last-child::after {align-self: flex-start;width: 50%;}#sk-container-id-5 div.sk-parallel-item:only-child::after {width: 0;}#sk-container-id-5 div.sk-dashed-wrapped {border: 1px dashed gray;margin: 0 0.4em 0.5em 0.4em;box-sizing: border-box;padding-bottom: 0.4em;background-color: white;}#sk-container-id-5 div.sk-label label {font-family: monospace;font-weight: bold;display: inline-block;line-height: 1.2em;}#sk-container-id-5 div.sk-label-container {text-align: center;}#sk-container-id-5 div.sk-container {/* jupyter's `normalize.less` sets `[hidden] { display: none; }` but bootstrap.min.css set `[hidden] { display: none !important; }` so we also need the `!important` here to be able to override the default hidden behavior on the sphinx rendered scikit-learn.org. See: https://github.com/scikit-learn/scikit-learn/issues/21755 */display: inline-block !important;position: relative;}#sk-container-id-5 div.sk-text-repr-fallback {display: none;}</style><div id=\"sk-container-id-5\" class=\"sk-top-container\"><div class=\"sk-text-repr-fallback\"><pre>Pipeline(steps=[(&#x27;columntransformer&#x27;,\n",
              "                 ColumnTransformer(remainder=&#x27;passthrough&#x27;,\n",
              "                                   transformers=[(&#x27;numeric&#x27;,\n",
              "                                                  Pipeline(steps=[(&#x27;simpleimputer&#x27;,\n",
              "                                                                   SimpleImputer(strategy=&#x27;median&#x27;)),\n",
              "                                                                  (&#x27;standardscaler&#x27;,\n",
              "                                                                   StandardScaler())]),\n",
              "                                                  Index([&#x27;UTC&#x27;, &#x27;Temperature[C]&#x27;, &#x27;Humidity[%]&#x27;, &#x27;eCO2[ppm]&#x27;, &#x27;Raw H2&#x27;, &#x27;PM1.0&#x27;,\n",
              "       &#x27;PM2.5&#x27;, &#x27;NC0.5&#x27;, &#x27;NC1.0&#x27;, &#x27;NC2.5&#x27;, &#x27;CNT&#x27;],\n",
              "      dtype=&#x27;object&#x27;)),\n",
              "                                                 (&#x27;ordinalFeature&#x27;,\n",
              "                                                  Pipeline(steps=[(&#x27;ordinalencoder&#x27;,\n",
              "                                                                   OrdinalEncoder(categories=[[&#x27;High&#x27;,\n",
              "                                                                                               &#x27;Medium&#x27;,\n",
              "                                                                                               &#x27;Low&#x27;,\n",
              "                                                                                               &#x27;Very &#x27;\n",
              "                                                                                               &#x27;Low&#x27;],\n",
              "                                                                                              [&#x27;High&#x27;,\n",
              "                                                                                               &#x27;Medium&#x27;,\n",
              "                                                                                               &#x27;Low&#x27;]])),\n",
              "                                                                  (&#x27;standardscaler&#x27;,\n",
              "                                                                   StandardScaler())]),\n",
              "                                                  Index([&#x27;Raw Ethanol&#x27;, &#x27;Pressure[hPa]&#x27;], dtype=&#x27;object&#x27;))],\n",
              "                                   verbose_feature_names_out=False)),\n",
              "                (&#x27;kneighborsclassifier&#x27;,\n",
              "                 KNeighborsClassifier(n_neighbors=1, weights=&#x27;distance&#x27;))])</pre><b>In a Jupyter environment, please rerun this cell to show the HTML representation or trust the notebook. <br />On GitHub, the HTML representation is unable to render, please try loading this page with nbviewer.org.</b></div><div class=\"sk-container\" hidden><div class=\"sk-item sk-dashed-wrapped\"><div class=\"sk-label-container\"><div class=\"sk-label sk-toggleable\"><input class=\"sk-toggleable__control sk-hidden--visually\" id=\"sk-estimator-id-44\" type=\"checkbox\" ><label for=\"sk-estimator-id-44\" class=\"sk-toggleable__label sk-toggleable__label-arrow\">Pipeline</label><div class=\"sk-toggleable__content\"><pre>Pipeline(steps=[(&#x27;columntransformer&#x27;,\n",
              "                 ColumnTransformer(remainder=&#x27;passthrough&#x27;,\n",
              "                                   transformers=[(&#x27;numeric&#x27;,\n",
              "                                                  Pipeline(steps=[(&#x27;simpleimputer&#x27;,\n",
              "                                                                   SimpleImputer(strategy=&#x27;median&#x27;)),\n",
              "                                                                  (&#x27;standardscaler&#x27;,\n",
              "                                                                   StandardScaler())]),\n",
              "                                                  Index([&#x27;UTC&#x27;, &#x27;Temperature[C]&#x27;, &#x27;Humidity[%]&#x27;, &#x27;eCO2[ppm]&#x27;, &#x27;Raw H2&#x27;, &#x27;PM1.0&#x27;,\n",
              "       &#x27;PM2.5&#x27;, &#x27;NC0.5&#x27;, &#x27;NC1.0&#x27;, &#x27;NC2.5&#x27;, &#x27;CNT&#x27;],\n",
              "      dtype=&#x27;object&#x27;)),\n",
              "                                                 (&#x27;ordinalFeature&#x27;,\n",
              "                                                  Pipeline(steps=[(&#x27;ordinalencoder&#x27;,\n",
              "                                                                   OrdinalEncoder(categories=[[&#x27;High&#x27;,\n",
              "                                                                                               &#x27;Medium&#x27;,\n",
              "                                                                                               &#x27;Low&#x27;,\n",
              "                                                                                               &#x27;Very &#x27;\n",
              "                                                                                               &#x27;Low&#x27;],\n",
              "                                                                                              [&#x27;High&#x27;,\n",
              "                                                                                               &#x27;Medium&#x27;,\n",
              "                                                                                               &#x27;Low&#x27;]])),\n",
              "                                                                  (&#x27;standardscaler&#x27;,\n",
              "                                                                   StandardScaler())]),\n",
              "                                                  Index([&#x27;Raw Ethanol&#x27;, &#x27;Pressure[hPa]&#x27;], dtype=&#x27;object&#x27;))],\n",
              "                                   verbose_feature_names_out=False)),\n",
              "                (&#x27;kneighborsclassifier&#x27;,\n",
              "                 KNeighborsClassifier(n_neighbors=1, weights=&#x27;distance&#x27;))])</pre></div></div></div><div class=\"sk-serial\"><div class=\"sk-item sk-dashed-wrapped\"><div class=\"sk-label-container\"><div class=\"sk-label sk-toggleable\"><input class=\"sk-toggleable__control sk-hidden--visually\" id=\"sk-estimator-id-45\" type=\"checkbox\" ><label for=\"sk-estimator-id-45\" class=\"sk-toggleable__label sk-toggleable__label-arrow\">columntransformer: ColumnTransformer</label><div class=\"sk-toggleable__content\"><pre>ColumnTransformer(remainder=&#x27;passthrough&#x27;,\n",
              "                  transformers=[(&#x27;numeric&#x27;,\n",
              "                                 Pipeline(steps=[(&#x27;simpleimputer&#x27;,\n",
              "                                                  SimpleImputer(strategy=&#x27;median&#x27;)),\n",
              "                                                 (&#x27;standardscaler&#x27;,\n",
              "                                                  StandardScaler())]),\n",
              "                                 Index([&#x27;UTC&#x27;, &#x27;Temperature[C]&#x27;, &#x27;Humidity[%]&#x27;, &#x27;eCO2[ppm]&#x27;, &#x27;Raw H2&#x27;, &#x27;PM1.0&#x27;,\n",
              "       &#x27;PM2.5&#x27;, &#x27;NC0.5&#x27;, &#x27;NC1.0&#x27;, &#x27;NC2.5&#x27;, &#x27;CNT&#x27;],\n",
              "      dtype=&#x27;object&#x27;)),\n",
              "                                (&#x27;ordinalFeature&#x27;,\n",
              "                                 Pipeline(steps=[(&#x27;ordinalencoder&#x27;,\n",
              "                                                  OrdinalEncoder(categories=[[&#x27;High&#x27;,\n",
              "                                                                              &#x27;Medium&#x27;,\n",
              "                                                                              &#x27;Low&#x27;,\n",
              "                                                                              &#x27;Very &#x27;\n",
              "                                                                              &#x27;Low&#x27;],\n",
              "                                                                             [&#x27;High&#x27;,\n",
              "                                                                              &#x27;Medium&#x27;,\n",
              "                                                                              &#x27;Low&#x27;]])),\n",
              "                                                 (&#x27;standardscaler&#x27;,\n",
              "                                                  StandardScaler())]),\n",
              "                                 Index([&#x27;Raw Ethanol&#x27;, &#x27;Pressure[hPa]&#x27;], dtype=&#x27;object&#x27;))],\n",
              "                  verbose_feature_names_out=False)</pre></div></div></div><div class=\"sk-parallel\"><div class=\"sk-parallel-item\"><div class=\"sk-item\"><div class=\"sk-label-container\"><div class=\"sk-label sk-toggleable\"><input class=\"sk-toggleable__control sk-hidden--visually\" id=\"sk-estimator-id-46\" type=\"checkbox\" ><label for=\"sk-estimator-id-46\" class=\"sk-toggleable__label sk-toggleable__label-arrow\">numeric</label><div class=\"sk-toggleable__content\"><pre>Index([&#x27;UTC&#x27;, &#x27;Temperature[C]&#x27;, &#x27;Humidity[%]&#x27;, &#x27;eCO2[ppm]&#x27;, &#x27;Raw H2&#x27;, &#x27;PM1.0&#x27;,\n",
              "       &#x27;PM2.5&#x27;, &#x27;NC0.5&#x27;, &#x27;NC1.0&#x27;, &#x27;NC2.5&#x27;, &#x27;CNT&#x27;],\n",
              "      dtype=&#x27;object&#x27;)</pre></div></div></div><div class=\"sk-serial\"><div class=\"sk-item\"><div class=\"sk-serial\"><div class=\"sk-item\"><div class=\"sk-estimator sk-toggleable\"><input class=\"sk-toggleable__control sk-hidden--visually\" id=\"sk-estimator-id-47\" type=\"checkbox\" ><label for=\"sk-estimator-id-47\" class=\"sk-toggleable__label sk-toggleable__label-arrow\">SimpleImputer</label><div class=\"sk-toggleable__content\"><pre>SimpleImputer(strategy=&#x27;median&#x27;)</pre></div></div></div><div class=\"sk-item\"><div class=\"sk-estimator sk-toggleable\"><input class=\"sk-toggleable__control sk-hidden--visually\" id=\"sk-estimator-id-48\" type=\"checkbox\" ><label for=\"sk-estimator-id-48\" class=\"sk-toggleable__label sk-toggleable__label-arrow\">StandardScaler</label><div class=\"sk-toggleable__content\"><pre>StandardScaler()</pre></div></div></div></div></div></div></div></div><div class=\"sk-parallel-item\"><div class=\"sk-item\"><div class=\"sk-label-container\"><div class=\"sk-label sk-toggleable\"><input class=\"sk-toggleable__control sk-hidden--visually\" id=\"sk-estimator-id-49\" type=\"checkbox\" ><label for=\"sk-estimator-id-49\" class=\"sk-toggleable__label sk-toggleable__label-arrow\">ordinalFeature</label><div class=\"sk-toggleable__content\"><pre>Index([&#x27;Raw Ethanol&#x27;, &#x27;Pressure[hPa]&#x27;], dtype=&#x27;object&#x27;)</pre></div></div></div><div class=\"sk-serial\"><div class=\"sk-item\"><div class=\"sk-serial\"><div class=\"sk-item\"><div class=\"sk-estimator sk-toggleable\"><input class=\"sk-toggleable__control sk-hidden--visually\" id=\"sk-estimator-id-50\" type=\"checkbox\" ><label for=\"sk-estimator-id-50\" class=\"sk-toggleable__label sk-toggleable__label-arrow\">OrdinalEncoder</label><div class=\"sk-toggleable__content\"><pre>OrdinalEncoder(categories=[[&#x27;High&#x27;, &#x27;Medium&#x27;, &#x27;Low&#x27;, &#x27;Very Low&#x27;],\n",
              "                           [&#x27;High&#x27;, &#x27;Medium&#x27;, &#x27;Low&#x27;]])</pre></div></div></div><div class=\"sk-item\"><div class=\"sk-estimator sk-toggleable\"><input class=\"sk-toggleable__control sk-hidden--visually\" id=\"sk-estimator-id-51\" type=\"checkbox\" ><label for=\"sk-estimator-id-51\" class=\"sk-toggleable__label sk-toggleable__label-arrow\">StandardScaler</label><div class=\"sk-toggleable__content\"><pre>StandardScaler()</pre></div></div></div></div></div></div></div></div><div class=\"sk-parallel-item\"><div class=\"sk-item\"><div class=\"sk-label-container\"><div class=\"sk-label sk-toggleable\"><input class=\"sk-toggleable__control sk-hidden--visually\" id=\"sk-estimator-id-52\" type=\"checkbox\" ><label for=\"sk-estimator-id-52\" class=\"sk-toggleable__label sk-toggleable__label-arrow\">remainder</label><div class=\"sk-toggleable__content\"><pre>[]</pre></div></div></div><div class=\"sk-serial\"><div class=\"sk-item\"><div class=\"sk-estimator sk-toggleable\"><input class=\"sk-toggleable__control sk-hidden--visually\" id=\"sk-estimator-id-53\" type=\"checkbox\" ><label for=\"sk-estimator-id-53\" class=\"sk-toggleable__label sk-toggleable__label-arrow\">passthrough</label><div class=\"sk-toggleable__content\"><pre>passthrough</pre></div></div></div></div></div></div></div></div><div class=\"sk-item\"><div class=\"sk-estimator sk-toggleable\"><input class=\"sk-toggleable__control sk-hidden--visually\" id=\"sk-estimator-id-54\" type=\"checkbox\" ><label for=\"sk-estimator-id-54\" class=\"sk-toggleable__label sk-toggleable__label-arrow\">KNeighborsClassifier</label><div class=\"sk-toggleable__content\"><pre>KNeighborsClassifier(n_neighbors=1, weights=&#x27;distance&#x27;)</pre></div></div></div></div></div></div></div>"
            ]
          },
          "metadata": {},
          "execution_count": 54
        }
      ]
    },
    {
      "cell_type": "code",
      "source": [
        "#evaluation metrics\n",
        "print_evaluation_metrics('KNN', y_train, knn_train_preds, y_test, knn_test_preds)"
      ],
      "metadata": {
        "colab": {
          "base_uri": "https://localhost:8080/"
        },
        "id": "AXveLoB8QAZe",
        "outputId": "6f1be94b-4c74-4c41-95f4-ef7a85a7edb1"
      },
      "execution_count": null,
      "outputs": [
        {
          "output_type": "stream",
          "name": "stdout",
          "text": [
            "KNN Evaluation Metrics:\n",
            "\n",
            "Training set Evals:\n",
            "Accuracy: 1.000\n",
            "Recall: 1.000\n",
            "Precision: 1.000\n",
            "\n",
            "==============================\n",
            "\n",
            "Test set Evals:\n",
            "Accuracy: 0.895\n",
            "Recall: 0.939\n",
            "Precision: 0.917\n"
          ]
        }
      ]
    },
    {
      "cell_type": "code",
      "source": [
        "print(classification_report(y_test, knn_test_preds))\n",
        "ConfusionMatrixDisplay.from_predictions(y_test, knn_test_preds, normalize='true', cmap='Greens');"
      ],
      "metadata": {
        "colab": {
          "base_uri": "https://localhost:8080/",
          "height": 605
        },
        "id": "bG5Zm3akQRm9",
        "outputId": "bd7fcbc5-1da8-4879-f51f-9355756166d3"
      },
      "execution_count": null,
      "outputs": [
        {
          "output_type": "stream",
          "name": "stdout",
          "text": [
            "              precision    recall  f1-score   support\n",
            "\n",
            "           0       0.84      0.79      0.81      4469\n",
            "           1       0.92      0.94      0.93     11190\n",
            "\n",
            "    accuracy                           0.90     15659\n",
            "   macro avg       0.88      0.86      0.87     15659\n",
            "weighted avg       0.89      0.90      0.89     15659\n",
            "\n"
          ]
        },
        {
          "output_type": "display_data",
          "data": {
            "text/plain": [
              "<Figure size 640x480 with 2 Axes>"
            ],
            "image/png": "[encoded data removed]"
          },
          "metadata": {}
        }
      ]
    },
    {
      "cell_type": "markdown",
      "source": [
        "### kneighborsclassifier Model Tuning"
      ],
      "metadata": {
        "id": "X6D_RMFhQhCA"
      }
    },
    {
      "cell_type": "code",
      "source": [
        "knn.get_params()"
      ],
      "metadata": {
        "colab": {
          "base_uri": "https://localhost:8080/"
        },
        "id": "snyqkDQnQrHx",
        "outputId": "e1890883-96f0-4a69-85af-d2800f695588"
      },
      "execution_count": null,
      "outputs": [
        {
          "output_type": "execute_result",
          "data": {
            "text/plain": [
              "{'algorithm': 'auto',\n",
              " 'leaf_size': 30,\n",
              " 'metric': 'minkowski',\n",
              " 'metric_params': None,\n",
              " 'n_jobs': None,\n",
              " 'n_neighbors': 1,\n",
              " 'p': 2,\n",
              " 'weights': 'distance'}"
            ]
          },
          "metadata": {},
          "execution_count": 57
        }
      ]
    },
    {
      "cell_type": "code",
      "source": [
        "# Define the parameter grid for GridSearchCV\n",
        "knn_pipe_param_grid = {\n",
        "    'kneighborsclassifier__n_neighbors': [3, 5, 6, 7, 8, 10],\n",
        "    'kneighborsclassifier__metric': ['minkowski','euclidean','manhattan']\n",
        "}\n",
        "\n",
        "# Use GridSearchCV for hyperparameter tuning\n",
        "knn_pipe_grid = GridSearchCV(knn_pipe, knn_pipe_param_grid, cv=5)\n",
        "knn_pipe_grid.fit(X_train, y_train)\n",
        "\n",
        "# Use GridSearchCV for hyperparameter tuning\n",
        "knn_pipe_grid = GridSearchCV(knn_pipe, knn_pipe_param_grid, cv=5)\n",
        "knn_pipe_grid.fit(X_train, y_train)"
      ],
      "metadata": {
        "id": "wvm9WCgxQrbF",
        "colab": {
          "base_uri": "https://localhost:8080/",
          "height": 251
        },
        "outputId": "a569ccd4-173b-4cd9-d701-31a695b7f837"
      },
      "execution_count": null,
      "outputs": [
        {
          "output_type": "execute_result",
          "data": {
            "text/plain": [
              "GridSearchCV(cv=5,\n",
              "             estimator=Pipeline(steps=[('columntransformer',\n",
              "                                        ColumnTransformer(remainder='passthrough',\n",
              "                                                          transformers=[('numeric',\n",
              "                                                                         Pipeline(steps=[('simpleimputer',\n",
              "                                                                                          SimpleImputer(strategy='median')),\n",
              "                                                                                         ('standardscaler',\n",
              "                                                                                          StandardScaler())]),\n",
              "                                                                         Index(['UTC', 'Temperature[C]', 'Humidity[%]', 'eCO2[ppm]', 'Raw H2', 'PM1.0',\n",
              "       'PM2.5', 'NC0.5', 'NC1.0', 'NC2.5', 'CNT'],\n",
              "      dt...\n",
              "                                                                                                                      'Low']])),\n",
              "                                                                                         ('standardscaler',\n",
              "                                                                                          StandardScaler())]),\n",
              "                                                                         Index(['Raw Ethanol', 'Pressure[hPa]'], dtype='object'))],\n",
              "                                                          verbose_feature_names_out=False)),\n",
              "                                       ('kneighborsclassifier',\n",
              "                                        KNeighborsClassifier(n_neighbors=1,\n",
              "                                                             weights='distance'))]),\n",
              "             param_grid={'kneighborsclassifier__metric': ['minkowski',\n",
              "                                                          'euclidean',\n",
              "                                                          'manhattan'],\n",
              "                         'kneighborsclassifier__n_neighbors': [3, 5, 6, 7, 8,\n",
              "                                                               10]})"
            ],
            "text/html": [
              "<style>#sk-container-id-6 {color: black;background-color: white;}#sk-container-id-6 pre{padding: 0;}#sk-container-id-6 div.sk-toggleable {background-color: white;}#sk-container-id-6 label.sk-toggleable__label {cursor: pointer;display: block;width: 100%;margin-bottom: 0;padding: 0.3em;box-sizing: border-box;text-align: center;}#sk-container-id-6 label.sk-toggleable__label-arrow:before {content: \"▸\";float: left;margin-right: 0.25em;color: #696969;}#sk-container-id-6 label.sk-toggleable__label-arrow:hover:before {color: black;}#sk-container-id-6 div.sk-estimator:hover label.sk-toggleable__label-arrow:before {color: black;}#sk-container-id-6 div.sk-toggleable__content {max-height: 0;max-width: 0;overflow: hidden;text-align: left;background-color: #f0f8ff;}#sk-container-id-6 div.sk-toggleable__content pre {margin: 0.2em;color: black;border-radius: 0.25em;background-color: #f0f8ff;}#sk-container-id-6 input.sk-toggleable__control:checked~div.sk-toggleable__content {max-height: 200px;max-width: 100%;overflow: auto;}#sk-container-id-6 input.sk-toggleable__control:checked~label.sk-toggleable__label-arrow:before {content: \"▾\";}#sk-container-id-6 div.sk-estimator input.sk-toggleable__control:checked~label.sk-toggleable__label {background-color: #d4ebff;}#sk-container-id-6 div.sk-label input.sk-toggleable__control:checked~label.sk-toggleable__label {background-color: #d4ebff;}#sk-container-id-6 input.sk-hidden--visually {border: 0;clip: rect(1px 1px 1px 1px);clip: rect(1px, 1px, 1px, 1px);height: 1px;margin: -1px;overflow: hidden;padding: 0;position: absolute;width: 1px;}#sk-container-id-6 div.sk-estimator {font-family: monospace;background-color: #f0f8ff;border: 1px dotted black;border-radius: 0.25em;box-sizing: border-box;margin-bottom: 0.5em;}#sk-container-id-6 div.sk-estimator:hover {background-color: #d4ebff;}#sk-container-id-6 div.sk-parallel-item::after {content: \"\";width: 100%;border-bottom: 1px solid gray;flex-grow: 1;}#sk-container-id-6 div.sk-label:hover label.sk-toggleable__label {background-color: #d4ebff;}#sk-container-id-6 div.sk-serial::before {content: \"\";position: absolute;border-left: 1px solid gray;box-sizing: border-box;top: 0;bottom: 0;left: 50%;z-index: 0;}#sk-container-id-6 div.sk-serial {display: flex;flex-direction: column;align-items: center;background-color: white;padding-right: 0.2em;padding-left: 0.2em;position: relative;}#sk-container-id-6 div.sk-item {position: relative;z-index: 1;}#sk-container-id-6 div.sk-parallel {display: flex;align-items: stretch;justify-content: center;background-color: white;position: relative;}#sk-container-id-6 div.sk-item::before, #sk-container-id-6 div.sk-parallel-item::before {content: \"\";position: absolute;border-left: 1px solid gray;box-sizing: border-box;top: 0;bottom: 0;left: 50%;z-index: -1;}#sk-container-id-6 div.sk-parallel-item {display: flex;flex-direction: column;z-index: 1;position: relative;background-color: white;}#sk-container-id-6 div.sk-parallel-item:first-child::after {align-self: flex-end;width: 50%;}#sk-container-id-6 div.sk-parallel-item:last-child::after {align-self: flex-start;width: 50%;}#sk-container-id-6 div.sk-parallel-item:only-child::after {width: 0;}#sk-container-id-6 div.sk-dashed-wrapped {border: 1px dashed gray;margin: 0 0.4em 0.5em 0.4em;box-sizing: border-box;padding-bottom: 0.4em;background-color: white;}#sk-container-id-6 div.sk-label label {font-family: monospace;font-weight: bold;display: inline-block;line-height: 1.2em;}#sk-container-id-6 div.sk-label-container {text-align: center;}#sk-container-id-6 div.sk-container {/* jupyter's `normalize.less` sets `[hidden] { display: none; }` but bootstrap.min.css set `[hidden] { display: none !important; }` so we also need the `!important` here to be able to override the default hidden behavior on the sphinx rendered scikit-learn.org. See: https://github.com/scikit-learn/scikit-learn/issues/21755 */display: inline-block !important;position: relative;}#sk-container-id-6 div.sk-text-repr-fallback {display: none;}</style><div id=\"sk-container-id-6\" class=\"sk-top-container\"><div class=\"sk-text-repr-fallback\"><pre>GridSearchCV(cv=5,\n",
              "             estimator=Pipeline(steps=[(&#x27;columntransformer&#x27;,\n",
              "                                        ColumnTransformer(remainder=&#x27;passthrough&#x27;,\n",
              "                                                          transformers=[(&#x27;numeric&#x27;,\n",
              "                                                                         Pipeline(steps=[(&#x27;simpleimputer&#x27;,\n",
              "                                                                                          SimpleImputer(strategy=&#x27;median&#x27;)),\n",
              "                                                                                         (&#x27;standardscaler&#x27;,\n",
              "                                                                                          StandardScaler())]),\n",
              "                                                                         Index([&#x27;UTC&#x27;, &#x27;Temperature[C]&#x27;, &#x27;Humidity[%]&#x27;, &#x27;eCO2[ppm]&#x27;, &#x27;Raw H2&#x27;, &#x27;PM1.0&#x27;,\n",
              "       &#x27;PM2.5&#x27;, &#x27;NC0.5&#x27;, &#x27;NC1.0&#x27;, &#x27;NC2.5&#x27;, &#x27;CNT&#x27;],\n",
              "      dt...\n",
              "                                                                                                                      &#x27;Low&#x27;]])),\n",
              "                                                                                         (&#x27;standardscaler&#x27;,\n",
              "                                                                                          StandardScaler())]),\n",
              "                                                                         Index([&#x27;Raw Ethanol&#x27;, &#x27;Pressure[hPa]&#x27;], dtype=&#x27;object&#x27;))],\n",
              "                                                          verbose_feature_names_out=False)),\n",
              "                                       (&#x27;kneighborsclassifier&#x27;,\n",
              "                                        KNeighborsClassifier(n_neighbors=1,\n",
              "                                                             weights=&#x27;distance&#x27;))]),\n",
              "             param_grid={&#x27;kneighborsclassifier__metric&#x27;: [&#x27;minkowski&#x27;,\n",
              "                                                          &#x27;euclidean&#x27;,\n",
              "                                                          &#x27;manhattan&#x27;],\n",
              "                         &#x27;kneighborsclassifier__n_neighbors&#x27;: [3, 5, 6, 7, 8,\n",
              "                                                               10]})</pre><b>In a Jupyter environment, please rerun this cell to show the HTML representation or trust the notebook. <br />On GitHub, the HTML representation is unable to render, please try loading this page with nbviewer.org.</b></div><div class=\"sk-container\" hidden><div class=\"sk-item sk-dashed-wrapped\"><div class=\"sk-label-container\"><div class=\"sk-label sk-toggleable\"><input class=\"sk-toggleable__control sk-hidden--visually\" id=\"sk-estimator-id-55\" type=\"checkbox\" ><label for=\"sk-estimator-id-55\" class=\"sk-toggleable__label sk-toggleable__label-arrow\">GridSearchCV</label><div class=\"sk-toggleable__content\"><pre>GridSearchCV(cv=5,\n",
              "             estimator=Pipeline(steps=[(&#x27;columntransformer&#x27;,\n",
              "                                        ColumnTransformer(remainder=&#x27;passthrough&#x27;,\n",
              "                                                          transformers=[(&#x27;numeric&#x27;,\n",
              "                                                                         Pipeline(steps=[(&#x27;simpleimputer&#x27;,\n",
              "                                                                                          SimpleImputer(strategy=&#x27;median&#x27;)),\n",
              "                                                                                         (&#x27;standardscaler&#x27;,\n",
              "                                                                                          StandardScaler())]),\n",
              "                                                                         Index([&#x27;UTC&#x27;, &#x27;Temperature[C]&#x27;, &#x27;Humidity[%]&#x27;, &#x27;eCO2[ppm]&#x27;, &#x27;Raw H2&#x27;, &#x27;PM1.0&#x27;,\n",
              "       &#x27;PM2.5&#x27;, &#x27;NC0.5&#x27;, &#x27;NC1.0&#x27;, &#x27;NC2.5&#x27;, &#x27;CNT&#x27;],\n",
              "      dt...\n",
              "                                                                                                                      &#x27;Low&#x27;]])),\n",
              "                                                                                         (&#x27;standardscaler&#x27;,\n",
              "                                                                                          StandardScaler())]),\n",
              "                                                                         Index([&#x27;Raw Ethanol&#x27;, &#x27;Pressure[hPa]&#x27;], dtype=&#x27;object&#x27;))],\n",
              "                                                          verbose_feature_names_out=False)),\n",
              "                                       (&#x27;kneighborsclassifier&#x27;,\n",
              "                                        KNeighborsClassifier(n_neighbors=1,\n",
              "                                                             weights=&#x27;distance&#x27;))]),\n",
              "             param_grid={&#x27;kneighborsclassifier__metric&#x27;: [&#x27;minkowski&#x27;,\n",
              "                                                          &#x27;euclidean&#x27;,\n",
              "                                                          &#x27;manhattan&#x27;],\n",
              "                         &#x27;kneighborsclassifier__n_neighbors&#x27;: [3, 5, 6, 7, 8,\n",
              "                                                               10]})</pre></div></div></div><div class=\"sk-parallel\"><div class=\"sk-parallel-item\"><div class=\"sk-item\"><div class=\"sk-label-container\"><div class=\"sk-label sk-toggleable\"><input class=\"sk-toggleable__control sk-hidden--visually\" id=\"sk-estimator-id-56\" type=\"checkbox\" ><label for=\"sk-estimator-id-56\" class=\"sk-toggleable__label sk-toggleable__label-arrow\">estimator: Pipeline</label><div class=\"sk-toggleable__content\"><pre>Pipeline(steps=[(&#x27;columntransformer&#x27;,\n",
              "                 ColumnTransformer(remainder=&#x27;passthrough&#x27;,\n",
              "                                   transformers=[(&#x27;numeric&#x27;,\n",
              "                                                  Pipeline(steps=[(&#x27;simpleimputer&#x27;,\n",
              "                                                                   SimpleImputer(strategy=&#x27;median&#x27;)),\n",
              "                                                                  (&#x27;standardscaler&#x27;,\n",
              "                                                                   StandardScaler())]),\n",
              "                                                  Index([&#x27;UTC&#x27;, &#x27;Temperature[C]&#x27;, &#x27;Humidity[%]&#x27;, &#x27;eCO2[ppm]&#x27;, &#x27;Raw H2&#x27;, &#x27;PM1.0&#x27;,\n",
              "       &#x27;PM2.5&#x27;, &#x27;NC0.5&#x27;, &#x27;NC1.0&#x27;, &#x27;NC2.5&#x27;, &#x27;CNT&#x27;],\n",
              "      dtype=&#x27;object&#x27;)),\n",
              "                                                 (&#x27;ordinalFeature&#x27;,\n",
              "                                                  Pipeline(steps=[(&#x27;ordinalencoder&#x27;,\n",
              "                                                                   OrdinalEncoder(categories=[[&#x27;High&#x27;,\n",
              "                                                                                               &#x27;Medium&#x27;,\n",
              "                                                                                               &#x27;Low&#x27;,\n",
              "                                                                                               &#x27;Very &#x27;\n",
              "                                                                                               &#x27;Low&#x27;],\n",
              "                                                                                              [&#x27;High&#x27;,\n",
              "                                                                                               &#x27;Medium&#x27;,\n",
              "                                                                                               &#x27;Low&#x27;]])),\n",
              "                                                                  (&#x27;standardscaler&#x27;,\n",
              "                                                                   StandardScaler())]),\n",
              "                                                  Index([&#x27;Raw Ethanol&#x27;, &#x27;Pressure[hPa]&#x27;], dtype=&#x27;object&#x27;))],\n",
              "                                   verbose_feature_names_out=False)),\n",
              "                (&#x27;kneighborsclassifier&#x27;,\n",
              "                 KNeighborsClassifier(n_neighbors=1, weights=&#x27;distance&#x27;))])</pre></div></div></div><div class=\"sk-serial\"><div class=\"sk-item\"><div class=\"sk-serial\"><div class=\"sk-item sk-dashed-wrapped\"><div class=\"sk-label-container\"><div class=\"sk-label sk-toggleable\"><input class=\"sk-toggleable__control sk-hidden--visually\" id=\"sk-estimator-id-57\" type=\"checkbox\" ><label for=\"sk-estimator-id-57\" class=\"sk-toggleable__label sk-toggleable__label-arrow\">columntransformer: ColumnTransformer</label><div class=\"sk-toggleable__content\"><pre>ColumnTransformer(remainder=&#x27;passthrough&#x27;,\n",
              "                  transformers=[(&#x27;numeric&#x27;,\n",
              "                                 Pipeline(steps=[(&#x27;simpleimputer&#x27;,\n",
              "                                                  SimpleImputer(strategy=&#x27;median&#x27;)),\n",
              "                                                 (&#x27;standardscaler&#x27;,\n",
              "                                                  StandardScaler())]),\n",
              "                                 Index([&#x27;UTC&#x27;, &#x27;Temperature[C]&#x27;, &#x27;Humidity[%]&#x27;, &#x27;eCO2[ppm]&#x27;, &#x27;Raw H2&#x27;, &#x27;PM1.0&#x27;,\n",
              "       &#x27;PM2.5&#x27;, &#x27;NC0.5&#x27;, &#x27;NC1.0&#x27;, &#x27;NC2.5&#x27;, &#x27;CNT&#x27;],\n",
              "      dtype=&#x27;object&#x27;)),\n",
              "                                (&#x27;ordinalFeature&#x27;,\n",
              "                                 Pipeline(steps=[(&#x27;ordinalencoder&#x27;,\n",
              "                                                  OrdinalEncoder(categories=[[&#x27;High&#x27;,\n",
              "                                                                              &#x27;Medium&#x27;,\n",
              "                                                                              &#x27;Low&#x27;,\n",
              "                                                                              &#x27;Very &#x27;\n",
              "                                                                              &#x27;Low&#x27;],\n",
              "                                                                             [&#x27;High&#x27;,\n",
              "                                                                              &#x27;Medium&#x27;,\n",
              "                                                                              &#x27;Low&#x27;]])),\n",
              "                                                 (&#x27;standardscaler&#x27;,\n",
              "                                                  StandardScaler())]),\n",
              "                                 Index([&#x27;Raw Ethanol&#x27;, &#x27;Pressure[hPa]&#x27;], dtype=&#x27;object&#x27;))],\n",
              "                  verbose_feature_names_out=False)</pre></div></div></div><div class=\"sk-parallel\"><div class=\"sk-parallel-item\"><div class=\"sk-item\"><div class=\"sk-label-container\"><div class=\"sk-label sk-toggleable\"><input class=\"sk-toggleable__control sk-hidden--visually\" id=\"sk-estimator-id-58\" type=\"checkbox\" ><label for=\"sk-estimator-id-58\" class=\"sk-toggleable__label sk-toggleable__label-arrow\">numeric</label><div class=\"sk-toggleable__content\"><pre>Index([&#x27;UTC&#x27;, &#x27;Temperature[C]&#x27;, &#x27;Humidity[%]&#x27;, &#x27;eCO2[ppm]&#x27;, &#x27;Raw H2&#x27;, &#x27;PM1.0&#x27;,\n",
              "       &#x27;PM2.5&#x27;, &#x27;NC0.5&#x27;, &#x27;NC1.0&#x27;, &#x27;NC2.5&#x27;, &#x27;CNT&#x27;],\n",
              "      dtype=&#x27;object&#x27;)</pre></div></div></div><div class=\"sk-serial\"><div class=\"sk-item\"><div class=\"sk-serial\"><div class=\"sk-item\"><div class=\"sk-estimator sk-toggleable\"><input class=\"sk-toggleable__control sk-hidden--visually\" id=\"sk-estimator-id-59\" type=\"checkbox\" ><label for=\"sk-estimator-id-59\" class=\"sk-toggleable__label sk-toggleable__label-arrow\">SimpleImputer</label><div class=\"sk-toggleable__content\"><pre>SimpleImputer(strategy=&#x27;median&#x27;)</pre></div></div></div><div class=\"sk-item\"><div class=\"sk-estimator sk-toggleable\"><input class=\"sk-toggleable__control sk-hidden--visually\" id=\"sk-estimator-id-60\" type=\"checkbox\" ><label for=\"sk-estimator-id-60\" class=\"sk-toggleable__label sk-toggleable__label-arrow\">StandardScaler</label><div class=\"sk-toggleable__content\"><pre>StandardScaler()</pre></div></div></div></div></div></div></div></div><div class=\"sk-parallel-item\"><div class=\"sk-item\"><div class=\"sk-label-container\"><div class=\"sk-label sk-toggleable\"><input class=\"sk-toggleable__control sk-hidden--visually\" id=\"sk-estimator-id-61\" type=\"checkbox\" ><label for=\"sk-estimator-id-61\" class=\"sk-toggleable__label sk-toggleable__label-arrow\">ordinalFeature</label><div class=\"sk-toggleable__content\"><pre>Index([&#x27;Raw Ethanol&#x27;, &#x27;Pressure[hPa]&#x27;], dtype=&#x27;object&#x27;)</pre></div></div></div><div class=\"sk-serial\"><div class=\"sk-item\"><div class=\"sk-serial\"><div class=\"sk-item\"><div class=\"sk-estimator sk-toggleable\"><input class=\"sk-toggleable__control sk-hidden--visually\" id=\"sk-estimator-id-62\" type=\"checkbox\" ><label for=\"sk-estimator-id-62\" class=\"sk-toggleable__label sk-toggleable__label-arrow\">OrdinalEncoder</label><div class=\"sk-toggleable__content\"><pre>OrdinalEncoder(categories=[[&#x27;High&#x27;, &#x27;Medium&#x27;, &#x27;Low&#x27;, &#x27;Very Low&#x27;],\n",
              "                           [&#x27;High&#x27;, &#x27;Medium&#x27;, &#x27;Low&#x27;]])</pre></div></div></div><div class=\"sk-item\"><div class=\"sk-estimator sk-toggleable\"><input class=\"sk-toggleable__control sk-hidden--visually\" id=\"sk-estimator-id-63\" type=\"checkbox\" ><label for=\"sk-estimator-id-63\" class=\"sk-toggleable__label sk-toggleable__label-arrow\">StandardScaler</label><div class=\"sk-toggleable__content\"><pre>StandardScaler()</pre></div></div></div></div></div></div></div></div><div class=\"sk-parallel-item\"><div class=\"sk-item\"><div class=\"sk-label-container\"><div class=\"sk-label sk-toggleable\"><input class=\"sk-toggleable__control sk-hidden--visually\" id=\"sk-estimator-id-64\" type=\"checkbox\" ><label for=\"sk-estimator-id-64\" class=\"sk-toggleable__label sk-toggleable__label-arrow\">remainder</label><div class=\"sk-toggleable__content\"><pre>[]</pre></div></div></div><div class=\"sk-serial\"><div class=\"sk-item\"><div class=\"sk-estimator sk-toggleable\"><input class=\"sk-toggleable__control sk-hidden--visually\" id=\"sk-estimator-id-65\" type=\"checkbox\" ><label for=\"sk-estimator-id-65\" class=\"sk-toggleable__label sk-toggleable__label-arrow\">passthrough</label><div class=\"sk-toggleable__content\"><pre>passthrough</pre></div></div></div></div></div></div></div></div><div class=\"sk-item\"><div class=\"sk-estimator sk-toggleable\"><input class=\"sk-toggleable__control sk-hidden--visually\" id=\"sk-estimator-id-66\" type=\"checkbox\" ><label for=\"sk-estimator-id-66\" class=\"sk-toggleable__label sk-toggleable__label-arrow\">KNeighborsClassifier</label><div class=\"sk-toggleable__content\"><pre>KNeighborsClassifier(n_neighbors=1, weights=&#x27;distance&#x27;)</pre></div></div></div></div></div></div></div></div></div></div></div></div>"
            ]
          },
          "metadata": {},
          "execution_count": 61
        }
      ]
    },
    {
      "cell_type": "code",
      "source": [
        "knn_pipe_grid.best_params_"
      ],
      "metadata": {
        "colab": {
          "base_uri": "https://localhost:8080/"
        },
        "id": "c_rPEnXOMqyg",
        "outputId": "8f889ba6-f9cd-4742-cbf8-ec905e34de8d"
      },
      "execution_count": null,
      "outputs": [
        {
          "output_type": "execute_result",
          "data": {
            "text/plain": [
              "{'kneighborsclassifier__metric': 'manhattan',\n",
              " 'kneighborsclassifier__n_neighbors': 6}"
            ]
          },
          "metadata": {},
          "execution_count": 62
        }
      ]
    },
    {
      "cell_type": "code",
      "source": [
        "#retrieve the best version of the model\n",
        "knn_best_model = knn_pipe_grid.best_estimator_\n",
        "\n",
        "#refit the model on the whole training set\n",
        "knn_best_model.fit(X_train, y_train)\n",
        "# prediction\n",
        "knn_best_model_train_pred = knn_best_model.predict(X_train)\n",
        "knn_best_model_test_pred = knn_best_model.predict(X_test)\n",
        "\n",
        "#score the model on the test set\n",
        "knn_best_model.score(X_test, y_test)"
      ],
      "metadata": {
        "colab": {
          "base_uri": "https://localhost:8080/"
        },
        "id": "jPTx4pYgMxiC",
        "outputId": "6407a19a-acf8-4677-f05a-4c90a271f248"
      },
      "execution_count": null,
      "outputs": [
        {
          "output_type": "execute_result",
          "data": {
            "text/plain": [
              "0.9210677565617217"
            ]
          },
          "metadata": {},
          "execution_count": 63
        }
      ]
    },
    {
      "cell_type": "code",
      "source": [
        "#evaluation metrics\n",
        "print_evaluation_metrics('KNN tuned', y_train, knn_best_model_train_pred, y_test, knn_best_model_test_pred)"
      ],
      "metadata": {
        "colab": {
          "base_uri": "https://localhost:8080/"
        },
        "id": "ki4z7LYyNJuG",
        "outputId": "02f39bf0-5371-4e49-e3b4-26c8b35c7286"
      },
      "execution_count": null,
      "outputs": [
        {
          "output_type": "stream",
          "name": "stdout",
          "text": [
            "KNN tuned Evaluation Metrics:\n",
            "\n",
            "Training set Evals:\n",
            "Accuracy: 1.000\n",
            "Recall: 1.000\n",
            "Precision: 1.000\n",
            "\n",
            "==============================\n",
            "\n",
            "Test set Evals:\n",
            "Accuracy: 0.921\n",
            "Recall: 0.977\n",
            "Precision: 0.918\n"
          ]
        }
      ]
    },
    {
      "cell_type": "code",
      "source": [
        "print(classification_report(y_test, knn_best_model_test_pred))\n",
        "ConfusionMatrixDisplay.from_predictions(y_test, knn_best_model_test_pred, normalize='true', cmap='Greens');"
      ],
      "metadata": {
        "colab": {
          "base_uri": "https://localhost:8080/",
          "height": 605
        },
        "id": "MT-M6nv_Njp1",
        "outputId": "bfcd8ced-d0d4-4293-d9b6-2f7c6b81f50e"
      },
      "execution_count": null,
      "outputs": [
        {
          "output_type": "stream",
          "name": "stdout",
          "text": [
            "              precision    recall  f1-score   support\n",
            "\n",
            "           0       0.93      0.78      0.85      4469\n",
            "           1       0.92      0.98      0.95     11190\n",
            "\n",
            "    accuracy                           0.92     15659\n",
            "   macro avg       0.92      0.88      0.90     15659\n",
            "weighted avg       0.92      0.92      0.92     15659\n",
            "\n"
          ]
        },
        {
          "output_type": "display_data",
          "data": {
            "text/plain": [
              "<Figure size 640x480 with 2 Axes>"
            ],
            "image/png": "[encoded data removed]"
          },
          "metadata": {}
        }
      ]
    },
    {
      "cell_type": "markdown",
      "source": [
        "\n",
        "\n",
        "##Final model selection"
      ],
      "metadata": {
        "id": "N344Y9sgh8oP"
      }
    },
    {
      "cell_type": "markdown",
      "source": [
        "- What do 'false positives' and 'false negatives' mean for this problem? Which is worse?\n",
        "\n",
        "  - 'false positives'= there is no fire but the alarm is ON.\n",
        "  - 'false negatives'= There is fire but the alarm is Off.\n",
        "\n",
        "the false negatives are definitely worse because they are a main source of risk.\n",
        "\n",
        "- Which of your models would you recommend for production? Which metric or metrics did you use to decide that, and why?\n",
        "\n",
        "   - (decision tree is the best model because i have ..)\n",
        "\n",
        "   - Tuned k-nearest neighbors Model is the recommended model for fire detection:\n",
        "     - it is accurancy (0.92) is better than the one of Tuned Logistic Regression (0.87)\n",
        "    - metrics recall and precision are important in this case. A higher recall means fewer false negative predictions, also known as type 2 errors, which mean a lower risk that the alarm is off when actualy there is a fire and a high precision means fewer type 1 errors, or fewer false positives, which mean a lower risk to turn on the alarm while there is no fire.\n",
        "\n",
        "    - in the Tuned k-nearest neighbors Model, testing recall is 0.977 and testing precision is 0.918, which is a better result than the one obtained from the other model(Vs recall=0.975 and precision=0.868 for tuned logistic regression)."
      ],
      "metadata": {
        "id": "Eyv84dGszHvh"
      }
    }
  ],
  "metadata": {
    "colab": {
      "provenance": [],
      "toc_visible": true,
      "include_colab_link": true
    },
    "kernelspec": {
      "display_name": "Python 3",
      "name": "python3"
    },
    "language_info": {
      "name": "python"
    }
  },
  "nbformat": 4,
  "nbformat_minor": 0
}